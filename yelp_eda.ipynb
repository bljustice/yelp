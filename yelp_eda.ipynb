{
 "cells": [
  {
   "cell_type": "code",
   "execution_count": 2,
   "metadata": {
    "collapsed": true
   },
   "outputs": [],
   "source": [
    "import json\n",
    "import pandas as pd\n",
    "import cufflinks as cf\n",
    "from plotly.graph_objs import Table\n",
    "from plotly.offline import download_plotlyjs, init_notebook_mode, iplot"
   ]
  },
  {
   "cell_type": "code",
   "execution_count": 36,
   "metadata": {},
   "outputs": [
    {
     "data": {
      "text/html": [
       "<script>requirejs.config({paths: { 'plotly': ['https://cdn.plot.ly/plotly-latest.min']},});if(!window.Plotly) {{require(['plotly'],function(plotly) {window.Plotly=plotly;});}}</script>"
      ],
      "text/vnd.plotly.v1+html": [
       "<script>requirejs.config({paths: { 'plotly': ['https://cdn.plot.ly/plotly-latest.min']},});if(!window.Plotly) {{require(['plotly'],function(plotly) {window.Plotly=plotly;});}}</script>"
      ]
     },
     "metadata": {},
     "output_type": "display_data"
    },
    {
     "name": "stderr",
     "output_type": "stream",
     "text": [
      "IOPub data rate exceeded.\n",
      "The notebook server will temporarily stop sending output\n",
      "to the client in order to avoid crashing it.\n",
      "To change this limit, set the config variable\n",
      "`--NotebookApp.iopub_data_rate_limit`.\n"
     ]
    }
   ],
   "source": [
    "init_notebook_mode(connected=True)\n",
    "cf.set_config_file(theme='white')\n",
    "cf.go_offline()\n",
    "colorscale = map(lambda x: x, cf.colors.get_scales('accent'))"
   ]
  },
  {
   "cell_type": "code",
   "execution_count": 4,
   "metadata": {
    "collapsed": true
   },
   "outputs": [],
   "source": [
    "def print_head(f, size=1):\n",
    "    with open(f) as read_file:\n",
    "        print([next(read_file) for _ in range(size)])"
   ]
  },
  {
   "cell_type": "code",
   "execution_count": 5,
   "metadata": {},
   "outputs": [
    {
     "name": "stdout",
     "output_type": "stream",
     "text": [
      "['{\"review_id\":\"VfBHSwC5Vz_pbFluy07i9Q\",\"user_id\":\"cjpdDjZyprfyDG3RlkVG3w\",\"business_id\":\"uYHaNptLzDLoV_JZ_MuzUA\",\"stars\":5,\"date\":\"2016-07-12\",\"text\":\"My girlfriend and I stayed here for 3 nights and loved it. The location of this hotel and very decent price makes this an amazing deal. When you walk out the front door Scott Monument and Princes street are right in front of you, Edinburgh Castle and the Royal Mile is a 2 minute walk via a close right around the corner, and there are so many hidden gems nearby including Calton Hill and the newly opened Arches that made this location incredible.\\\\n\\\\nThe hotel itself was also very nice with a reasonably priced bar, very considerate staff, and small but comfortable rooms with excellent bathrooms and showers. Only two minor complaints are no telephones in room for room service (not a huge deal for us) and no AC in the room, but they have huge windows which can be fully opened. The staff were incredible though, letting us borrow umbrellas for the rain, giving us maps and directions, and also when we had lost our only UK adapter for charging our phones gave us a very fancy one for free.\\\\n\\\\nI would highly recommend this hotel to friends, and when I return to Edinburgh (which I most definitely will) I will be staying here without any hesitation.\",\"useful\":0,\"funny\":0,\"cool\":0}\\n']\n"
     ]
    }
   ],
   "source": [
    "print_head('review.json')"
   ]
  },
  {
   "cell_type": "code",
   "execution_count": 6,
   "metadata": {},
   "outputs": [
    {
     "name": "stdout",
     "output_type": "stream",
     "text": [
      "['{\"business_id\": \"YDf95gJZaq05wvo7hTQbbQ\", \"name\": \"Richmond Town Square\", \"neighborhood\": \"\", \"address\": \"691 Richmond Rd\", \"city\": \"Richmond Heights\", \"state\": \"OH\", \"postal_code\": \"44143\", \"latitude\": 41.5417162, \"longitude\": -81.4931165, \"stars\": 2.0, \"review_count\": 17, \"is_open\": 1, \"attributes\": {\"RestaurantsPriceRange2\": 2, \"BusinessParking\": {\"garage\": false, \"street\": false, \"validated\": false, \"lot\": true, \"valet\": false}, \"BikeParking\": true, \"WheelchairAccessible\": true}, \"categories\": [\"Shopping\", \"Shopping Centers\"], \"hours\": {\"Monday\": \"10:00-21:00\", \"Tuesday\": \"10:00-21:00\", \"Friday\": \"10:00-21:00\", \"Wednesday\": \"10:00-21:00\", \"Thursday\": \"10:00-21:00\", \"Sunday\": \"11:00-18:00\", \"Saturday\": \"10:00-21:00\"}}\\n']\n"
     ]
    }
   ],
   "source": [
    "print_head('business.json')"
   ]
  },
  {
   "cell_type": "code",
   "execution_count": 7,
   "metadata": {
    "collapsed": true
   },
   "outputs": [],
   "source": [
    "def get_file_size(f):\n",
    "    line_count = 0\n",
    "    with open(f, 'r') as read_file:\n",
    "        return sum(1 for _ in read_file)"
   ]
  },
  {
   "cell_type": "code",
   "execution_count": 8,
   "metadata": {},
   "outputs": [
    {
     "name": "stdout",
     "output_type": "stream",
     "text": [
      "Total number of businesses: 156639\n",
      "Total number of reviews 4736897\n"
     ]
    }
   ],
   "source": [
    "print('Total number of businesses:', get_file_size('business.json'))\n",
    "print('Total number of reviews', get_file_size('review.json'))"
   ]
  },
  {
   "cell_type": "markdown",
   "metadata": {},
   "source": [
    "## Load Data "
   ]
  },
  {
   "cell_type": "code",
   "execution_count": 9,
   "metadata": {
    "collapsed": true
   },
   "outputs": [],
   "source": [
    "def extract_data(f):\n",
    "    with open(f, 'r') as read_file:\n",
    "        for _ in read_file:\n",
    "            yield json.loads(_)"
   ]
  },
  {
   "cell_type": "code",
   "execution_count": 10,
   "metadata": {
    "collapsed": true
   },
   "outputs": [],
   "source": [
    "business_df = pd.io.json.json_normalize(list(extract_data('business.json')))"
   ]
  },
  {
   "cell_type": "code",
   "execution_count": 11,
   "metadata": {},
   "outputs": [
    {
     "data": {
      "text/plain": [
       "(156639, 101)"
      ]
     },
     "execution_count": 11,
     "metadata": {},
     "output_type": "execute_result"
    }
   ],
   "source": [
    "business_df.shape"
   ]
  },
  {
   "cell_type": "code",
   "execution_count": 12,
   "metadata": {
    "collapsed": true
   },
   "outputs": [],
   "source": [
    "#edit city\n",
    "def audit_cities(row, city_map):\n",
    "    for k in city_map:\n",
    "        if k in row:\n",
    "            return row.replace(k, city_map[k])\n",
    "    return row"
   ]
  },
  {
   "cell_type": "code",
   "execution_count": 13,
   "metadata": {
    "collapsed": true
   },
   "outputs": [],
   "source": [
    "city_map = json.loads(open('businessEdits.json', 'r').read())\n",
    "business_df['city'] = business_df['city'].str.lower().str.strip()\n",
    "business_df['city'] = business_df['city']\\\n",
    "                        .apply(lambda x: audit_cities(x, city_map))\n",
    "business_df['state'] = business_df['state'].str.upper().str.strip()\n",
    "#handle pittsburgh misspelling\n",
    "business_df.loc[business_df.city == 'pittsburghh', 'city'] = 'pittsburgh'"
   ]
  },
  {
   "cell_type": "markdown",
   "metadata": {},
   "source": [
    "## State and City Data "
   ]
  },
  {
   "cell_type": "code",
   "execution_count": 14,
   "metadata": {},
   "outputs": [
    {
     "data": {
      "text/plain": [
       "156639"
      ]
     },
     "execution_count": 14,
     "metadata": {},
     "output_type": "execute_result"
    }
   ],
   "source": [
    "business_df.state.count()"
   ]
  },
  {
   "cell_type": "code",
   "execution_count": 15,
   "metadata": {},
   "outputs": [
    {
     "data": {
      "application/vnd.plotly.v1+json": {
       "data": [
        {
         "cells": {
          "align": "middle",
          "values": [
           [
            51
           ],
           [
            849
           ],
           [
            30
           ]
          ]
         },
         "header": {
          "values": [
           "Total State/Province Count",
           "Total City Count",
           "Avg # of Reviews"
          ]
         },
         "type": "table"
        }
       ],
       "layout": {}
      },
      "text/html": [
       "<div id=\"a85c4e4b-7bf4-49ec-bfea-2b48821882f6\" style=\"height: 525px; width: 100%;\" class=\"plotly-graph-div\"></div><script type=\"text/javascript\">require([\"plotly\"], function(Plotly) { window.PLOTLYENV=window.PLOTLYENV || {};window.PLOTLYENV.BASE_URL=\"https://plot.ly\";Plotly.newPlot(\"a85c4e4b-7bf4-49ec-bfea-2b48821882f6\", [{\"type\": \"table\", \"header\": {\"values\": [\"Total State/Province Count\", \"Total City Count\", \"Avg # of Reviews\"]}, \"cells\": {\"values\": [[51], [849], [30.0]], \"align\": \"middle\"}}], {}, {\"showLink\": true, \"linkText\": \"Export to plot.ly\"})});</script>"
      ],
      "text/vnd.plotly.v1+html": [
       "<div id=\"a85c4e4b-7bf4-49ec-bfea-2b48821882f6\" style=\"height: 525px; width: 100%;\" class=\"plotly-graph-div\"></div><script type=\"text/javascript\">require([\"plotly\"], function(Plotly) { window.PLOTLYENV=window.PLOTLYENV || {};window.PLOTLYENV.BASE_URL=\"https://plot.ly\";Plotly.newPlot(\"a85c4e4b-7bf4-49ec-bfea-2b48821882f6\", [{\"type\": \"table\", \"header\": {\"values\": [\"Total State/Province Count\", \"Total City Count\", \"Avg # of Reviews\"]}, \"cells\": {\"values\": [[51], [849], [30.0]], \"align\": \"middle\"}}], {}, {\"showLink\": true, \"linkText\": \"Export to plot.ly\"})});</script>"
      ]
     },
     "metadata": {},
     "output_type": "display_data"
    }
   ],
   "source": [
    "stat_table = Table(\n",
    "    header = {\n",
    "        'values': ['Total State/Province Count', 'Total City Count', 'Avg # of Reviews']\n",
    "    }, \n",
    "    cells = {\n",
    "        'values': [\n",
    "            [len(business_df.state.unique())], \n",
    "            [len(business_df.city.unique())], \n",
    "            [round(business_df.review_count.mean(), 0)]\n",
    "        ], \n",
    "        'align': 'middle'\n",
    "    }\n",
    ")\n",
    "iplot([stat_table])"
   ]
  },
  {
   "cell_type": "code",
   "execution_count": 41,
   "metadata": {},
   "outputs": [
    {
     "data": {
      "application/vnd.plotly.v1+json": {
       "data": [
        {
         "autocolorscale": false,
         "colorbar": {
          "title": "Review Count"
         },
         "colorscale": [
          [
           0,
           "rgb(222,235,247)"
          ],
          [
           1,
           "rgb(8,81,156)"
          ]
         ],
         "locationmode": "USA-states",
         "locations": [
          "AZ",
          "NV",
          "ON",
          "NC",
          "OH",
          "PA",
          "QC",
          "WI",
          "EDH",
          "BW",
          "IL",
          "SC",
          "MLN",
          "HLD",
          "FIF",
          "NYK",
          "ELN",
          "WLN",
          "C",
          "NY",
          "ESX",
          "NI",
          "ST",
          "01",
          "CA",
          "SCB",
          "BY",
          "WA",
          "AL",
          "NTH",
          "ABE",
          "XGL",
          "RCC",
          "3",
          "SL",
          "ZET",
          "FLN",
          "GLG",
          "FAL",
          "NLK",
          "DE",
          "FL",
          "WHT",
          "NE",
          "VT",
          "PKN",
          "TAM",
          "75",
          "KHL",
          "STG",
          "HH"
         ],
         "marker": {
          "line": {
           "color": "rgb(255, 255, 255)",
           "width": 2
          }
         },
         "text": [
          47376,
          30571,
          26520,
          11299,
          10930,
          8916,
          7273,
          4190,
          3561,
          3071,
          1667,
          583,
          185,
          175,
          73,
          42,
          42,
          36,
          32,
          15,
          11,
          11,
          9,
          6,
          6,
          5,
          4,
          3,
          2,
          2,
          2,
          2,
          1,
          1,
          1,
          1,
          1,
          1,
          1,
          1,
          1,
          1,
          1,
          1,
          1,
          1,
          1,
          1,
          1,
          1,
          1
         ],
         "type": "choropleth",
         "z": [
          47376,
          30571,
          26520,
          11299,
          10930,
          8916,
          7273,
          4190,
          3561,
          3071,
          1667,
          583,
          185,
          175,
          73,
          42,
          42,
          36,
          32,
          15,
          11,
          11,
          9,
          6,
          6,
          5,
          4,
          3,
          2,
          2,
          2,
          2,
          1,
          1,
          1,
          1,
          1,
          1,
          1,
          1,
          1,
          1,
          1,
          1,
          1,
          1,
          1,
          1,
          1,
          1,
          1
         ]
        }
       ],
       "layout": {
        "geo": {
         "projection": {
          "type": "albers usa"
         },
         "scope": "usa"
        },
        "title": "Location of USA Businesses in Dataset"
       }
      },
      "text/html": [
       "<div id=\"6d92b7d7-9b36-4999-9199-0ec11802eb45\" style=\"height: 525px; width: 100%;\" class=\"plotly-graph-div\"></div><script type=\"text/javascript\">require([\"plotly\"], function(Plotly) { window.PLOTLYENV=window.PLOTLYENV || {};window.PLOTLYENV.BASE_URL=\"https://plot.ly\";Plotly.newPlot(\"6d92b7d7-9b36-4999-9199-0ec11802eb45\", [{\"type\": \"choropleth\", \"colorscale\": [[0, \"rgb(222,235,247)\"], [1, \"rgb(8,81,156)\"]], \"autocolorscale\": false, \"locations\": [\"AZ\", \"NV\", \"ON\", \"NC\", \"OH\", \"PA\", \"QC\", \"WI\", \"EDH\", \"BW\", \"IL\", \"SC\", \"MLN\", \"HLD\", \"FIF\", \"NYK\", \"ELN\", \"WLN\", \"C\", \"NY\", \"ESX\", \"NI\", \"ST\", \"01\", \"CA\", \"SCB\", \"BY\", \"WA\", \"AL\", \"NTH\", \"ABE\", \"XGL\", \"RCC\", \"3\", \"SL\", \"ZET\", \"FLN\", \"GLG\", \"FAL\", \"NLK\", \"DE\", \"FL\", \"WHT\", \"NE\", \"VT\", \"PKN\", \"TAM\", \"75\", \"KHL\", \"STG\", \"HH\"], \"z\": [47376.0, 30571.0, 26520.0, 11299.0, 10930.0, 8916.0, 7273.0, 4190.0, 3561.0, 3071.0, 1667.0, 583.0, 185.0, 175.0, 73.0, 42.0, 42.0, 36.0, 32.0, 15.0, 11.0, 11.0, 9.0, 6.0, 6.0, 5.0, 4.0, 3.0, 2.0, 2.0, 2.0, 2.0, 1.0, 1.0, 1.0, 1.0, 1.0, 1.0, 1.0, 1.0, 1.0, 1.0, 1.0, 1.0, 1.0, 1.0, 1.0, 1.0, 1.0, 1.0, 1.0], \"locationmode\": \"USA-states\", \"text\": [47376, 30571, 26520, 11299, 10930, 8916, 7273, 4190, 3561, 3071, 1667, 583, 185, 175, 73, 42, 42, 36, 32, 15, 11, 11, 9, 6, 6, 5, 4, 3, 2, 2, 2, 2, 1, 1, 1, 1, 1, 1, 1, 1, 1, 1, 1, 1, 1, 1, 1, 1, 1, 1, 1], \"marker\": {\"line\": {\"color\": \"rgb(255, 255, 255)\", \"width\": 2}}, \"colorbar\": {\"title\": \"Review Count\"}}], {\"title\": \"Location of USA Businesses in Dataset\", \"geo\": {\"scope\": \"usa\", \"projection\": {\"type\": \"albers usa\"}}}, {\"showLink\": true, \"linkText\": \"Export to plot.ly\"})});</script>"
      ],
      "text/vnd.plotly.v1+html": [
       "<div id=\"6d92b7d7-9b36-4999-9199-0ec11802eb45\" style=\"height: 525px; width: 100%;\" class=\"plotly-graph-div\"></div><script type=\"text/javascript\">require([\"plotly\"], function(Plotly) { window.PLOTLYENV=window.PLOTLYENV || {};window.PLOTLYENV.BASE_URL=\"https://plot.ly\";Plotly.newPlot(\"6d92b7d7-9b36-4999-9199-0ec11802eb45\", [{\"type\": \"choropleth\", \"colorscale\": [[0, \"rgb(222,235,247)\"], [1, \"rgb(8,81,156)\"]], \"autocolorscale\": false, \"locations\": [\"AZ\", \"NV\", \"ON\", \"NC\", \"OH\", \"PA\", \"QC\", \"WI\", \"EDH\", \"BW\", \"IL\", \"SC\", \"MLN\", \"HLD\", \"FIF\", \"NYK\", \"ELN\", \"WLN\", \"C\", \"NY\", \"ESX\", \"NI\", \"ST\", \"01\", \"CA\", \"SCB\", \"BY\", \"WA\", \"AL\", \"NTH\", \"ABE\", \"XGL\", \"RCC\", \"3\", \"SL\", \"ZET\", \"FLN\", \"GLG\", \"FAL\", \"NLK\", \"DE\", \"FL\", \"WHT\", \"NE\", \"VT\", \"PKN\", \"TAM\", \"75\", \"KHL\", \"STG\", \"HH\"], \"z\": [47376.0, 30571.0, 26520.0, 11299.0, 10930.0, 8916.0, 7273.0, 4190.0, 3561.0, 3071.0, 1667.0, 583.0, 185.0, 175.0, 73.0, 42.0, 42.0, 36.0, 32.0, 15.0, 11.0, 11.0, 9.0, 6.0, 6.0, 5.0, 4.0, 3.0, 2.0, 2.0, 2.0, 2.0, 1.0, 1.0, 1.0, 1.0, 1.0, 1.0, 1.0, 1.0, 1.0, 1.0, 1.0, 1.0, 1.0, 1.0, 1.0, 1.0, 1.0, 1.0, 1.0], \"locationmode\": \"USA-states\", \"text\": [47376, 30571, 26520, 11299, 10930, 8916, 7273, 4190, 3561, 3071, 1667, 583, 185, 175, 73, 42, 42, 36, 32, 15, 11, 11, 9, 6, 6, 5, 4, 3, 2, 2, 2, 2, 1, 1, 1, 1, 1, 1, 1, 1, 1, 1, 1, 1, 1, 1, 1, 1, 1, 1, 1], \"marker\": {\"line\": {\"color\": \"rgb(255, 255, 255)\", \"width\": 2}}, \"colorbar\": {\"title\": \"Review Count\"}}], {\"title\": \"Location of USA Businesses in Dataset\", \"geo\": {\"scope\": \"usa\", \"projection\": {\"type\": \"albers usa\"}}}, {\"showLink\": true, \"linkText\": \"Export to plot.ly\"})});</script>"
      ]
     },
     "metadata": {},
     "output_type": "display_data"
    }
   ],
   "source": [
    "val_df = business_df.state.value_counts().reset_index()\n",
    "data = [\n",
    "    {\n",
    "        'type': 'choropleth',\n",
    "        'colorscale': [[0, 'rgb(222,235,247)'], [1, 'rgb(8,81,156)']],\n",
    "        'autocolorscale': False, \n",
    "        'locations': val_df['index'].astype(str), \n",
    "        'z': val_df.state.astype(float),\n",
    "        'locationmode': 'USA-states',\n",
    "        'text': val_df.state,\n",
    "        'marker': {\n",
    "            'line': {\n",
    "                'color': 'rgb(255, 255, 255)',\n",
    "                'width': 2\n",
    "            }\n",
    "        },\n",
    "        'colorbar': {\n",
    "            'title': 'Review Count'\n",
    "        }\n",
    "    }\n",
    "]\n",
    "layout = {\n",
    "    'title': 'Location of USA Businesses in Dataset', \n",
    "    'geo': {\n",
    "        'scope': 'usa',\n",
    "        'projection': {\n",
    "            'type': 'albers usa',\n",
    "        }\n",
    "    }\n",
    "}\n",
    "fig = {'data': data, 'layout': layout}\n",
    "iplot(fig)"
   ]
  },
  {
   "cell_type": "code",
   "execution_count": 17,
   "metadata": {},
   "outputs": [
    {
     "data": {
      "application/vnd.plotly.v1+json": {
       "data": [
        {
         "marker": {
          "color": "rgba(55, 128, 191, 0.6)",
          "line": {
           "color": "rgba(55, 128, 191, 1.0)",
           "width": 1
          }
         },
         "name": "state",
         "orientation": "v",
         "text": "",
         "type": "bar",
         "x": [
          "AZ",
          "NV",
          "ON",
          "NC",
          "OH",
          "PA",
          "QC",
          "WI",
          "EDH",
          "BW"
         ],
         "xaxis": "x1",
         "y": [
          47376,
          30571,
          26520,
          11299,
          10930,
          8916,
          7273,
          4190,
          3561,
          3071
         ],
         "yaxis": "y1"
        },
        {
         "marker": {
          "color": "rgba(55, 128, 191, 0.6)",
          "line": {
           "color": "rgba(55, 128, 191, 1.0)",
           "width": 1
          }
         },
         "name": "city",
         "orientation": "v",
         "text": "",
         "type": "bar",
         "x": [
          "las vegas",
          "phoenix",
          "toronto",
          "charlotte",
          "scottsdale",
          "pittsburgh",
          "montréal",
          "mesa",
          "henderson",
          "tempe"
         ],
         "xaxis": "x2",
         "y": [
          26100,
          15666,
          15491,
          7560,
          7521,
          5693,
          5411,
          5243,
          4134,
          3950
         ],
         "yaxis": "y2"
        }
       ],
       "layout": {
        "annotations": [
         {
          "font": {
           "size": 16
          },
          "showarrow": false,
          "text": "Top 10 States by Business Count",
          "x": 0.225,
          "xanchor": "center",
          "xref": "paper",
          "y": 1,
          "yanchor": "bottom",
          "yref": "paper"
         },
         {
          "font": {
           "size": 16
          },
          "showarrow": false,
          "text": "Top 10 Cities by Business Count",
          "x": 0.775,
          "xanchor": "center",
          "xref": "paper",
          "y": 1,
          "yanchor": "bottom",
          "yref": "paper"
         }
        ],
        "legend": {
         "bgcolor": "#FFFFFF",
         "font": {
          "color": "#4D5663"
         }
        },
        "paper_bgcolor": "#FFFFFF",
        "plot_bgcolor": "#FFFFFF",
        "showlegend": false,
        "titlefont": {
         "color": "#4D5663"
        },
        "xaxis1": {
         "anchor": "y1",
         "domain": [
          0,
          0.45
         ],
         "gridcolor": "#E1E5ED",
         "showgrid": true,
         "tickfont": {
          "color": "#4D5663"
         },
         "title": "",
         "titlefont": {
          "color": "#4D5663"
         },
         "zerolinecolor": "#E1E5ED"
        },
        "xaxis2": {
         "anchor": "y2",
         "domain": [
          0.55,
          1
         ]
        },
        "yaxis1": {
         "anchor": "x1",
         "domain": [
          0,
          1
         ],
         "gridcolor": "#E1E5ED",
         "showgrid": true,
         "tickfont": {
          "color": "#4D5663"
         },
         "title": "",
         "titlefont": {
          "color": "#4D5663"
         },
         "zerolinecolor": "#E1E5ED"
        },
        "yaxis2": {
         "anchor": "x2",
         "domain": [
          0,
          1
         ]
        }
       }
      },
      "text/html": [
       "<div id=\"aba03ca8-4d3b-4baf-8fdf-81618f61a77c\" style=\"height: 525px; width: 100%;\" class=\"plotly-graph-div\"></div><script type=\"text/javascript\">require([\"plotly\"], function(Plotly) { window.PLOTLYENV=window.PLOTLYENV || {};window.PLOTLYENV.BASE_URL=\"https://plot.ly\";Plotly.newPlot(\"aba03ca8-4d3b-4baf-8fdf-81618f61a77c\", [{\"type\": \"bar\", \"x\": [\"AZ\", \"NV\", \"ON\", \"NC\", \"OH\", \"PA\", \"QC\", \"WI\", \"EDH\", \"BW\"], \"y\": [47376, 30571, 26520, 11299, 10930, 8916, 7273, 4190, 3561, 3071], \"name\": \"state\", \"text\": \"\", \"marker\": {\"color\": \"rgba(55, 128, 191, 0.6)\", \"line\": {\"color\": \"rgba(55, 128, 191, 1.0)\", \"width\": 1}}, \"orientation\": \"v\", \"xaxis\": \"x1\", \"yaxis\": \"y1\"}, {\"type\": \"bar\", \"x\": [\"las vegas\", \"phoenix\", \"toronto\", \"charlotte\", \"scottsdale\", \"pittsburgh\", \"montr\\u00e9al\", \"mesa\", \"henderson\", \"tempe\"], \"y\": [26100, 15666, 15491, 7560, 7521, 5693, 5411, 5243, 4134, 3950], \"name\": \"city\", \"text\": \"\", \"marker\": {\"color\": \"rgba(55, 128, 191, 0.6)\", \"line\": {\"color\": \"rgba(55, 128, 191, 1.0)\", \"width\": 1}}, \"orientation\": \"v\", \"xaxis\": \"x2\", \"yaxis\": \"y2\"}], {\"xaxis1\": {\"domain\": [0.0, 0.45], \"anchor\": \"y1\", \"tickfont\": {\"color\": \"#4D5663\"}, \"gridcolor\": \"#E1E5ED\", \"titlefont\": {\"color\": \"#4D5663\"}, \"zerolinecolor\": \"#E1E5ED\", \"showgrid\": true, \"title\": \"\"}, \"yaxis1\": {\"domain\": [0.0, 1.0], \"anchor\": \"x1\", \"tickfont\": {\"color\": \"#4D5663\"}, \"gridcolor\": \"#E1E5ED\", \"titlefont\": {\"color\": \"#4D5663\"}, \"zerolinecolor\": \"#E1E5ED\", \"showgrid\": true, \"title\": \"\"}, \"xaxis2\": {\"domain\": [0.55, 1.0], \"anchor\": \"y2\"}, \"yaxis2\": {\"domain\": [0.0, 1.0], \"anchor\": \"x2\"}, \"annotations\": [{\"y\": 1.0, \"xref\": \"paper\", \"x\": 0.225, \"yref\": \"paper\", \"text\": \"Top 10 States by Business Count\", \"showarrow\": false, \"font\": {\"size\": 16}, \"xanchor\": \"center\", \"yanchor\": \"bottom\"}, {\"y\": 1.0, \"xref\": \"paper\", \"x\": 0.775, \"yref\": \"paper\", \"text\": \"Top 10 Cities by Business Count\", \"showarrow\": false, \"font\": {\"size\": 16}, \"xanchor\": \"center\", \"yanchor\": \"bottom\"}], \"legend\": {\"bgcolor\": \"#FFFFFF\", \"font\": {\"color\": \"#4D5663\"}}, \"paper_bgcolor\": \"#FFFFFF\", \"plot_bgcolor\": \"#FFFFFF\", \"titlefont\": {\"color\": \"#4D5663\"}, \"showlegend\": false}, {\"showLink\": true, \"linkText\": \"Export to plot.ly\"})});</script>"
      ],
      "text/vnd.plotly.v1+html": [
       "<div id=\"aba03ca8-4d3b-4baf-8fdf-81618f61a77c\" style=\"height: 525px; width: 100%;\" class=\"plotly-graph-div\"></div><script type=\"text/javascript\">require([\"plotly\"], function(Plotly) { window.PLOTLYENV=window.PLOTLYENV || {};window.PLOTLYENV.BASE_URL=\"https://plot.ly\";Plotly.newPlot(\"aba03ca8-4d3b-4baf-8fdf-81618f61a77c\", [{\"type\": \"bar\", \"x\": [\"AZ\", \"NV\", \"ON\", \"NC\", \"OH\", \"PA\", \"QC\", \"WI\", \"EDH\", \"BW\"], \"y\": [47376, 30571, 26520, 11299, 10930, 8916, 7273, 4190, 3561, 3071], \"name\": \"state\", \"text\": \"\", \"marker\": {\"color\": \"rgba(55, 128, 191, 0.6)\", \"line\": {\"color\": \"rgba(55, 128, 191, 1.0)\", \"width\": 1}}, \"orientation\": \"v\", \"xaxis\": \"x1\", \"yaxis\": \"y1\"}, {\"type\": \"bar\", \"x\": [\"las vegas\", \"phoenix\", \"toronto\", \"charlotte\", \"scottsdale\", \"pittsburgh\", \"montr\\u00e9al\", \"mesa\", \"henderson\", \"tempe\"], \"y\": [26100, 15666, 15491, 7560, 7521, 5693, 5411, 5243, 4134, 3950], \"name\": \"city\", \"text\": \"\", \"marker\": {\"color\": \"rgba(55, 128, 191, 0.6)\", \"line\": {\"color\": \"rgba(55, 128, 191, 1.0)\", \"width\": 1}}, \"orientation\": \"v\", \"xaxis\": \"x2\", \"yaxis\": \"y2\"}], {\"xaxis1\": {\"domain\": [0.0, 0.45], \"anchor\": \"y1\", \"tickfont\": {\"color\": \"#4D5663\"}, \"gridcolor\": \"#E1E5ED\", \"titlefont\": {\"color\": \"#4D5663\"}, \"zerolinecolor\": \"#E1E5ED\", \"showgrid\": true, \"title\": \"\"}, \"yaxis1\": {\"domain\": [0.0, 1.0], \"anchor\": \"x1\", \"tickfont\": {\"color\": \"#4D5663\"}, \"gridcolor\": \"#E1E5ED\", \"titlefont\": {\"color\": \"#4D5663\"}, \"zerolinecolor\": \"#E1E5ED\", \"showgrid\": true, \"title\": \"\"}, \"xaxis2\": {\"domain\": [0.55, 1.0], \"anchor\": \"y2\"}, \"yaxis2\": {\"domain\": [0.0, 1.0], \"anchor\": \"x2\"}, \"annotations\": [{\"y\": 1.0, \"xref\": \"paper\", \"x\": 0.225, \"yref\": \"paper\", \"text\": \"Top 10 States by Business Count\", \"showarrow\": false, \"font\": {\"size\": 16}, \"xanchor\": \"center\", \"yanchor\": \"bottom\"}, {\"y\": 1.0, \"xref\": \"paper\", \"x\": 0.775, \"yref\": \"paper\", \"text\": \"Top 10 Cities by Business Count\", \"showarrow\": false, \"font\": {\"size\": 16}, \"xanchor\": \"center\", \"yanchor\": \"bottom\"}], \"legend\": {\"bgcolor\": \"#FFFFFF\", \"font\": {\"color\": \"#4D5663\"}}, \"paper_bgcolor\": \"#FFFFFF\", \"plot_bgcolor\": \"#FFFFFF\", \"titlefont\": {\"color\": \"#4D5663\"}, \"showlegend\": false}, {\"showLink\": true, \"linkText\": \"Export to plot.ly\"})});</script>"
      ]
     },
     "metadata": {},
     "output_type": "display_data"
    }
   ],
   "source": [
    "#top 10 state and city counts\n",
    "top10_state_counts = business_df.state.value_counts()[:10]\n",
    "top10_city_counts = business_df.city.value_counts()[:10]\n",
    "figs = [\n",
    "    top10_state_counts.iplot(kind='bar', \n",
    "                             asFigure=True, \n",
    "                             xTitle='State', \n",
    "                             yTitle='Count', \n",
    "                             color='blue'), \n",
    "    top10_city_counts.iplot(kind='bar', \n",
    "                              asFigure=True, \n",
    "                              xTitle='City', \n",
    "                              yTitle='Business Count', \n",
    "                              color='blue')\n",
    "]\n",
    "cf.iplot(cf.subplots(figs, \n",
    "                     subplot_titles=['Top 10 States by Business Count', \n",
    "                                     'Top 10 Cities by Business Count']), \n",
    "         legend=False)"
   ]
  },
  {
   "cell_type": "code",
   "execution_count": 37,
   "metadata": {},
   "outputs": [
    {
     "data": {
      "application/vnd.plotly.v1+json": {
       "data": [
        {
         "marker": {
          "color": "rgba(127, 201, 127, 0.6)",
          "line": {
           "color": "rgba(127, 201, 127, 1.0)",
           "width": 1
          }
         },
         "name": "address",
         "orientation": "v",
         "text": "",
         "type": "bar",
         "x": [
          "phoenix",
          "scottsdale",
          "mesa",
          "tempe",
          "chandler"
         ],
         "xaxis": "x1",
         "y": [
          15666,
          7521,
          5243,
          3950,
          3650
         ],
         "yaxis": "y1"
        },
        {
         "marker": {
          "color": "rgba(190, 174, 212, 0.6)",
          "line": {
           "color": "rgba(190, 174, 212, 1.0)",
           "width": 1
          }
         },
         "name": "address",
         "orientation": "v",
         "text": "",
         "type": "bar",
         "x": [
          "las vegas",
          "henderson",
          "boulder city",
          "paradise",
          "nellis air force base afb"
         ],
         "xaxis": "x2",
         "y": [
          26090,
          4132,
          248,
          24,
          17
         ],
         "yaxis": "y2"
        },
        {
         "marker": {
          "color": "rgba(253, 192, 134, 0.6)",
          "line": {
           "color": "rgba(253, 192, 134, 1.0)",
           "width": 1
          }
         },
         "name": "address",
         "orientation": "v",
         "text": "",
         "type": "bar",
         "x": [
          "toronto",
          "mississauga",
          "markham",
          "north york",
          "scarborough"
         ],
         "xaxis": "x3",
         "y": [
          15491,
          2323,
          1390,
          946,
          873
         ],
         "yaxis": "y3"
        }
       ],
       "layout": {
        "annotations": [
         {
          "font": {
           "size": 16
          },
          "showarrow": false,
          "text": "Arizona",
          "x": 0.5,
          "xanchor": "center",
          "xref": "paper",
          "y": 0.9999999999999999,
          "yanchor": "bottom",
          "yref": "paper"
         },
         {
          "font": {
           "size": 16
          },
          "showarrow": false,
          "text": "Nevada",
          "x": 0.5,
          "xanchor": "center",
          "xref": "paper",
          "y": 0.5833333333333333,
          "yanchor": "bottom",
          "yref": "paper"
         },
         {
          "font": {
           "size": 16
          },
          "showarrow": false,
          "text": "Ontario",
          "x": 0.5,
          "xanchor": "center",
          "xref": "paper",
          "y": 0.16666666666666666,
          "yanchor": "bottom",
          "yref": "paper"
         }
        ],
        "legend": {
         "bgcolor": "#FFFFFF",
         "font": {
          "color": "#4D5663"
         }
        },
        "paper_bgcolor": "#FFFFFF",
        "plot_bgcolor": "#FFFFFF",
        "showlegend": false,
        "titlefont": {
         "color": "#4D5663"
        },
        "xaxis1": {
         "anchor": "y1",
         "domain": [
          0,
          1
         ],
         "gridcolor": "#E1E5ED",
         "showgrid": true,
         "tickfont": {
          "color": "#4D5663"
         },
         "title": "",
         "titlefont": {
          "color": "#4D5663"
         },
         "zerolinecolor": "#E1E5ED"
        },
        "xaxis2": {
         "anchor": "y2",
         "domain": [
          0,
          1
         ]
        },
        "xaxis3": {
         "anchor": "y3",
         "domain": [
          0,
          1
         ]
        },
        "yaxis1": {
         "anchor": "x1",
         "domain": [
          0.8333333333333333,
          0.9999999999999999
         ],
         "gridcolor": "#E1E5ED",
         "showgrid": true,
         "tickfont": {
          "color": "#4D5663"
         },
         "title": "",
         "titlefont": {
          "color": "#4D5663"
         },
         "zerolinecolor": "#E1E5ED"
        },
        "yaxis2": {
         "anchor": "x2",
         "domain": [
          0.41666666666666663,
          0.5833333333333333
         ]
        },
        "yaxis3": {
         "anchor": "x3",
         "domain": [
          0,
          0.16666666666666666
         ]
        }
       }
      },
      "text/html": [
       "<div id=\"30d46bbf-119e-47c2-8b5a-4ecd4da3ef7d\" style=\"height: 525px; width: 100%;\" class=\"plotly-graph-div\"></div><script type=\"text/javascript\">require([\"plotly\"], function(Plotly) { window.PLOTLYENV=window.PLOTLYENV || {};window.PLOTLYENV.BASE_URL=\"https://plot.ly\";Plotly.newPlot(\"30d46bbf-119e-47c2-8b5a-4ecd4da3ef7d\", [{\"type\": \"bar\", \"x\": [\"phoenix\", \"scottsdale\", \"mesa\", \"tempe\", \"chandler\"], \"y\": [15666, 7521, 5243, 3950, 3650], \"name\": \"address\", \"text\": \"\", \"marker\": {\"color\": \"rgba(127, 201, 127, 0.6)\", \"line\": {\"color\": \"rgba(127, 201, 127, 1.0)\", \"width\": 1}}, \"orientation\": \"v\", \"xaxis\": \"x1\", \"yaxis\": \"y1\"}, {\"type\": \"bar\", \"x\": [\"las vegas\", \"henderson\", \"boulder city\", \"paradise\", \"nellis air force base afb\"], \"y\": [26090, 4132, 248, 24, 17], \"name\": \"address\", \"text\": \"\", \"marker\": {\"color\": \"rgba(190, 174, 212, 0.6)\", \"line\": {\"color\": \"rgba(190, 174, 212, 1.0)\", \"width\": 1}}, \"orientation\": \"v\", \"xaxis\": \"x2\", \"yaxis\": \"y2\"}, {\"type\": \"bar\", \"x\": [\"toronto\", \"mississauga\", \"markham\", \"north york\", \"scarborough\"], \"y\": [15491, 2323, 1390, 946, 873], \"name\": \"address\", \"text\": \"\", \"marker\": {\"color\": \"rgba(253, 192, 134, 0.6)\", \"line\": {\"color\": \"rgba(253, 192, 134, 1.0)\", \"width\": 1}}, \"orientation\": \"v\", \"xaxis\": \"x3\", \"yaxis\": \"y3\"}], {\"xaxis1\": {\"domain\": [0.0, 1.0], \"anchor\": \"y1\", \"tickfont\": {\"color\": \"#4D5663\"}, \"gridcolor\": \"#E1E5ED\", \"titlefont\": {\"color\": \"#4D5663\"}, \"zerolinecolor\": \"#E1E5ED\", \"showgrid\": true, \"title\": \"\"}, \"yaxis1\": {\"domain\": [0.8333333333333333, 0.9999999999999999], \"anchor\": \"x1\", \"tickfont\": {\"color\": \"#4D5663\"}, \"gridcolor\": \"#E1E5ED\", \"titlefont\": {\"color\": \"#4D5663\"}, \"zerolinecolor\": \"#E1E5ED\", \"showgrid\": true, \"title\": \"\"}, \"xaxis2\": {\"domain\": [0.0, 1.0], \"anchor\": \"y2\"}, \"yaxis2\": {\"domain\": [0.41666666666666663, 0.5833333333333333], \"anchor\": \"x2\"}, \"xaxis3\": {\"domain\": [0.0, 1.0], \"anchor\": \"y3\"}, \"yaxis3\": {\"domain\": [0.0, 0.16666666666666666], \"anchor\": \"x3\"}, \"annotations\": [{\"y\": 0.9999999999999999, \"xref\": \"paper\", \"x\": 0.5, \"yref\": \"paper\", \"text\": \"Arizona\", \"showarrow\": false, \"font\": {\"size\": 16}, \"xanchor\": \"center\", \"yanchor\": \"bottom\"}, {\"y\": 0.5833333333333333, \"xref\": \"paper\", \"x\": 0.5, \"yref\": \"paper\", \"text\": \"Nevada\", \"showarrow\": false, \"font\": {\"size\": 16}, \"xanchor\": \"center\", \"yanchor\": \"bottom\"}, {\"y\": 0.16666666666666666, \"xref\": \"paper\", \"x\": 0.5, \"yref\": \"paper\", \"text\": \"Ontario\", \"showarrow\": false, \"font\": {\"size\": 16}, \"xanchor\": \"center\", \"yanchor\": \"bottom\"}], \"legend\": {\"bgcolor\": \"#FFFFFF\", \"font\": {\"color\": \"#4D5663\"}}, \"paper_bgcolor\": \"#FFFFFF\", \"plot_bgcolor\": \"#FFFFFF\", \"titlefont\": {\"color\": \"#4D5663\"}, \"showlegend\": false}, {\"showLink\": true, \"linkText\": \"Export to plot.ly\"})});</script>"
      ],
      "text/vnd.plotly.v1+html": [
       "<div id=\"30d46bbf-119e-47c2-8b5a-4ecd4da3ef7d\" style=\"height: 525px; width: 100%;\" class=\"plotly-graph-div\"></div><script type=\"text/javascript\">require([\"plotly\"], function(Plotly) { window.PLOTLYENV=window.PLOTLYENV || {};window.PLOTLYENV.BASE_URL=\"https://plot.ly\";Plotly.newPlot(\"30d46bbf-119e-47c2-8b5a-4ecd4da3ef7d\", [{\"type\": \"bar\", \"x\": [\"phoenix\", \"scottsdale\", \"mesa\", \"tempe\", \"chandler\"], \"y\": [15666, 7521, 5243, 3950, 3650], \"name\": \"address\", \"text\": \"\", \"marker\": {\"color\": \"rgba(127, 201, 127, 0.6)\", \"line\": {\"color\": \"rgba(127, 201, 127, 1.0)\", \"width\": 1}}, \"orientation\": \"v\", \"xaxis\": \"x1\", \"yaxis\": \"y1\"}, {\"type\": \"bar\", \"x\": [\"las vegas\", \"henderson\", \"boulder city\", \"paradise\", \"nellis air force base afb\"], \"y\": [26090, 4132, 248, 24, 17], \"name\": \"address\", \"text\": \"\", \"marker\": {\"color\": \"rgba(190, 174, 212, 0.6)\", \"line\": {\"color\": \"rgba(190, 174, 212, 1.0)\", \"width\": 1}}, \"orientation\": \"v\", \"xaxis\": \"x2\", \"yaxis\": \"y2\"}, {\"type\": \"bar\", \"x\": [\"toronto\", \"mississauga\", \"markham\", \"north york\", \"scarborough\"], \"y\": [15491, 2323, 1390, 946, 873], \"name\": \"address\", \"text\": \"\", \"marker\": {\"color\": \"rgba(253, 192, 134, 0.6)\", \"line\": {\"color\": \"rgba(253, 192, 134, 1.0)\", \"width\": 1}}, \"orientation\": \"v\", \"xaxis\": \"x3\", \"yaxis\": \"y3\"}], {\"xaxis1\": {\"domain\": [0.0, 1.0], \"anchor\": \"y1\", \"tickfont\": {\"color\": \"#4D5663\"}, \"gridcolor\": \"#E1E5ED\", \"titlefont\": {\"color\": \"#4D5663\"}, \"zerolinecolor\": \"#E1E5ED\", \"showgrid\": true, \"title\": \"\"}, \"yaxis1\": {\"domain\": [0.8333333333333333, 0.9999999999999999], \"anchor\": \"x1\", \"tickfont\": {\"color\": \"#4D5663\"}, \"gridcolor\": \"#E1E5ED\", \"titlefont\": {\"color\": \"#4D5663\"}, \"zerolinecolor\": \"#E1E5ED\", \"showgrid\": true, \"title\": \"\"}, \"xaxis2\": {\"domain\": [0.0, 1.0], \"anchor\": \"y2\"}, \"yaxis2\": {\"domain\": [0.41666666666666663, 0.5833333333333333], \"anchor\": \"x2\"}, \"xaxis3\": {\"domain\": [0.0, 1.0], \"anchor\": \"y3\"}, \"yaxis3\": {\"domain\": [0.0, 0.16666666666666666], \"anchor\": \"x3\"}, \"annotations\": [{\"y\": 0.9999999999999999, \"xref\": \"paper\", \"x\": 0.5, \"yref\": \"paper\", \"text\": \"Arizona\", \"showarrow\": false, \"font\": {\"size\": 16}, \"xanchor\": \"center\", \"yanchor\": \"bottom\"}, {\"y\": 0.5833333333333333, \"xref\": \"paper\", \"x\": 0.5, \"yref\": \"paper\", \"text\": \"Nevada\", \"showarrow\": false, \"font\": {\"size\": 16}, \"xanchor\": \"center\", \"yanchor\": \"bottom\"}, {\"y\": 0.16666666666666666, \"xref\": \"paper\", \"x\": 0.5, \"yref\": \"paper\", \"text\": \"Ontario\", \"showarrow\": false, \"font\": {\"size\": 16}, \"xanchor\": \"center\", \"yanchor\": \"bottom\"}], \"legend\": {\"bgcolor\": \"#FFFFFF\", \"font\": {\"color\": \"#4D5663\"}}, \"paper_bgcolor\": \"#FFFFFF\", \"plot_bgcolor\": \"#FFFFFF\", \"titlefont\": {\"color\": \"#4D5663\"}, \"showlegend\": false}, {\"showLink\": true, \"linkText\": \"Export to plot.ly\"})});</script>"
      ]
     },
     "metadata": {},
     "output_type": "display_data"
    }
   ],
   "source": [
    "#top 5 cities by business count in the top 3 states\n",
    "top5_statecity = business_df[['city', 'state', 'address']].loc[business_df.state.isin(('AZ', 'NV', 'ON'))]\\\n",
    "                             .groupby(['city','state'], as_index=False).address.count()\n",
    "top5_statecity = top5_statecity.groupby(['state'], group_keys=False)\\\n",
    "                               .apply(lambda x: x.nlargest(5, 'address'))\n",
    "figs = [\n",
    "    top5_statecity.loc[top5_statecity.state==s, ('city', 'address')]\\\n",
    "                  .iplot(kind='bar', x='city', y='address', asFigure=True, color=next(colorscale))\n",
    "    for s in top5_statecity.state.unique()\n",
    "]\n",
    "cf.iplot(cf.subplots(figs, \n",
    "                     subplot_titles=['Arizona', 'Nevada', 'Ontario'], \n",
    "                     shape=(3, 1), \n",
    "                     vertical_spacing=0.25),  \n",
    "         legend=False)"
   ]
  },
  {
   "cell_type": "code",
   "execution_count": null,
   "metadata": {
    "collapsed": true
   },
   "outputs": [],
   "source": [
    "#avg business counts by state"
   ]
  },
  {
   "cell_type": "markdown",
   "metadata": {},
   "source": [
    "### Business Categories "
   ]
  },
  {
   "cell_type": "code",
   "execution_count": 39,
   "metadata": {
    "collapsed": true
   },
   "outputs": [],
   "source": [
    "category_df = pd.concat([business_df[['city', 'state']], \n",
    "                         business_df.categories.apply(lambda x: ','.join(x))], \n",
    "                         axis=1)\n",
    "category_df = pd.concat([category_df, category_df.categories.str.split(',', expand=True)], axis=1)\n",
    "category_df.drop('categories', axis=1, inplace=True)\n",
    "melted_category_df = category_df.melt(id_vars=['city', 'state'], \n",
    "                                      value_vars = list(filter(lambda x: x not in ['city', 'state'], \n",
    "                                                               category_df.columns)), \n",
    "                                      value_name='category')\n",
    "melted_category_df.drop('variable', axis=1, inplace=True)\n",
    "melted_category_df = melted_category_df[~melted_category_df.category.isnull()]"
   ]
  },
  {
   "cell_type": "code",
   "execution_count": 40,
   "metadata": {},
   "outputs": [
    {
     "data": {
      "application/vnd.plotly.v1+json": {
       "data": [
        {
         "marker": {
          "color": "rgba(0, 128, 0, 0.6)",
          "line": {
           "color": "rgba(0, 128, 0, 1.0)",
           "width": 1
          }
         },
         "name": "category",
         "orientation": "h",
         "text": "",
         "type": "bar",
         "x": [
          51613,
          24595,
          23014,
          15139,
          13202,
          12033,
          11364,
          9868,
          9476,
          9343,
          8038,
          7427,
          6299,
          5864,
          5792,
          5737,
          5652,
          5565,
          5395,
          5188
         ],
         "y": [
          "Restaurants",
          "Shopping",
          "Food",
          "Beauty & Spas",
          "Home Services",
          "Health & Medical",
          "Nightlife",
          "Bars",
          "Automotive",
          "Local Services",
          "Event Planning & Services",
          "Active Life",
          "Fashion",
          "Sandwiches",
          "Fast Food",
          "American (Traditional)",
          "Pizza",
          "Coffee & Tea",
          "Hair Salons",
          "Hotels & Travel"
         ]
        }
       ],
       "layout": {
        "legend": {
         "bgcolor": "#FFFFFF",
         "font": {
          "color": "#4D5663"
         }
        },
        "paper_bgcolor": "#FFFFFF",
        "plot_bgcolor": "#FFFFFF",
        "title": "Top Categories by Business Count",
        "titlefont": {
         "color": "#4D5663"
        },
        "xaxis1": {
         "gridcolor": "#E1E5ED",
         "showgrid": true,
         "tickfont": {
          "color": "#4D5663"
         },
         "title": "Business Count",
         "titlefont": {
          "color": "#4D5663"
         },
         "zerolinecolor": "#E1E5ED"
        },
        "yaxis1": {
         "gridcolor": "#E1E5ED",
         "showgrid": true,
         "tickfont": {
          "color": "#4D5663",
          "size": 9
         },
         "title": "",
         "titlefont": {
          "color": "#4D5663"
         },
         "zerolinecolor": "#E1E5ED"
        }
       }
      },
      "text/html": [
       "<div id=\"e1c2f08d-f7d0-471e-a496-4ee30041926b\" style=\"height: 525px; width: 100%;\" class=\"plotly-graph-div\"></div><script type=\"text/javascript\">require([\"plotly\"], function(Plotly) { window.PLOTLYENV=window.PLOTLYENV || {};window.PLOTLYENV.BASE_URL=\"https://plot.ly\";Plotly.newPlot(\"e1c2f08d-f7d0-471e-a496-4ee30041926b\", [{\"type\": \"bar\", \"x\": [51613, 24595, 23014, 15139, 13202, 12033, 11364, 9868, 9476, 9343, 8038, 7427, 6299, 5864, 5792, 5737, 5652, 5565, 5395, 5188], \"y\": [\"Restaurants\", \"Shopping\", \"Food\", \"Beauty & Spas\", \"Home Services\", \"Health & Medical\", \"Nightlife\", \"Bars\", \"Automotive\", \"Local Services\", \"Event Planning & Services\", \"Active Life\", \"Fashion\", \"Sandwiches\", \"Fast Food\", \"American (Traditional)\", \"Pizza\", \"Coffee & Tea\", \"Hair Salons\", \"Hotels & Travel\"], \"name\": \"category\", \"text\": \"\", \"marker\": {\"color\": \"rgba(0, 128, 0, 0.6)\", \"line\": {\"color\": \"rgba(0, 128, 0, 1.0)\", \"width\": 1}}, \"orientation\": \"h\"}], {\"legend\": {\"bgcolor\": \"#FFFFFF\", \"font\": {\"color\": \"#4D5663\"}}, \"paper_bgcolor\": \"#FFFFFF\", \"plot_bgcolor\": \"#FFFFFF\", \"yaxis1\": {\"tickfont\": {\"color\": \"#4D5663\", \"size\": 9}, \"gridcolor\": \"#E1E5ED\", \"titlefont\": {\"color\": \"#4D5663\"}, \"zerolinecolor\": \"#E1E5ED\", \"showgrid\": true, \"title\": \"\"}, \"xaxis1\": {\"tickfont\": {\"color\": \"#4D5663\"}, \"gridcolor\": \"#E1E5ED\", \"titlefont\": {\"color\": \"#4D5663\"}, \"zerolinecolor\": \"#E1E5ED\", \"showgrid\": true, \"title\": \"Business Count\"}, \"titlefont\": {\"color\": \"#4D5663\"}, \"title\": \"Top Categories by Business Count\"}, {\"showLink\": true, \"linkText\": \"Export to plot.ly\"})});</script>"
      ],
      "text/vnd.plotly.v1+html": [
       "<div id=\"e1c2f08d-f7d0-471e-a496-4ee30041926b\" style=\"height: 525px; width: 100%;\" class=\"plotly-graph-div\"></div><script type=\"text/javascript\">require([\"plotly\"], function(Plotly) { window.PLOTLYENV=window.PLOTLYENV || {};window.PLOTLYENV.BASE_URL=\"https://plot.ly\";Plotly.newPlot(\"e1c2f08d-f7d0-471e-a496-4ee30041926b\", [{\"type\": \"bar\", \"x\": [51613, 24595, 23014, 15139, 13202, 12033, 11364, 9868, 9476, 9343, 8038, 7427, 6299, 5864, 5792, 5737, 5652, 5565, 5395, 5188], \"y\": [\"Restaurants\", \"Shopping\", \"Food\", \"Beauty & Spas\", \"Home Services\", \"Health & Medical\", \"Nightlife\", \"Bars\", \"Automotive\", \"Local Services\", \"Event Planning & Services\", \"Active Life\", \"Fashion\", \"Sandwiches\", \"Fast Food\", \"American (Traditional)\", \"Pizza\", \"Coffee & Tea\", \"Hair Salons\", \"Hotels & Travel\"], \"name\": \"category\", \"text\": \"\", \"marker\": {\"color\": \"rgba(0, 128, 0, 0.6)\", \"line\": {\"color\": \"rgba(0, 128, 0, 1.0)\", \"width\": 1}}, \"orientation\": \"h\"}], {\"legend\": {\"bgcolor\": \"#FFFFFF\", \"font\": {\"color\": \"#4D5663\"}}, \"paper_bgcolor\": \"#FFFFFF\", \"plot_bgcolor\": \"#FFFFFF\", \"yaxis1\": {\"tickfont\": {\"color\": \"#4D5663\", \"size\": 9}, \"gridcolor\": \"#E1E5ED\", \"titlefont\": {\"color\": \"#4D5663\"}, \"zerolinecolor\": \"#E1E5ED\", \"showgrid\": true, \"title\": \"\"}, \"xaxis1\": {\"tickfont\": {\"color\": \"#4D5663\"}, \"gridcolor\": \"#E1E5ED\", \"titlefont\": {\"color\": \"#4D5663\"}, \"zerolinecolor\": \"#E1E5ED\", \"showgrid\": true, \"title\": \"Business Count\"}, \"titlefont\": {\"color\": \"#4D5663\"}, \"title\": \"Top Categories by Business Count\"}, {\"showLink\": true, \"linkText\": \"Export to plot.ly\"})});</script>"
      ]
     },
     "metadata": {},
     "output_type": "display_data"
    }
   ],
   "source": [
    "#top 20 categories\n",
    "f = melted_category_df.category.value_counts(ascending=False)[:20]\\\n",
    "                                 .iplot(kind='barh', \n",
    "                                        color='green', \n",
    "                                        title='Top Categories by Business Count', \n",
    "                                        xTitle='Business Count',\n",
    "                                        asFigure=True)\n",
    "f['layout']['yaxis1']['tickfont']['size'] = 9\n",
    "iplot(f)"
   ]
  },
  {
   "cell_type": "markdown",
   "metadata": {},
   "source": [
    "### Star Ratings"
   ]
  },
  {
   "cell_type": "markdown",
   "metadata": {},
   "source": [
    "### Review Counts "
   ]
  },
  {
   "cell_type": "code",
   "execution_count": null,
   "metadata": {
    "collapsed": true
   },
   "outputs": [],
   "source": [
    "review_counts = pd.DataFrame({'Review Count': [r.get('review_count') for r in extract_data('business.json')]})"
   ]
  },
  {
   "cell_type": "code",
   "execution_count": null,
   "metadata": {
    "collapsed": true
   },
   "outputs": [],
   "source": [
    "review_counts.describe()"
   ]
  },
  {
   "cell_type": "code",
   "execution_count": null,
   "metadata": {
    "collapsed": true
   },
   "outputs": [],
   "source": [
    "cut_review_outliers = review_counts[review_counts['Review Count'] < review_counts['Review Count'].quantile(.95)]\n",
    "iplot(cut_review_outliers.iplot(kind='histogram', \n",
    "                                asFigure=True, \n",
    "                                color='red', \n",
    "                                title='Review Count Frequency', \n",
    "                                xTitle='Review Count', \n",
    "                                yTitle='Frequency'))"
   ]
  },
  {
   "cell_type": "code",
   "execution_count": null,
   "metadata": {
    "collapsed": true
   },
   "outputs": [],
   "source": [
    "business_df.state.value_counts()\n",
    "# avg_reviewcounts_state = business_df[business_df.state.count() > 1]['city', 'state', 'review_count'].groupby('state').review_count.mean()\n",
    "# iplot(avg_reviewcounts_state.iplot(\n",
    "#     kind='bar', \n",
    "#     title='Average Review Counts by State', \n",
    "#     color='red', \n",
    "#     xTitle='State', \n",
    "#     yTitle='Avg. Review Count', \n",
    "#     asFigure=True))"
   ]
  },
  {
   "cell_type": "code",
   "execution_count": null,
   "metadata": {
    "collapsed": true
   },
   "outputs": [],
   "source": [
    "business_df.loc[business_df.state == 'fl']"
   ]
  }
 ],
 "metadata": {
  "kernelspec": {
   "display_name": "Python 3",
   "language": "python",
   "name": "python3"
  },
  "language_info": {
   "codemirror_mode": {
    "name": "ipython",
    "version": 3
   },
   "file_extension": ".py",
   "mimetype": "text/x-python",
   "name": "python",
   "nbconvert_exporter": "python",
   "pygments_lexer": "ipython3",
   "version": "3.6.1"
  }
 },
 "nbformat": 4,
 "nbformat_minor": 2
}
