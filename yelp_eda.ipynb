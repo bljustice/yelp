{
 "cells": [
  {
   "cell_type": "code",
   "execution_count": 1,
   "metadata": {
    "collapsed": true
   },
   "outputs": [],
   "source": [
    "import json\n",
    "import pandas as pd\n",
    "import matplotlib.pyplot as plt\n",
    "import seaborn as sns\n",
    "from collections import Counter\n",
    "%matplotlib inline"
   ]
  },
  {
   "cell_type": "code",
   "execution_count": 2,
   "metadata": {
    "collapsed": true
   },
   "outputs": [],
   "source": [
    "sns.set_style('whitegrid')"
   ]
  },
  {
   "cell_type": "code",
   "execution_count": 3,
   "metadata": {
    "collapsed": true
   },
   "outputs": [],
   "source": [
    "def print_head(f, size=1):\n",
    "    with open(f) as read_file:\n",
    "        print([next(read_file) for _ in range(size)])"
   ]
  },
  {
   "cell_type": "code",
   "execution_count": 4,
   "metadata": {},
   "outputs": [
    {
     "name": "stdout",
     "output_type": "stream",
     "text": [
      "['{\"review_id\":\"VfBHSwC5Vz_pbFluy07i9Q\",\"user_id\":\"cjpdDjZyprfyDG3RlkVG3w\",\"business_id\":\"uYHaNptLzDLoV_JZ_MuzUA\",\"stars\":5,\"date\":\"2016-07-12\",\"text\":\"My girlfriend and I stayed here for 3 nights and loved it. The location of this hotel and very decent price makes this an amazing deal. When you walk out the front door Scott Monument and Princes street are right in front of you, Edinburgh Castle and the Royal Mile is a 2 minute walk via a close right around the corner, and there are so many hidden gems nearby including Calton Hill and the newly opened Arches that made this location incredible.\\\\n\\\\nThe hotel itself was also very nice with a reasonably priced bar, very considerate staff, and small but comfortable rooms with excellent bathrooms and showers. Only two minor complaints are no telephones in room for room service (not a huge deal for us) and no AC in the room, but they have huge windows which can be fully opened. The staff were incredible though, letting us borrow umbrellas for the rain, giving us maps and directions, and also when we had lost our only UK adapter for charging our phones gave us a very fancy one for free.\\\\n\\\\nI would highly recommend this hotel to friends, and when I return to Edinburgh (which I most definitely will) I will be staying here without any hesitation.\",\"useful\":0,\"funny\":0,\"cool\":0}\\n']\n"
     ]
    }
   ],
   "source": [
    "print_head('review.json')"
   ]
  },
  {
   "cell_type": "code",
   "execution_count": 5,
   "metadata": {},
   "outputs": [
    {
     "name": "stdout",
     "output_type": "stream",
     "text": [
      "['{\"business_id\": \"YDf95gJZaq05wvo7hTQbbQ\", \"name\": \"Richmond Town Square\", \"neighborhood\": \"\", \"address\": \"691 Richmond Rd\", \"city\": \"Richmond Heights\", \"state\": \"OH\", \"postal_code\": \"44143\", \"latitude\": 41.5417162, \"longitude\": -81.4931165, \"stars\": 2.0, \"review_count\": 17, \"is_open\": 1, \"attributes\": {\"RestaurantsPriceRange2\": 2, \"BusinessParking\": {\"garage\": false, \"street\": false, \"validated\": false, \"lot\": true, \"valet\": false}, \"BikeParking\": true, \"WheelchairAccessible\": true}, \"categories\": [\"Shopping\", \"Shopping Centers\"], \"hours\": {\"Monday\": \"10:00-21:00\", \"Tuesday\": \"10:00-21:00\", \"Friday\": \"10:00-21:00\", \"Wednesday\": \"10:00-21:00\", \"Thursday\": \"10:00-21:00\", \"Sunday\": \"11:00-18:00\", \"Saturday\": \"10:00-21:00\"}}\\n']\n"
     ]
    }
   ],
   "source": [
    "print_head('business.json')"
   ]
  },
  {
   "cell_type": "code",
   "execution_count": 6,
   "metadata": {
    "collapsed": true
   },
   "outputs": [],
   "source": [
    "def get_file_size(f):\n",
    "    line_count = 0\n",
    "    with open(f, 'r') as read_file:\n",
    "        for _ in read_file:\n",
    "            line_count += 1\n",
    "    return line_count"
   ]
  },
  {
   "cell_type": "code",
   "execution_count": 7,
   "metadata": {},
   "outputs": [
    {
     "name": "stdout",
     "output_type": "stream",
     "text": [
      "Total number of businesses: 156639\n",
      "Total number of reviews 4736897\n"
     ]
    }
   ],
   "source": [
    "print('Total number of businesses:', get_file_size('business.json'))\n",
    "print('Total number of reviews', get_file_size('review.json'))"
   ]
  },
  {
   "cell_type": "markdown",
   "metadata": {},
   "source": [
    "## Load Data "
   ]
  },
  {
   "cell_type": "code",
   "execution_count": 8,
   "metadata": {
    "collapsed": true
   },
   "outputs": [],
   "source": [
    "def extract_data(f):\n",
    "    with open(f, 'r') as read_file:\n",
    "        for _ in read_file:\n",
    "            yield _"
   ]
  },
  {
   "cell_type": "markdown",
   "metadata": {},
   "source": [
    "## Business Data "
   ]
  },
  {
   "cell_type": "markdown",
   "metadata": {},
   "source": [
    "### Cities and States "
   ]
  },
  {
   "cell_type": "code",
   "execution_count": 9,
   "metadata": {},
   "outputs": [],
   "source": [
    "def make_count_df(f, key, columns):\n",
    "    data = extract_data(f)\n",
    "    counts = Counter([json.loads(x).get(key).lower().strip() for x in data])\n",
    "    return pd.DataFrame(list(counts.items()), columns=columns)"
   ]
  },
  {
   "cell_type": "code",
   "execution_count": 10,
   "metadata": {},
   "outputs": [],
   "source": [
    "replacement_dict = {\n",
    "    'st': 'saint', \n",
    "    'st.': 'saint', \n",
    "    'hts.': 'heights', \n",
    "    'hts': 'heights',\n",
    "    'hghts': 'heights',\n",
    "    'ahwahtukee': 'ahwatukee',\n",
    "    'twp': 'township',\n",
    "    \"baie-d'urfe\": \"baie-d'urfé\",\n",
    "    'bellvue': 'bellevue',\n",
    "    'c las vegas': 'las vegas',\n",
    "    'caledon east': 'caledon',\n",
    "    'central city': 'central city village',\n",
    "    'chander': 'chandler',\n",
    "    'charlote': 'charlotte',\n",
    "    'charlotte (university)': 'charlotte',\n",
    "    'chatauguay': 'châteauguay',\n",
    "    'chateauguay': 'châteauguay',\n",
    "    'concord township': 'concord',\n",
    "    'côte-saint-luc': 'côte saint-luc',\n",
    "    'cote-saint-luc': 'côte saint-luc',\n",
    "    'cote saint-luc': 'côte saint-luc',\n",
    "    'fls': 'falls',\n",
    "    'deforest': 'de forest',\n",
    "    'dollard-des-ormeaux': 'dollard-des ormeaux',\n",
    "    'east gwilimbury': 'east gwillimbury',\n",
    "    'east mc keesport': 'east mckeesport',\n",
    "    'edimbourg': 'edinburgh',\n",
    "    'edinburgh city of': 'edinburgh',\n",
    "    'esslingen': 'esslingen am neckar',\n",
    "    'fitchburgh': 'fitchburg',\n",
    "    'fort  mill': 'fort mill',\n",
    "    'ft.': 'fort',\n",
    "    'gilbert az': 'gilbert',\n",
    "    'glbert': 'gilbert',\n",
    "    'glendale az': 'glendale',\n",
    "    'goodyear az': 'goodyear',\n",
    "    'harrisburg,': 'harrisburg',\n",
    "    'harrisbug': 'harrisburg',\n",
    "    'henderson (green valley)': 'henderson',\n",
    "    'henderson and las vegas': 'henderson',\n",
    "    'henderson nevada': 'henderson',\n",
    "    'henderston': 'henderson',\n",
    "    'hendserson':' henderson',\n",
    "    'indian land,': 'indian land',\n",
    "    'indian lands': 'indian land',\n",
    "    'kernen im remstal': 'kernen',\n",
    "    'kernen-stetten': 'kernen',\n",
    "    'king': 'king city', \n",
    "    'las  vegas': 'las vegas',\n",
    "    'las vegas east': 'las vegas',\n",
    "    'las vegas nv': 'las vegas',\n",
    "    'las vegas strip': 'las vegas',\n",
    "    'las vegas, nv': 'las vegas',\n",
    "    'las vegass': 'las vegas', \n",
    "    'lasvegas': 'las vegas', \n",
    "    'laveen village': 'laveen',\n",
    "    'leinfelden-echterdingen': 'leinfelden-echterdingen',\n",
    "    'litchfield': 'litchfield park', \n",
    "    'mathews': 'matthews',\n",
    "    'mattews': 'matthews',\n",
    "    'mayfield heights (cleveland)': 'mayfield heights',\n",
    "    'mayfield heights.': 'mayfield heights',\n",
    "    'mayfield village': 'mayfield',\n",
    "    'mccandless township': 'mccandless',\n",
    "    'mcmurry': 'mcmurray',\n",
    "    'median': 'medina',\n",
    "    'mentor on the': 'mentor',\n",
    "    'mentor on the lake': 'mentor',\n",
    "    'mentor-on-the-lake': 'mentor',\n",
    "    'mesa arizona': 'mesa',\n",
    "    'mesa az': 'mesa',\n",
    "    'meza': 'mesa',\n",
    "    'mint  hill': 'mint hill',\n",
    "    'missisauga': 'mississauga',\n",
    "    'mississauaga': 'mississauga',\n",
    "    'mississuaga': 'mississauga',\n",
    "    'monoroeville': 'monroeville',\n",
    "    'monreoville': 'monroeville',\n",
    "    'monroeville - pit.': 'monroeville',\n",
    "    'montral': 'montréal',\n",
    "    'montreal-nord': 'montréal',\n",
    "    'montreal': 'montréal',\n",
    "    'montreal-ouest': 'montréal',\n",
    "    'montreal-west': 'montréal',\n",
    "    'montréal (québec)': 'montréal',\n",
    "    'montréal-nord': 'montréal',\n",
    "    'montréal-ouest': 'montréal',\n",
    "    'montéal': 'montréal',\n",
    "    'moon township': 'moon',\n",
    "    'mt': 'mount',\n",
    "    'mt.': 'mount',\n",
    "    'municipalilty of murrysville': 'murrysville',\n",
    "    'murrysville (monroeville)': 'murrysville',\n",
    "    'n e las vegas': 'las vegas',\n",
    "    'n las vegas': 'las vegas',\n",
    "    'n w las vegas': 'las vegas',\n",
    "    'n. las vegas': 'las vegas', \n",
    "    'n. olmsted': 'olmsted',\n",
    "    'n. randall': 'randall',\n",
    "    'n. ridgeville': 'ridgeville',\n",
    "    'nellis': 'nellis air force base',\n",
    "    'nellis afb': 'nellis air force base',\n",
    "    'north huntington': 'north huntingdon', \n",
    "    'north las vegas': 'las vegas',\n",
    "    'north olmstead': 'olmstead',\n",
    "    'north olmsted': 'olmstead',\n",
    "    'north olmsted,': 'olmstead',\n",
    "    'north scottsdale': 'scottsdale',\n",
    "    \"peoria ave citizen's group\": 'peoria',\n",
    "    'pheonix': 'phoenix',\n",
    "    'phoenix az': 'phoenix',\n",
    "    'phoenix metro area': 'phoenix',\n",
    "    'phoenix': 'phoenix',\n",
    "    'phoenix, az': 'phoenix',\n",
    "    'phoneix': 'phoenix',\n",
    "    'phoneix, az': 'phoenix',\n",
    "    'phoniex': 'phoenix',\n",
    "    'phx': 'phoenix',\n",
    "    'pittsburch': 'pittsburgh',\n",
    "    'pittsburg': 'pittsburgh',\n",
    "    'pointe claire': 'pointe-claire',\n",
    "    'point claire': 'pointe-claire',\n",
    "    'richmond hil': 'richmond hill',\n",
    "    'robinson': 'robinson township',\n",
    "    'robinson town': 'robinson township',\n",
    "    'rosemere': 'rosemère',\n",
    "    'ross': 'ross township',\n",
    "    'russell': 'russell township',\n",
    "    'saint bruno': 'saint-bruno-de-montarville',\n",
    "    'sainte-thérèse-de-blainville': 'sainte-thérèse',\n",
    "    'sainte-therese': 'sainte-thérèse',\n",
    "    'scarborough,': 'scarborough',\n",
    "    'scaroborough': 'scarborough',\n",
    "    'scarobrough': 'scarborough',\n",
    "    'schottsdale': 'scottsdale',\n",
    "    'scotesdale': 'scottsdale',\n",
    "    'scottdale': 'scottsdale',\n",
    "    'scottsdale az': 'scottsdale',\n",
    "    'shady side': 'shadyside',\n",
    "    'sindelfingen': 'sindelfingen/eichholz',\n",
    "    'shaler township': 'shaler',\n",
    "    'south las vegas': 'las vegas',\n",
    "    'south park township': 'south park',\n",
    "    'sun city anthem': 'sun city',\n",
    "    'sun city grand': 'sun city',\n",
    "    'sun city west': 'sun city',\n",
    "    'surprise crossing': 'surprise',\n",
    "    'tempe arizona': 'tempe',\n",
    "    'thornihil': 'thornhill',\n",
    "    'toronto, ontario': 'toronto',\n",
    "    'totronto': 'toronto',\n",
    "    'st': 'saint',\n",
    "    'st.': 'saint',\n",
    "    'vaudreuil': 'vaudreuil-dorion',\n",
    "    'vaughn': 'vaughan',\n",
    "    'vaughn city': 'vaughan', \n",
    "    'w henderson': 'henderson',\n",
    "    'w spring valley': 'spring valley',\n",
    "    'warrensville': 'warrensville heights',\n",
    "    'westworld scottsdale': 'scottsdale',\n",
    "    'willoughby hills': 'willoughby',\n",
    "    'woodbridge (vaughan)': 'woodbridge',\n",
    "    'woodmere village': 'woodmere',\n",
    "    'york regional municipality': 'york',\n",
    "    'île des soeurs': 'île-des-soeurs'\n",
    "}"
   ]
  },
  {
   "cell_type": "code",
   "execution_count": 11,
   "metadata": {},
   "outputs": [],
   "source": [
    "city_counts = make_count_df('business.json', 'city', columns=['City', 'Business Count'])\n",
    "state_counts = make_count_df('business.json', 'state', columns=['State', 'Business Count'])"
   ]
  },
  {
   "cell_type": "code",
   "execution_count": 12,
   "metadata": {
    "scrolled": false
   },
   "outputs": [],
   "source": [
    "cities = [(json.loads(x).get('city').lower().strip(), json.loads(x).get('state').lower().strip()) \n",
    "          for x in extract_data('business.json')]\n",
    "df = pd.DataFrame(cities, columns=['City', 'State'])"
   ]
  },
  {
   "cell_type": "code",
   "execution_count": 13,
   "metadata": {},
   "outputs": [],
   "source": [
    "df['City'] = df['City'].map(lambda x: replacement_dict.get(x) if replacement_dict.get(x) else x)"
   ]
  },
  {
   "cell_type": "code",
   "execution_count": 14,
   "metadata": {},
   "outputs": [
    {
     "data": {
      "image/png": "[encoded data removed]",
      "text/plain": [
       "<matplotlib.figure.Figure at 0x7f07ed81c9b0>"
      ]
     },
     "metadata": {},
     "output_type": "display_data"
    }
   ],
   "source": [
    "top_10_cities = city_counts.sort_values(by='Business Count', ascending=False).iloc[:10]\n",
    "top_10_cities.plot.bar('City', 'Business Count', figsize=(14, 6))\n",
    "plt.title('Top 10 Cities by Business Count');"
   ]
  },
  {
   "cell_type": "code",
   "execution_count": 15,
   "metadata": {},
   "outputs": [
    {
     "data": {
      "image/png": "[encoded data removed]",
      "text/plain": [
       "<matplotlib.figure.Figure at 0x7f07ed81c940>"
      ]
     },
     "metadata": {},
     "output_type": "display_data"
    }
   ],
   "source": [
    "top_10_states = state_counts.sort_values(by='Business Count', ascending=False).iloc[:10]\n",
    "top_10_states.plot.bar('State', 'Business Count', figsize=(14, 6))\n",
    "plt.title('Top 10 States by Business Count');"
   ]
  },
  {
   "cell_type": "code",
   "execution_count": 16,
   "metadata": {
    "collapsed": true
   },
   "outputs": [],
   "source": [
    "review_counts = Counter([json.loads(x).get('stars') for x in extract_data('business.json')])"
   ]
  },
  {
   "cell_type": "code",
   "execution_count": 17,
   "metadata": {},
   "outputs": [
    {
     "data": {
      "text/plain": [
       "<matplotlib.text.Text at 0x7f07e84c4748>"
      ]
     },
     "execution_count": 17,
     "metadata": {},
     "output_type": "execute_result"
    },
    {
     "data": {
      "image/png": "[encoded data removed]",
      "text/plain": [
       "<matplotlib.figure.Figure at 0x7f07e88c19e8>"
      ]
     },
     "metadata": {},
     "output_type": "display_data"
    }
   ],
   "source": [
    "pd.DataFrame(list(review_counts.items()), columns=['Star Rating', 'Business Count'])\\\n",
    "    .sort_values(by='Star Rating')\\\n",
    "    .plot.bar('Star Rating', 'Business Count', figsize=(14, 6))\n",
    "plt.ylabel('Business Count')\n",
    "plt.title('')"
   ]
  }
 ],
 "metadata": {
  "kernelspec": {
   "display_name": "Python 3",
   "language": "python",
   "name": "python3"
  },
  "language_info": {
   "codemirror_mode": {
    "name": "ipython",
    "version": 3
   },
   "file_extension": ".py",
   "mimetype": "text/x-python",
   "name": "python",
   "nbconvert_exporter": "python",
   "pygments_lexer": "ipython3",
   "version": "3.6.1"
  }
 },
 "nbformat": 4,
 "nbformat_minor": 2
}
