{
 "cells": [
  {
   "cell_type": "code",
   "execution_count": 229,
   "metadata": {
    "collapsed": true
   },
   "outputs": [],
   "source": [
    "import re\n",
    "import json\n",
    "import spacy\n",
    "import pandas as pd\n",
    "import cufflinks as cf\n",
    "from nltk import ngrams\n",
    "from itertools import chain\n",
    "from random import shuffle\n",
    "from string import punctuation\n",
    "from collections import Counter\n",
    "from plotly.offline import download_plotlyjs, init_notebook_mode, iplot"
   ]
  },
  {
   "cell_type": "code",
   "execution_count": 219,
   "metadata": {},
   "outputs": [
    {
     "data": {
      "text/html": [
       "<script>requirejs.config({paths: { 'plotly': ['https://cdn.plot.ly/plotly-latest.min']},});if(!window.Plotly) {{require(['plotly'],function(plotly) {window.Plotly=plotly;});}}</script>"
      ],
      "text/vnd.plotly.v1+html": [
       "<script>requirejs.config({paths: { 'plotly': ['https://cdn.plot.ly/plotly-latest.min']},});if(!window.Plotly) {{require(['plotly'],function(plotly) {window.Plotly=plotly;});}}</script>"
      ]
     },
     "metadata": {},
     "output_type": "display_data"
    },
    {
     "name": "stderr",
     "output_type": "stream",
     "text": [
      "IOPub data rate exceeded.\n",
      "The notebook server will temporarily stop sending output\n",
      "to the client in order to avoid crashing it.\n",
      "To change this limit, set the config variable\n",
      "`--NotebookApp.iopub_data_rate_limit`.\n"
     ]
    }
   ],
   "source": [
    "init_notebook_mode(connected=True)\n",
    "cf.set_config_file(theme='white')\n",
    "cf.go_offline()\n",
    "colorscale = map(lambda x: x, cf.colors.get_scales('accent'))"
   ]
  },
  {
   "cell_type": "code",
   "execution_count": 4,
   "metadata": {
    "collapsed": true
   },
   "outputs": [],
   "source": [
    "def extract_data(f):\n",
    "    with open(f, 'r') as read_file:\n",
    "        for _ in read_file:\n",
    "            yield json.loads(_)"
   ]
  },
  {
   "cell_type": "code",
   "execution_count": 5,
   "metadata": {
    "collapsed": true
   },
   "outputs": [],
   "source": [
    "reviews = extract_data('review.json')\n",
    "businesses = extract_data('business.json')"
   ]
  },
  {
   "cell_type": "code",
   "execution_count": 6,
   "metadata": {
    "collapsed": true
   },
   "outputs": [],
   "source": [
    "review_df = pd.DataFrame(list(reviews))\n",
    "business_df = pd.DataFrame(list(businesses))"
   ]
  },
  {
   "cell_type": "code",
   "execution_count": 7,
   "metadata": {
    "collapsed": true
   },
   "outputs": [],
   "source": [
    "us_states = json.loads(open('usStates.json').read())\n",
    "only_us_businesses = business_df[business_df.state.isin(us_states.keys())]"
   ]
  },
  {
   "cell_type": "code",
   "execution_count": 8,
   "metadata": {
    "collapsed": true
   },
   "outputs": [],
   "source": [
    "merged_reviews = business_df[['business_id']].merge(review_df[['business_id', 'text']], on='business_id')"
   ]
  },
  {
   "cell_type": "code",
   "execution_count": 53,
   "metadata": {},
   "outputs": [
    {
     "name": "stdout",
     "output_type": "stream",
     "text": [
      "Total number of Yelp reviews: 4736897\n"
     ]
    }
   ],
   "source": [
    "print('Total number of Yelp reviews:', len(merged_reviews))"
   ]
  },
  {
   "cell_type": "code",
   "execution_count": 209,
   "metadata": {},
   "outputs": [],
   "source": [
    "def filter_token(token):\n",
    "    special_characters = re.compile('[\\n\\t\\s]+?')\n",
    "    punctuation_digits_regex = re.compile(\"[\\d{}]+$\".format(re.escape(punctuation)))\n",
    "    token_filter = not (token.is_punct \n",
    "                        or token.is_stop \n",
    "                        or special_characters.search(token.text) \n",
    "                        or punctuation_digits_regex.search(token.text)\n",
    "                        or \"'\" in token.text)\n",
    "    if token_filter:\n",
    "        return token"
   ]
  },
  {
   "cell_type": "code",
   "execution_count": 179,
   "metadata": {
    "collapsed": true
   },
   "outputs": [],
   "source": [
    "def gather_doc_metrics(docs):\n",
    "    return [\n",
    "        {\n",
    "            'id': i, \n",
    "            'text': [filter_token(token).text for token in doc if filter_token(token)],\n",
    "            'lemma': [filter_token(token).lemma_ for token in doc if filter_token(token)], \n",
    "            'doc': doc\n",
    "        }\n",
    "        for i,doc in enumerate(docs)\n",
    "    ]"
   ]
  },
  {
   "cell_type": "code",
   "execution_count": 180,
   "metadata": {},
   "outputs": [],
   "source": [
    "nlp = spacy.load('en')\n",
    "review_sample = merged_reviews.sample(n=10000).text.tolist()\n",
    "docs = list(map(nlp, review_sample))"
   ]
  },
  {
   "cell_type": "code",
   "execution_count": 210,
   "metadata": {},
   "outputs": [],
   "source": [
    "doc_metrics = gather_doc_metrics(docs)"
   ]
  },
  {
   "cell_type": "markdown",
   "metadata": {},
   "source": [
    "###Most Frequent Words"
   ]
  },
  {
   "cell_type": "code",
   "execution_count": 211,
   "metadata": {},
   "outputs": [],
   "source": [
    "all_text = chain.from_iterable([d.get('text') for d in doc_metrics])\n",
    "all_text = [token.lower().strip() for token in all_text]"
   ]
  },
  {
   "cell_type": "code",
   "execution_count": 212,
   "metadata": {},
   "outputs": [
    {
     "data": {
      "text/plain": [
       "29984"
      ]
     },
     "execution_count": 212,
     "metadata": {},
     "output_type": "execute_result"
    }
   ],
   "source": [
    "len(Counter(all_text))"
   ]
  },
  {
   "cell_type": "code",
   "execution_count": 228,
   "metadata": {},
   "outputs": [
    {
     "data": {
      "application/vnd.plotly.v1+json": {
       "data": [
        {
         "marker": {
          "color": "rgba(55, 128, 191, 0.6)",
          "line": {
           "color": "rgba(55, 128, 191, 1.0)",
           "width": 1
          }
         },
         "name": "Count",
         "orientation": "v",
         "text": "",
         "type": "bar",
         "uid": "261be5",
         "x": [
          "food",
          "good",
          "place",
          "great",
          "like",
          "time",
          "service",
          "got",
          "nice",
          "best",
          "order",
          "ordered",
          "love",
          "came",
          "friendly",
          "staff",
          "try",
          "went",
          "people",
          "definitely",
          "little",
          "restaurant",
          "come",
          "chicken",
          "experience"
         ],
         "y": [
          5205,
          5193,
          5064,
          4394,
          3737,
          3692,
          3496,
          1994,
          1920,
          1803,
          1629,
          1595,
          1589,
          1558,
          1550,
          1540,
          1527,
          1500,
          1492,
          1444,
          1432,
          1420,
          1404,
          1368,
          1333
         ]
        }
       ],
       "layout": {
        "autosize": true,
        "legend": {
         "bgcolor": "#FFFFFF",
         "font": {
          "color": "#4D5663"
         }
        },
        "paper_bgcolor": "#FFFFFF",
        "plot_bgcolor": "#FFFFFF",
        "showlegend": false,
        "title": "Top 25 Words by Count",
        "titlefont": {
         "color": "#4D5663"
        },
        "xaxis": {
         "autorange": true,
         "gridcolor": "#E1E5ED",
         "range": [
          -0.5,
          24.5
         ],
         "showgrid": true,
         "tickfont": {
          "color": "#4D5663"
         },
         "title": "word",
         "titlefont": {
          "color": "#4D5663"
         },
         "type": "category",
         "zerolinecolor": "#E1E5ED"
        },
        "yaxis": {
         "autorange": true,
         "gridcolor": "#E1E5ED",
         "range": [
          0,
          5478.9473684210525
         ],
         "showgrid": true,
         "tickfont": {
          "color": "#4D5663"
         },
         "title": "count",
         "titlefont": {
          "color": "#4D5663"
         },
         "type": "linear",
         "zerolinecolor": "#E1E5ED"
        }
       }
      },
      "text/html": [
       "<div id=\"30c2b7d1-bb06-4c51-9ebd-3a0832bb4fce\" style=\"height: 525px; width: 100%;\" class=\"plotly-graph-div\"></div><script type=\"text/javascript\">require([\"plotly\"], function(Plotly) { window.PLOTLYENV=window.PLOTLYENV || {};window.PLOTLYENV.BASE_URL=\"https://plot.ly\";Plotly.newPlot(\"30c2b7d1-bb06-4c51-9ebd-3a0832bb4fce\", [{\"type\": \"bar\", \"x\": [\"food\", \"good\", \"place\", \"great\", \"like\", \"time\", \"service\", \"got\", \"nice\", \"best\", \"order\", \"ordered\", \"love\", \"came\", \"friendly\", \"staff\", \"try\", \"went\", \"people\", \"definitely\", \"little\", \"restaurant\", \"come\", \"chicken\", \"experience\"], \"y\": [5205, 5193, 5064, 4394, 3737, 3692, 3496, 1994, 1920, 1803, 1629, 1595, 1589, 1558, 1550, 1540, 1527, 1500, 1492, 1444, 1432, 1420, 1404, 1368, 1333], \"name\": \"Count\", \"text\": \"\", \"marker\": {\"color\": \"rgba(55, 128, 191, 0.6)\", \"line\": {\"color\": \"rgba(55, 128, 191, 1.0)\", \"width\": 1}}, \"orientation\": \"v\"}], {\"legend\": {\"bgcolor\": \"#FFFFFF\", \"font\": {\"color\": \"#4D5663\"}}, \"paper_bgcolor\": \"#FFFFFF\", \"plot_bgcolor\": \"#FFFFFF\", \"yaxis1\": {\"tickfont\": {\"color\": \"#4D5663\"}, \"gridcolor\": \"#E1E5ED\", \"titlefont\": {\"color\": \"#4D5663\"}, \"zerolinecolor\": \"#E1E5ED\", \"showgrid\": true, \"title\": \"count\"}, \"xaxis1\": {\"tickfont\": {\"color\": \"#4D5663\"}, \"gridcolor\": \"#E1E5ED\", \"titlefont\": {\"color\": \"#4D5663\"}, \"zerolinecolor\": \"#E1E5ED\", \"showgrid\": true, \"title\": \"word\"}, \"titlefont\": {\"color\": \"#4D5663\"}, \"title\": \"Top 25 Words by Count\", \"showlegend\": false}, {\"showLink\": true, \"linkText\": \"Export to plot.ly\"})});</script>"
      ],
      "text/vnd.plotly.v1+html": [
       "<div id=\"30c2b7d1-bb06-4c51-9ebd-3a0832bb4fce\" style=\"height: 525px; width: 100%;\" class=\"plotly-graph-div\"></div><script type=\"text/javascript\">require([\"plotly\"], function(Plotly) { window.PLOTLYENV=window.PLOTLYENV || {};window.PLOTLYENV.BASE_URL=\"https://plot.ly\";Plotly.newPlot(\"30c2b7d1-bb06-4c51-9ebd-3a0832bb4fce\", [{\"type\": \"bar\", \"x\": [\"food\", \"good\", \"place\", \"great\", \"like\", \"time\", \"service\", \"got\", \"nice\", \"best\", \"order\", \"ordered\", \"love\", \"came\", \"friendly\", \"staff\", \"try\", \"went\", \"people\", \"definitely\", \"little\", \"restaurant\", \"come\", \"chicken\", \"experience\"], \"y\": [5205, 5193, 5064, 4394, 3737, 3692, 3496, 1994, 1920, 1803, 1629, 1595, 1589, 1558, 1550, 1540, 1527, 1500, 1492, 1444, 1432, 1420, 1404, 1368, 1333], \"name\": \"Count\", \"text\": \"\", \"marker\": {\"color\": \"rgba(55, 128, 191, 0.6)\", \"line\": {\"color\": \"rgba(55, 128, 191, 1.0)\", \"width\": 1}}, \"orientation\": \"v\"}], {\"legend\": {\"bgcolor\": \"#FFFFFF\", \"font\": {\"color\": \"#4D5663\"}}, \"paper_bgcolor\": \"#FFFFFF\", \"plot_bgcolor\": \"#FFFFFF\", \"yaxis1\": {\"tickfont\": {\"color\": \"#4D5663\"}, \"gridcolor\": \"#E1E5ED\", \"titlefont\": {\"color\": \"#4D5663\"}, \"zerolinecolor\": \"#E1E5ED\", \"showgrid\": true, \"title\": \"count\"}, \"xaxis1\": {\"tickfont\": {\"color\": \"#4D5663\"}, \"gridcolor\": \"#E1E5ED\", \"titlefont\": {\"color\": \"#4D5663\"}, \"zerolinecolor\": \"#E1E5ED\", \"showgrid\": true, \"title\": \"word\"}, \"titlefont\": {\"color\": \"#4D5663\"}, \"title\": \"Top 25 Words by Count\", \"showlegend\": false}, {\"showLink\": true, \"linkText\": \"Export to plot.ly\"})});</script>"
      ]
     },
     "metadata": {},
     "output_type": "display_data"
    },
    {
     "ename": "PlotlyError",
     "evalue": "The `figure_or_data` positional argument must be either `dict`-like or `list`-like.",
     "output_type": "error",
     "traceback": [
      "\u001b[0;31m---------------------------------------------------------------------------\u001b[0m",
      "\u001b[0;31mPlotlyError\u001b[0m                               Traceback (most recent call last)",
      "\u001b[0;32m<ipython-input-228-657736b90e95>\u001b[0m in \u001b[0;36m<module>\u001b[0;34m()\u001b[0m\n\u001b[1;32m      8\u001b[0m                                       color='blue')\n\u001b[1;32m      9\u001b[0m \u001b[0;34m\u001b[0m\u001b[0m\n\u001b[0;32m---> 10\u001b[0;31m \u001b[0miplot\u001b[0m\u001b[0;34m(\u001b[0m\u001b[0mcf\u001b[0m\u001b[0;34m.\u001b[0m\u001b[0miplot\u001b[0m\u001b[0;34m(\u001b[0m\u001b[0mword_count_plot\u001b[0m\u001b[0;34m,\u001b[0m \u001b[0mlegend\u001b[0m\u001b[0;34m=\u001b[0m\u001b[0;32mFalse\u001b[0m\u001b[0;34m)\u001b[0m\u001b[0;34m)\u001b[0m\u001b[0;34m\u001b[0m\u001b[0m\n\u001b[0m",
      "\u001b[0;32m/home/blake/anaconda3/lib/python3.6/site-packages/plotly/offline/offline.py\u001b[0m in \u001b[0;36miplot\u001b[0;34m(figure_or_data, show_link, link_text, validate, image, filename, image_width, image_height, config)\u001b[0m\n\u001b[1;32m    330\u001b[0m     \u001b[0mconfig\u001b[0m\u001b[0;34m.\u001b[0m\u001b[0msetdefault\u001b[0m\u001b[0;34m(\u001b[0m\u001b[0;34m'linkText'\u001b[0m\u001b[0;34m,\u001b[0m \u001b[0mlink_text\u001b[0m\u001b[0;34m)\u001b[0m\u001b[0;34m\u001b[0m\u001b[0m\n\u001b[1;32m    331\u001b[0m \u001b[0;34m\u001b[0m\u001b[0m\n\u001b[0;32m--> 332\u001b[0;31m     \u001b[0mfigure\u001b[0m \u001b[0;34m=\u001b[0m \u001b[0mtools\u001b[0m\u001b[0;34m.\u001b[0m\u001b[0mreturn_figure_from_figure_or_data\u001b[0m\u001b[0;34m(\u001b[0m\u001b[0mfigure_or_data\u001b[0m\u001b[0;34m,\u001b[0m \u001b[0mvalidate\u001b[0m\u001b[0;34m)\u001b[0m\u001b[0;34m\u001b[0m\u001b[0m\n\u001b[0m\u001b[1;32m    333\u001b[0m \u001b[0;34m\u001b[0m\u001b[0m\n\u001b[1;32m    334\u001b[0m     \u001b[0;31m# Though it can add quite a bit to the display-bundle size, we include\u001b[0m\u001b[0;34m\u001b[0m\u001b[0;34m\u001b[0m\u001b[0m\n",
      "\u001b[0;32m/home/blake/anaconda3/lib/python3.6/site-packages/plotly/tools.py\u001b[0m in \u001b[0;36mreturn_figure_from_figure_or_data\u001b[0;34m(figure_or_data, validate_figure)\u001b[0m\n\u001b[1;32m   1446\u001b[0m         \u001b[0mfigure\u001b[0m \u001b[0;34m=\u001b[0m \u001b[0;34m{\u001b[0m\u001b[0;34m'data'\u001b[0m\u001b[0;34m:\u001b[0m \u001b[0mfigure_or_data\u001b[0m\u001b[0;34m}\u001b[0m\u001b[0;34m\u001b[0m\u001b[0m\n\u001b[1;32m   1447\u001b[0m     \u001b[0;32melse\u001b[0m\u001b[0;34m:\u001b[0m\u001b[0;34m\u001b[0m\u001b[0m\n\u001b[0;32m-> 1448\u001b[0;31m         raise exceptions.PlotlyError(\"The `figure_or_data` positional \"\n\u001b[0m\u001b[1;32m   1449\u001b[0m                                      \u001b[0;34m\"argument must be either \"\u001b[0m\u001b[0;34m\u001b[0m\u001b[0m\n\u001b[1;32m   1450\u001b[0m                                      \"`dict`-like or `list`-like.\")\n",
      "\u001b[0;31mPlotlyError\u001b[0m: The `figure_or_data` positional argument must be either `dict`-like or `list`-like."
     ]
    }
   ],
   "source": [
    "#top 25 words by count\n",
    "word_count_df = pd.DataFrame(Counter(all_text).most_common(25), columns=['Word', 'Count']).set_index('Word')\n",
    "word_count_plot = word_count_df.iplot(kind='bar', \n",
    "                                      asFigure=True, \n",
    "                                      xTitle='word', \n",
    "                                      yTitle='count', \n",
    "                                      title='Top 25 Words by Count',\n",
    "                                      color='blue')\n",
    "\n",
    "iplot(cf.iplot(word_count_plot, legend=False))"
   ]
  }
 ],
 "metadata": {
  "kernelspec": {
   "display_name": "Python 3",
   "language": "python",
   "name": "python3"
  },
  "language_info": {
   "codemirror_mode": {
    "name": "ipython",
    "version": 3
   },
   "file_extension": ".py",
   "mimetype": "text/x-python",
   "name": "python",
   "nbconvert_exporter": "python",
   "pygments_lexer": "ipython3",
   "version": "3.6.1"
  }
 },
 "nbformat": 4,
 "nbformat_minor": 2
}
