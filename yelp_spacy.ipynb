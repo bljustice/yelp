{
 "cells": [
  {
   "cell_type": "code",
   "execution_count": 1,
   "metadata": {
    "collapsed": true
   },
   "outputs": [],
   "source": [
    "import re\n",
    "import json\n",
    "import spacy\n",
    "import pandas as pd\n",
    "import cufflinks as cf\n",
    "from nltk import ngrams\n",
    "from itertools import chain\n",
    "from random import shuffle\n",
    "from string import punctuation\n",
    "from collections import Counter\n",
    "from plotly.offline import download_plotlyjs, init_notebook_mode, iplot"
   ]
  },
  {
   "cell_type": "code",
   "execution_count": 2,
   "metadata": {},
   "outputs": [
    {
     "data": {
      "text/html": [
       "<script>requirejs.config({paths: { 'plotly': ['https://cdn.plot.ly/plotly-latest.min']},});if(!window.Plotly) {{require(['plotly'],function(plotly) {window.Plotly=plotly;});}}</script>"
      ],
      "text/vnd.plotly.v1+html": [
       "<script>requirejs.config({paths: { 'plotly': ['https://cdn.plot.ly/plotly-latest.min']},});if(!window.Plotly) {{require(['plotly'],function(plotly) {window.Plotly=plotly;});}}</script>"
      ]
     },
     "metadata": {},
     "output_type": "display_data"
    },
    {
     "name": "stderr",
     "output_type": "stream",
     "text": [
      "IOPub data rate exceeded.\n",
      "The notebook server will temporarily stop sending output\n",
      "to the client in order to avoid crashing it.\n",
      "To change this limit, set the config variable\n",
      "`--NotebookApp.iopub_data_rate_limit`.\n"
     ]
    }
   ],
   "source": [
    "init_notebook_mode(connected=True)\n",
    "cf.set_config_file(theme='white')\n",
    "cf.go_offline()\n",
    "colorscale = map(lambda x: x, cf.colors.get_scales('accent'))"
   ]
  },
  {
   "cell_type": "code",
   "execution_count": 3,
   "metadata": {
    "collapsed": true
   },
   "outputs": [],
   "source": [
    "def extract_data(f):\n",
    "    with open(f, 'r') as read_file:\n",
    "        for _ in read_file:\n",
    "            yield json.loads(_)"
   ]
  },
  {
   "cell_type": "code",
   "execution_count": 4,
   "metadata": {
    "collapsed": true
   },
   "outputs": [],
   "source": [
    "reviews = extract_data('review.json')\n",
    "businesses = extract_data('business.json')"
   ]
  },
  {
   "cell_type": "code",
   "execution_count": 5,
   "metadata": {
    "collapsed": true
   },
   "outputs": [],
   "source": [
    "review_df = pd.DataFrame(list(reviews))\n",
    "business_df = pd.DataFrame(list(businesses))"
   ]
  },
  {
   "cell_type": "code",
   "execution_count": 6,
   "metadata": {
    "collapsed": true
   },
   "outputs": [],
   "source": [
    "us_states = json.loads(open('usStates.json').read())\n",
    "only_us_businesses = business_df[business_df.state.isin(us_states.keys())]"
   ]
  },
  {
   "cell_type": "code",
   "execution_count": 7,
   "metadata": {
    "collapsed": true
   },
   "outputs": [],
   "source": [
    "merged_reviews = business_df[['business_id']].merge(review_df[['business_id', 'text']], on='business_id')"
   ]
  },
  {
   "cell_type": "code",
   "execution_count": 8,
   "metadata": {},
   "outputs": [
    {
     "name": "stdout",
     "output_type": "stream",
     "text": [
      "Total number of Yelp reviews: 4736897\n"
     ]
    }
   ],
   "source": [
    "print('Total number of Yelp reviews:', len(merged_reviews))"
   ]
  },
  {
   "cell_type": "code",
   "execution_count": 9,
   "metadata": {},
   "outputs": [],
   "source": [
    "def filter_token(token):\n",
    "    special_characters = re.compile('[\\n\\t\\s]+?')\n",
    "    punctuation_digits_regex = re.compile(\"[\\d{}]+$\".format(re.escape(punctuation)))\n",
    "    token_filter = not (token.is_punct \n",
    "                        or token.is_stop \n",
    "                        or special_characters.search(token.text) \n",
    "                        or punctuation_digits_regex.search(token.text)\n",
    "                        or \"'\" in token.text)\n",
    "    if token_filter:\n",
    "        return token"
   ]
  },
  {
   "cell_type": "code",
   "execution_count": 89,
   "metadata": {
    "collapsed": true
   },
   "outputs": [],
   "source": [
    "def gather_doc_metrics(docs):\n",
    "    all_doc_metrics = []\n",
    "    for i,doc in enumerate(docs):\n",
    "        doc_metrics = {\n",
    "            'id': i, \n",
    "            'text': [filter_token(token).text for token in doc if filter_token(token)],\n",
    "            'lemma': [filter_token(token).lemma_ for token in doc if filter_token(token)], \n",
    "            'doc': doc\n",
    "        }\n",
    "        doc_metrics['bigrams'] = map(lambda ngram: ' '.join(ngram).lower().strip(), ngrams(doc_metrics.get('text'), 2))\n",
    "        doc_metrics['trigrams'] = map(lambda ngram: ' '.join(ngram).lower().strip(), ngrams(doc_metrics.get('text'), 3))\n",
    "        all_doc_metrics.append(doc_metrics)\n",
    "    return all_doc_metrics"
   ]
  },
  {
   "cell_type": "code",
   "execution_count": 82,
   "metadata": {},
   "outputs": [],
   "source": [
    "nlp = spacy.load('en')\n",
    "review_sample = merged_reviews.sample(n=1000).text.tolist()\n",
    "docs = list(map(nlp, review_sample))"
   ]
  },
  {
   "cell_type": "code",
   "execution_count": 133,
   "metadata": {},
   "outputs": [],
   "source": [
    "doc_metrics = gather_doc_metrics(docs)"
   ]
  },
  {
   "cell_type": "markdown",
   "metadata": {},
   "source": [
    "###Most Frequent Words"
   ]
  },
  {
   "cell_type": "code",
   "execution_count": 91,
   "metadata": {},
   "outputs": [],
   "source": [
    "all_text = chain.from_iterable([d.get('text') for d in doc_metrics])\n",
    "all_text = [token.lower().strip() for token in all_text]"
   ]
  },
  {
   "cell_type": "code",
   "execution_count": 92,
   "metadata": {},
   "outputs": [
    {
     "data": {
      "text/plain": [
       "8773"
      ]
     },
     "execution_count": 92,
     "metadata": {},
     "output_type": "execute_result"
    }
   ],
   "source": [
    "len(Counter(all_text))"
   ]
  },
  {
   "cell_type": "code",
   "execution_count": 123,
   "metadata": {},
   "outputs": [
    {
     "data": {
      "application/vnd.plotly.v1+json": {
       "data": [
        {
         "marker": {
          "color": "rgba(55, 128, 191, 0.6)",
          "line": {
           "color": "rgba(55, 128, 191, 1.0)",
           "width": 1
          }
         },
         "name": "Count",
         "orientation": "v",
         "text": "",
         "type": "bar",
         "uid": "40bb8a",
         "x": [
          "place",
          "good",
          "food",
          "great",
          "time",
          "like",
          "service",
          "got",
          "nice",
          "best",
          "friendly",
          "came",
          "people",
          "love",
          "ordered",
          "try",
          "went",
          "chicken",
          "restaurant",
          "definitely",
          "order",
          "menu",
          "staff",
          "come",
          "little"
         ],
         "y": [
          530,
          529,
          511,
          410,
          343,
          341,
          332,
          221,
          186,
          175,
          162,
          154,
          153,
          152,
          152,
          151,
          151,
          148,
          148,
          147,
          144,
          139,
          138,
          136,
          133
         ]
        }
       ],
       "layout": {
        "autosize": true,
        "legend": {
         "bgcolor": "#FFFFFF",
         "font": {
          "color": "#4D5663"
         }
        },
        "paper_bgcolor": "#FFFFFF",
        "plot_bgcolor": "#FFFFFF",
        "showlegend": false,
        "title": "Top 25 Words by Count",
        "titlefont": {
         "color": "#4D5663"
        },
        "xaxis": {
         "autorange": true,
         "gridcolor": "#E1E5ED",
         "range": [
          -0.5,
          24.5
         ],
         "showgrid": true,
         "tickfont": {
          "color": "#4D5663"
         },
         "title": "word",
         "titlefont": {
          "color": "#4D5663"
         },
         "type": "category",
         "zerolinecolor": "#E1E5ED"
        },
        "yaxis": {
         "autorange": true,
         "gridcolor": "#E1E5ED",
         "range": [
          0,
          557.8947368421053
         ],
         "showgrid": true,
         "tickfont": {
          "color": "#4D5663"
         },
         "title": "count",
         "titlefont": {
          "color": "#4D5663"
         },
         "type": "linear",
         "zerolinecolor": "#E1E5ED"
        }
       }
      },
      "text/html": [
       "<div id=\"2282a93b-282b-43d2-adbe-ab3258d3a003\" style=\"height: 525px; width: 100%;\" class=\"plotly-graph-div\"></div><script type=\"text/javascript\">require([\"plotly\"], function(Plotly) { window.PLOTLYENV=window.PLOTLYENV || {};window.PLOTLYENV.BASE_URL=\"https://plot.ly\";Plotly.newPlot(\"2282a93b-282b-43d2-adbe-ab3258d3a003\", [{\"type\": \"bar\", \"x\": [\"place\", \"good\", \"food\", \"great\", \"time\", \"like\", \"service\", \"got\", \"nice\", \"best\", \"friendly\", \"came\", \"people\", \"love\", \"ordered\", \"try\", \"went\", \"chicken\", \"restaurant\", \"definitely\", \"order\", \"menu\", \"staff\", \"come\", \"little\"], \"y\": [530, 529, 511, 410, 343, 341, 332, 221, 186, 175, 162, 154, 153, 152, 152, 151, 151, 148, 148, 147, 144, 139, 138, 136, 133], \"name\": \"Count\", \"text\": \"\", \"marker\": {\"color\": \"rgba(55, 128, 191, 0.6)\", \"line\": {\"color\": \"rgba(55, 128, 191, 1.0)\", \"width\": 1}}, \"orientation\": \"v\"}], {\"legend\": {\"bgcolor\": \"#FFFFFF\", \"font\": {\"color\": \"#4D5663\"}}, \"paper_bgcolor\": \"#FFFFFF\", \"plot_bgcolor\": \"#FFFFFF\", \"yaxis1\": {\"tickfont\": {\"color\": \"#4D5663\"}, \"gridcolor\": \"#E1E5ED\", \"titlefont\": {\"color\": \"#4D5663\"}, \"zerolinecolor\": \"#E1E5ED\", \"showgrid\": true, \"title\": \"count\"}, \"xaxis1\": {\"tickfont\": {\"color\": \"#4D5663\"}, \"gridcolor\": \"#E1E5ED\", \"titlefont\": {\"color\": \"#4D5663\"}, \"zerolinecolor\": \"#E1E5ED\", \"showgrid\": true, \"title\": \"word\"}, \"titlefont\": {\"color\": \"#4D5663\"}, \"title\": \"Top 25 Words by Count\", \"showlegend\": false}, {\"showLink\": true, \"linkText\": \"Export to plot.ly\"})});</script>"
      ],
      "text/vnd.plotly.v1+html": [
       "<div id=\"2282a93b-282b-43d2-adbe-ab3258d3a003\" style=\"height: 525px; width: 100%;\" class=\"plotly-graph-div\"></div><script type=\"text/javascript\">require([\"plotly\"], function(Plotly) { window.PLOTLYENV=window.PLOTLYENV || {};window.PLOTLYENV.BASE_URL=\"https://plot.ly\";Plotly.newPlot(\"2282a93b-282b-43d2-adbe-ab3258d3a003\", [{\"type\": \"bar\", \"x\": [\"place\", \"good\", \"food\", \"great\", \"time\", \"like\", \"service\", \"got\", \"nice\", \"best\", \"friendly\", \"came\", \"people\", \"love\", \"ordered\", \"try\", \"went\", \"chicken\", \"restaurant\", \"definitely\", \"order\", \"menu\", \"staff\", \"come\", \"little\"], \"y\": [530, 529, 511, 410, 343, 341, 332, 221, 186, 175, 162, 154, 153, 152, 152, 151, 151, 148, 148, 147, 144, 139, 138, 136, 133], \"name\": \"Count\", \"text\": \"\", \"marker\": {\"color\": \"rgba(55, 128, 191, 0.6)\", \"line\": {\"color\": \"rgba(55, 128, 191, 1.0)\", \"width\": 1}}, \"orientation\": \"v\"}], {\"legend\": {\"bgcolor\": \"#FFFFFF\", \"font\": {\"color\": \"#4D5663\"}}, \"paper_bgcolor\": \"#FFFFFF\", \"plot_bgcolor\": \"#FFFFFF\", \"yaxis1\": {\"tickfont\": {\"color\": \"#4D5663\"}, \"gridcolor\": \"#E1E5ED\", \"titlefont\": {\"color\": \"#4D5663\"}, \"zerolinecolor\": \"#E1E5ED\", \"showgrid\": true, \"title\": \"count\"}, \"xaxis1\": {\"tickfont\": {\"color\": \"#4D5663\"}, \"gridcolor\": \"#E1E5ED\", \"titlefont\": {\"color\": \"#4D5663\"}, \"zerolinecolor\": \"#E1E5ED\", \"showgrid\": true, \"title\": \"word\"}, \"titlefont\": {\"color\": \"#4D5663\"}, \"title\": \"Top 25 Words by Count\", \"showlegend\": false}, {\"showLink\": true, \"linkText\": \"Export to plot.ly\"})});</script>"
      ]
     },
     "metadata": {},
     "output_type": "display_data"
    }
   ],
   "source": [
    "#top 25 words by count\n",
    "word_count_df = pd.DataFrame(Counter(all_text).most_common(25), columns=['Word', 'Count']).set_index('Word')\n",
    "word_count_plot = word_count_df.iplot(kind='bar', \n",
    "                                      asFigure=True, \n",
    "                                      xTitle='word', \n",
    "                                      yTitle='count', \n",
    "                                      title='Top 25 Words by Count',\n",
    "                                      color='blue')\n",
    "\n",
    "cf.iplot(word_count_plot, legend=False)"
   ]
  },
  {
   "cell_type": "code",
   "execution_count": 134,
   "metadata": {},
   "outputs": [],
   "source": [
    "def make_ngram_list(doc_metrics, key='bigrams'):\n",
    "    return list(chain.from_iterable([list(d.get(key)) for d in doc_metrics]))"
   ]
  },
  {
   "cell_type": "code",
   "execution_count": 135,
   "metadata": {},
   "outputs": [],
   "source": [
    "#most common bigrams\n",
    "all_bigrams = make_ngram_list(doc_metrics)\n",
    "all_trigrams = make_ngram_list(doc_metrics, key='trigrams')"
   ]
  },
  {
   "cell_type": "code",
   "execution_count": 138,
   "metadata": {},
   "outputs": [],
   "source": [
    "def make_count_df(_ngrams):\n",
    "    top25_ngrams = Counter(_ngrams).most_common(25)\n",
    "    ngram_df = pd.DataFrame(top25_ngrams, columns=['Word', 'Count']).set_index('Word')\n",
    "    return ngram_df"
   ]
  },
  {
   "cell_type": "code",
   "execution_count": 139,
   "metadata": {},
   "outputs": [
    {
     "data": {
      "application/vnd.plotly.v1+json": {
       "data": [
        {
         "marker": {
          "color": "rgba(55, 128, 191, 0.6)",
          "line": {
           "color": "rgba(55, 128, 191, 1.0)",
           "width": 1
          }
         },
         "name": "Count",
         "orientation": "v",
         "text": "",
         "type": "bar",
         "uid": "5cb9af",
         "x": [
          "customer service",
          "food good",
          "highly recommend",
          "ice cream",
          "pretty good",
          "las vegas",
          "love place",
          "staff friendly",
          "great place",
          "happy hour",
          "service great",
          "good food",
          "service good",
          "great food",
          "dim sum",
          "tasted like",
          "food great",
          "recommend place",
          "good service",
          "feel like",
          "pad thai",
          "food fresh",
          "decided try",
          "year old",
          "friendly staff"
         ],
         "y": [
          48,
          36,
          33,
          28,
          27,
          26,
          25,
          23,
          21,
          21,
          21,
          20,
          18,
          18,
          18,
          17,
          17,
          16,
          15,
          14,
          13,
          13,
          12,
          12,
          12
         ]
        }
       ],
       "layout": {
        "autosize": true,
        "legend": {
         "bgcolor": "#FFFFFF",
         "font": {
          "color": "#4D5663"
         }
        },
        "paper_bgcolor": "#FFFFFF",
        "plot_bgcolor": "#FFFFFF",
        "showlegend": false,
        "title": "Top 25 Bigrams by Count",
        "titlefont": {
         "color": "#4D5663"
        },
        "xaxis": {
         "autorange": true,
         "gridcolor": "#E1E5ED",
         "range": [
          -0.5,
          24.5
         ],
         "showgrid": true,
         "tickfont": {
          "color": "#4D5663"
         },
         "title": "bigram",
         "titlefont": {
          "color": "#4D5663"
         },
         "type": "category",
         "zerolinecolor": "#E1E5ED"
        },
        "yaxis": {
         "autorange": true,
         "gridcolor": "#E1E5ED",
         "range": [
          0,
          50.526315789473685
         ],
         "showgrid": true,
         "tickfont": {
          "color": "#4D5663"
         },
         "title": "count",
         "titlefont": {
          "color": "#4D5663"
         },
         "type": "linear",
         "zerolinecolor": "#E1E5ED"
        }
       }
      },
      "text/html": [
       "<div id=\"d0ffcc54-3cee-4026-8674-040928487070\" style=\"height: 525px; width: 100%;\" class=\"plotly-graph-div\"></div><script type=\"text/javascript\">require([\"plotly\"], function(Plotly) { window.PLOTLYENV=window.PLOTLYENV || {};window.PLOTLYENV.BASE_URL=\"https://plot.ly\";Plotly.newPlot(\"d0ffcc54-3cee-4026-8674-040928487070\", [{\"type\": \"bar\", \"x\": [\"customer service\", \"food good\", \"highly recommend\", \"ice cream\", \"pretty good\", \"las vegas\", \"love place\", \"staff friendly\", \"great place\", \"happy hour\", \"service great\", \"good food\", \"service good\", \"great food\", \"dim sum\", \"tasted like\", \"food great\", \"recommend place\", \"good service\", \"feel like\", \"pad thai\", \"food fresh\", \"decided try\", \"year old\", \"friendly staff\"], \"y\": [48, 36, 33, 28, 27, 26, 25, 23, 21, 21, 21, 20, 18, 18, 18, 17, 17, 16, 15, 14, 13, 13, 12, 12, 12], \"name\": \"Count\", \"text\": \"\", \"marker\": {\"color\": \"rgba(55, 128, 191, 0.6)\", \"line\": {\"color\": \"rgba(55, 128, 191, 1.0)\", \"width\": 1}}, \"orientation\": \"v\"}], {\"legend\": {\"bgcolor\": \"#FFFFFF\", \"font\": {\"color\": \"#4D5663\"}}, \"paper_bgcolor\": \"#FFFFFF\", \"plot_bgcolor\": \"#FFFFFF\", \"yaxis1\": {\"tickfont\": {\"color\": \"#4D5663\"}, \"gridcolor\": \"#E1E5ED\", \"titlefont\": {\"color\": \"#4D5663\"}, \"zerolinecolor\": \"#E1E5ED\", \"showgrid\": true, \"title\": \"count\"}, \"xaxis1\": {\"tickfont\": {\"color\": \"#4D5663\"}, \"gridcolor\": \"#E1E5ED\", \"titlefont\": {\"color\": \"#4D5663\"}, \"zerolinecolor\": \"#E1E5ED\", \"showgrid\": true, \"title\": \"bigram\"}, \"titlefont\": {\"color\": \"#4D5663\"}, \"title\": \"Top 25 Bigrams by Count\", \"showlegend\": false}, {\"showLink\": true, \"linkText\": \"Export to plot.ly\"})});</script>"
      ],
      "text/vnd.plotly.v1+html": [
       "<div id=\"d0ffcc54-3cee-4026-8674-040928487070\" style=\"height: 525px; width: 100%;\" class=\"plotly-graph-div\"></div><script type=\"text/javascript\">require([\"plotly\"], function(Plotly) { window.PLOTLYENV=window.PLOTLYENV || {};window.PLOTLYENV.BASE_URL=\"https://plot.ly\";Plotly.newPlot(\"d0ffcc54-3cee-4026-8674-040928487070\", [{\"type\": \"bar\", \"x\": [\"customer service\", \"food good\", \"highly recommend\", \"ice cream\", \"pretty good\", \"las vegas\", \"love place\", \"staff friendly\", \"great place\", \"happy hour\", \"service great\", \"good food\", \"service good\", \"great food\", \"dim sum\", \"tasted like\", \"food great\", \"recommend place\", \"good service\", \"feel like\", \"pad thai\", \"food fresh\", \"decided try\", \"year old\", \"friendly staff\"], \"y\": [48, 36, 33, 28, 27, 26, 25, 23, 21, 21, 21, 20, 18, 18, 18, 17, 17, 16, 15, 14, 13, 13, 12, 12, 12], \"name\": \"Count\", \"text\": \"\", \"marker\": {\"color\": \"rgba(55, 128, 191, 0.6)\", \"line\": {\"color\": \"rgba(55, 128, 191, 1.0)\", \"width\": 1}}, \"orientation\": \"v\"}], {\"legend\": {\"bgcolor\": \"#FFFFFF\", \"font\": {\"color\": \"#4D5663\"}}, \"paper_bgcolor\": \"#FFFFFF\", \"plot_bgcolor\": \"#FFFFFF\", \"yaxis1\": {\"tickfont\": {\"color\": \"#4D5663\"}, \"gridcolor\": \"#E1E5ED\", \"titlefont\": {\"color\": \"#4D5663\"}, \"zerolinecolor\": \"#E1E5ED\", \"showgrid\": true, \"title\": \"count\"}, \"xaxis1\": {\"tickfont\": {\"color\": \"#4D5663\"}, \"gridcolor\": \"#E1E5ED\", \"titlefont\": {\"color\": \"#4D5663\"}, \"zerolinecolor\": \"#E1E5ED\", \"showgrid\": true, \"title\": \"bigram\"}, \"titlefont\": {\"color\": \"#4D5663\"}, \"title\": \"Top 25 Bigrams by Count\", \"showlegend\": false}, {\"showLink\": true, \"linkText\": \"Export to plot.ly\"})});</script>"
      ]
     },
     "metadata": {},
     "output_type": "display_data"
    }
   ],
   "source": [
    "bigram_df = make_count_df(all_bigrams)\n",
    "bigram_plot = bigram_df.iplot(kind='bar', \n",
    "                              asFigure=True, \n",
    "                              xTitle='bigram', \n",
    "                              yTitle='count', \n",
    "                              title='Top 25 Bigrams by Count',\n",
    "                              color='blue')\n",
    "cf.iplot(bigram_plot, legend=False)"
   ]
  },
  {
   "cell_type": "code",
   "execution_count": 146,
   "metadata": {},
   "outputs": [
    {
     "data": {
      "application/vnd.plotly.v1+json": {
       "data": [
        {
         "marker": {
          "color": "rgba(55, 128, 191, 0.6)",
          "line": {
           "color": "rgba(55, 128, 191, 1.0)",
           "width": 1
          }
         },
         "name": "Count",
         "orientation": "v",
         "text": "",
         "type": "bar",
         "uid": "e0fe3f",
         "x": [
          "highly recommend place",
          "love love love",
          "spicy tuna roll",
          "place food good",
          "food pretty good",
          "staff friendly helpful",
          "food reasonable price",
          "great customer service",
          "staff super friendly",
          "key lime pie",
          "good customer service",
          "gave benefit doubt",
          "recommend place great",
          "definitely worth visit",
          "hard earned money",
          "sweet potato fries",
          "wait staff friendly",
          "mac n cheese",
          "great food great",
          "food good service",
          "friendly highly recommend",
          "got drinks ordered",
          "happy hour menu",
          "book pee po",
          "service quick friendly"
         ],
         "y": [
          5,
          5,
          4,
          4,
          4,
          4,
          4,
          4,
          3,
          3,
          3,
          3,
          3,
          3,
          3,
          3,
          3,
          3,
          3,
          3,
          3,
          3,
          3,
          3,
          3
         ]
        }
       ],
       "layout": {
        "autosize": true,
        "legend": {
         "bgcolor": "#FFFFFF",
         "font": {
          "color": "#4D5663"
         }
        },
        "paper_bgcolor": "#FFFFFF",
        "plot_bgcolor": "#FFFFFF",
        "showlegend": false,
        "title": "Top 25 Trigrams by Count",
        "titlefont": {
         "color": "#4D5663"
        },
        "xaxis": {
         "autorange": true,
         "gridcolor": "#E1E5ED",
         "range": [
          -0.5,
          24.5
         ],
         "showgrid": true,
         "tickfont": {
          "color": "#4D5663"
         },
         "title": "trigram",
         "titlefont": {
          "color": "#4D5663"
         },
         "type": "category",
         "zerolinecolor": "#E1E5ED"
        },
        "yaxis": {
         "autorange": true,
         "gridcolor": "#E1E5ED",
         "range": [
          0,
          5.2631578947368425
         ],
         "showgrid": true,
         "tickfont": {
          "color": "#4D5663"
         },
         "title": "count",
         "titlefont": {
          "color": "#4D5663"
         },
         "type": "linear",
         "zerolinecolor": "#E1E5ED"
        }
       }
      },
      "text/html": [
       "<div id=\"65b35d45-0750-44db-8af8-831ee5baf918\" style=\"height: 525px; width: 100%;\" class=\"plotly-graph-div\"></div><script type=\"text/javascript\">require([\"plotly\"], function(Plotly) { window.PLOTLYENV=window.PLOTLYENV || {};window.PLOTLYENV.BASE_URL=\"https://plot.ly\";Plotly.newPlot(\"65b35d45-0750-44db-8af8-831ee5baf918\", [{\"type\": \"bar\", \"x\": [\"highly recommend place\", \"love love love\", \"spicy tuna roll\", \"place food good\", \"food pretty good\", \"staff friendly helpful\", \"food reasonable price\", \"great customer service\", \"staff super friendly\", \"key lime pie\", \"good customer service\", \"gave benefit doubt\", \"recommend place great\", \"definitely worth visit\", \"hard earned money\", \"sweet potato fries\", \"wait staff friendly\", \"mac n cheese\", \"great food great\", \"food good service\", \"friendly highly recommend\", \"got drinks ordered\", \"happy hour menu\", \"book pee po\", \"service quick friendly\"], \"y\": [5, 5, 4, 4, 4, 4, 4, 4, 3, 3, 3, 3, 3, 3, 3, 3, 3, 3, 3, 3, 3, 3, 3, 3, 3], \"name\": \"Count\", \"text\": \"\", \"marker\": {\"color\": \"rgba(55, 128, 191, 0.6)\", \"line\": {\"color\": \"rgba(55, 128, 191, 1.0)\", \"width\": 1}}, \"orientation\": \"v\"}], {\"legend\": {\"bgcolor\": \"#FFFFFF\", \"font\": {\"color\": \"#4D5663\"}}, \"paper_bgcolor\": \"#FFFFFF\", \"plot_bgcolor\": \"#FFFFFF\", \"yaxis1\": {\"tickfont\": {\"color\": \"#4D5663\"}, \"gridcolor\": \"#E1E5ED\", \"titlefont\": {\"color\": \"#4D5663\"}, \"zerolinecolor\": \"#E1E5ED\", \"showgrid\": true, \"title\": \"count\"}, \"xaxis1\": {\"tickfont\": {\"color\": \"#4D5663\"}, \"gridcolor\": \"#E1E5ED\", \"titlefont\": {\"color\": \"#4D5663\"}, \"zerolinecolor\": \"#E1E5ED\", \"showgrid\": true, \"title\": \"trigram\"}, \"titlefont\": {\"color\": \"#4D5663\"}, \"title\": \"Top 25 Trigrams by Count\", \"showlegend\": false}, {\"showLink\": true, \"linkText\": \"Export to plot.ly\"})});</script>"
      ],
      "text/vnd.plotly.v1+html": [
       "<div id=\"65b35d45-0750-44db-8af8-831ee5baf918\" style=\"height: 525px; width: 100%;\" class=\"plotly-graph-div\"></div><script type=\"text/javascript\">require([\"plotly\"], function(Plotly) { window.PLOTLYENV=window.PLOTLYENV || {};window.PLOTLYENV.BASE_URL=\"https://plot.ly\";Plotly.newPlot(\"65b35d45-0750-44db-8af8-831ee5baf918\", [{\"type\": \"bar\", \"x\": [\"highly recommend place\", \"love love love\", \"spicy tuna roll\", \"place food good\", \"food pretty good\", \"staff friendly helpful\", \"food reasonable price\", \"great customer service\", \"staff super friendly\", \"key lime pie\", \"good customer service\", \"gave benefit doubt\", \"recommend place great\", \"definitely worth visit\", \"hard earned money\", \"sweet potato fries\", \"wait staff friendly\", \"mac n cheese\", \"great food great\", \"food good service\", \"friendly highly recommend\", \"got drinks ordered\", \"happy hour menu\", \"book pee po\", \"service quick friendly\"], \"y\": [5, 5, 4, 4, 4, 4, 4, 4, 3, 3, 3, 3, 3, 3, 3, 3, 3, 3, 3, 3, 3, 3, 3, 3, 3], \"name\": \"Count\", \"text\": \"\", \"marker\": {\"color\": \"rgba(55, 128, 191, 0.6)\", \"line\": {\"color\": \"rgba(55, 128, 191, 1.0)\", \"width\": 1}}, \"orientation\": \"v\"}], {\"legend\": {\"bgcolor\": \"#FFFFFF\", \"font\": {\"color\": \"#4D5663\"}}, \"paper_bgcolor\": \"#FFFFFF\", \"plot_bgcolor\": \"#FFFFFF\", \"yaxis1\": {\"tickfont\": {\"color\": \"#4D5663\"}, \"gridcolor\": \"#E1E5ED\", \"titlefont\": {\"color\": \"#4D5663\"}, \"zerolinecolor\": \"#E1E5ED\", \"showgrid\": true, \"title\": \"count\"}, \"xaxis1\": {\"tickfont\": {\"color\": \"#4D5663\"}, \"gridcolor\": \"#E1E5ED\", \"titlefont\": {\"color\": \"#4D5663\"}, \"zerolinecolor\": \"#E1E5ED\", \"showgrid\": true, \"title\": \"trigram\"}, \"titlefont\": {\"color\": \"#4D5663\"}, \"title\": \"Top 25 Trigrams by Count\", \"showlegend\": false}, {\"showLink\": true, \"linkText\": \"Export to plot.ly\"})});</script>"
      ]
     },
     "metadata": {},
     "output_type": "display_data"
    }
   ],
   "source": [
    "trigram_df = make_count_df(all_trigrams)\n",
    "trigram_plot = trigram_df.iplot(kind='bar', \n",
    "                              asFigure=True, \n",
    "                              xTitle='trigram', \n",
    "                              yTitle='count', \n",
    "                              title='Top 25 Trigrams by Count',\n",
    "                              color='blue')\n",
    "cf.iplot(trigram_plot, legend=False)"
   ]
  }
 ],
 "metadata": {
  "kernelspec": {
   "display_name": "Python 3",
   "language": "python",
   "name": "python3"
  },
  "language_info": {
   "codemirror_mode": {
    "name": "ipython",
    "version": 3
   },
   "file_extension": ".py",
   "mimetype": "text/x-python",
   "name": "python",
   "nbconvert_exporter": "python",
   "pygments_lexer": "ipython3",
   "version": "3.6.1"
  }
 },
 "nbformat": 4,
 "nbformat_minor": 2
}
