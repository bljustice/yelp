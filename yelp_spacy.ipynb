{
 "cells": [
  {
   "cell_type": "code",
   "execution_count": 1,
   "metadata": {
    "collapsed": true
   },
   "outputs": [],
   "source": [
    "import re\n",
    "import json\n",
    "import spacy\n",
    "import pandas as pd\n",
    "import cufflinks as cf\n",
    "from nltk import ngrams\n",
    "from itertools import chain\n",
    "from random import shuffle\n",
    "from string import punctuation\n",
    "from collections import Counter\n",
    "from plotly.graph_objs import Histogram, Figure, Layout\n",
    "from plotly.offline import download_plotlyjs, init_notebook_mode, iplot"
   ]
  },
  {
   "cell_type": "code",
   "execution_count": 2,
   "metadata": {},
   "outputs": [
    {
     "data": {
      "text/html": [
       "<script>requirejs.config({paths: { 'plotly': ['https://cdn.plot.ly/plotly-latest.min']},});if(!window.Plotly) {{require(['plotly'],function(plotly) {window.Plotly=plotly;});}}</script>"
      ],
      "text/vnd.plotly.v1+html": [
       "<script>requirejs.config({paths: { 'plotly': ['https://cdn.plot.ly/plotly-latest.min']},});if(!window.Plotly) {{require(['plotly'],function(plotly) {window.Plotly=plotly;});}}</script>"
      ]
     },
     "metadata": {},
     "output_type": "display_data"
    },
    {
     "name": "stderr",
     "output_type": "stream",
     "text": [
      "IOPub data rate exceeded.\n",
      "The notebook server will temporarily stop sending output\n",
      "to the client in order to avoid crashing it.\n",
      "To change this limit, set the config variable\n",
      "`--NotebookApp.iopub_data_rate_limit`.\n"
     ]
    }
   ],
   "source": [
    "init_notebook_mode(connected=True)\n",
    "cf.set_config_file(theme='white')\n",
    "cf.go_offline()\n",
    "colorscale = map(lambda x: x, cf.colors.get_scales('accent'))"
   ]
  },
  {
   "cell_type": "code",
   "execution_count": 3,
   "metadata": {
    "collapsed": true
   },
   "outputs": [],
   "source": [
    "def extract_data(f):\n",
    "    with open(f, 'r') as read_file:\n",
    "        for _ in read_file:\n",
    "            yield json.loads(_)"
   ]
  },
  {
   "cell_type": "code",
   "execution_count": 4,
   "metadata": {
    "collapsed": true
   },
   "outputs": [],
   "source": [
    "reviews = extract_data('review.json')\n",
    "businesses = extract_data('business.json')"
   ]
  },
  {
   "cell_type": "code",
   "execution_count": 5,
   "metadata": {
    "collapsed": true
   },
   "outputs": [],
   "source": [
    "review_df = pd.DataFrame(list(reviews))\n",
    "business_df = pd.DataFrame(list(businesses))"
   ]
  },
  {
   "cell_type": "code",
   "execution_count": 6,
   "metadata": {
    "collapsed": true
   },
   "outputs": [],
   "source": [
    "us_states = json.loads(open('usStates.json').read())\n",
    "only_us_businesses = business_df[business_df.state.isin(us_states.keys())]"
   ]
  },
  {
   "cell_type": "code",
   "execution_count": 7,
   "metadata": {
    "collapsed": true
   },
   "outputs": [],
   "source": [
    "merged_reviews = business_df[['business_id']].merge(review_df[['business_id', 'text']], on='business_id')"
   ]
  },
  {
   "cell_type": "code",
   "execution_count": 8,
   "metadata": {},
   "outputs": [
    {
     "name": "stdout",
     "output_type": "stream",
     "text": [
      "Total number of Yelp reviews: 4736897\n"
     ]
    }
   ],
   "source": [
    "print('Total number of Yelp reviews:', len(merged_reviews))"
   ]
  },
  {
   "cell_type": "code",
   "execution_count": 9,
   "metadata": {},
   "outputs": [],
   "source": [
    "def filter_token(token):\n",
    "    special_characters = re.compile('[\\n\\t\\s]+?')\n",
    "    punctuation_digits_regex = re.compile(\"[\\d{}]+$\".format(re.escape(punctuation)))\n",
    "    token_filter = not (token.is_punct \n",
    "                        or token.is_stop \n",
    "                        or special_characters.search(token.text) \n",
    "                        or punctuation_digits_regex.search(token.text)\n",
    "                        or \"'\" in token.text)\n",
    "    if token_filter:\n",
    "        return token"
   ]
  },
  {
   "cell_type": "code",
   "execution_count": 37,
   "metadata": {
    "collapsed": true
   },
   "outputs": [],
   "source": [
    "def gather_doc_metrics(docs):\n",
    "    all_doc_metrics = []\n",
    "    for i,doc in enumerate(docs):\n",
    "        doc_metrics = {\n",
    "            'id': i, \n",
    "            'text': [filter_token(token).text for token in doc if filter_token(token)],\n",
    "            'lemma': [filter_token(token).lemma_ for token in doc if filter_token(token)], \n",
    "            'doc': doc, \n",
    "        }\n",
    "        doc_metrics['bigrams'] = map(lambda ngram: ' '.join(ngram).lower().strip(), ngrams(doc_metrics.get('text'), 2))\n",
    "        doc_metrics['trigrams'] = map(lambda ngram: ' '.join(ngram).lower().strip(), ngrams(doc_metrics.get('text'), 3))\n",
    "        unique_entities = set(ent.text.lower().strip() for ent in doc.ents)\n",
    "        doc_metrics['entities'] = [(ent.text.lower().strip(), ent.label_) for ent in doc.ents if ent.text.lower().strip() in unique_entities]\n",
    "        all_doc_metrics.append(doc_metrics)\n",
    "    return all_doc_metrics"
   ]
  },
  {
   "cell_type": "code",
   "execution_count": 86,
   "metadata": {},
   "outputs": [],
   "source": [
    "nlp = spacy.load('en')\n",
    "review_sample = merged_reviews.sample(n=1000, random_state=42).text.tolist()\n",
    "docs = list(map(nlp, review_sample))"
   ]
  },
  {
   "cell_type": "code",
   "execution_count": 87,
   "metadata": {},
   "outputs": [],
   "source": [
    "doc_metrics = gather_doc_metrics(docs)"
   ]
  },
  {
   "cell_type": "code",
   "execution_count": 78,
   "metadata": {},
   "outputs": [
    {
     "data": {
      "application/vnd.plotly.v1+json": {
       "data": [
        {
         "autobinx": false,
         "type": "histogram",
         "uid": "13d9fa",
         "x": [
          77,
          131,
          60,
          53,
          247,
          85,
          77,
          45,
          30,
          117,
          202,
          108,
          152,
          32,
          44,
          151,
          51,
          458,
          90,
          19,
          29,
          54,
          117,
          104,
          210,
          307,
          71,
          59,
          183,
          89,
          95,
          24,
          86,
          28,
          18,
          20,
          306,
          91,
          157,
          174,
          326,
          454,
          67,
          188,
          61,
          245,
          93,
          31,
          48,
          218,
          30,
          659,
          113,
          49,
          146,
          155,
          157,
          88,
          50,
          88,
          31,
          324,
          47,
          483,
          281,
          179,
          391,
          53,
          313,
          66,
          255,
          155,
          344,
          42,
          44,
          101,
          215,
          82,
          131,
          48,
          39,
          244,
          91,
          258,
          42,
          56,
          50,
          146,
          45,
          57,
          91,
          81,
          206,
          112,
          98,
          112,
          160,
          387,
          413,
          26,
          48,
          48,
          155,
          111,
          31,
          118,
          23,
          94,
          627,
          68,
          59,
          122,
          438,
          69,
          32,
          111,
          180,
          64,
          124,
          304,
          130,
          87,
          82,
          79,
          100,
          245,
          117,
          245,
          52,
          90,
          36,
          118,
          82,
          349,
          83,
          88,
          52,
          31,
          72,
          240,
          210,
          189,
          25,
          48,
          116,
          32,
          30,
          78,
          158,
          116,
          102,
          97,
          211,
          229,
          311,
          19,
          212,
          186,
          24,
          145,
          127,
          27,
          146,
          219,
          185,
          26,
          93,
          273,
          258,
          51,
          70,
          295,
          48,
          37,
          408,
          40,
          66,
          166,
          125,
          47,
          412,
          67,
          186,
          110,
          216,
          138,
          98,
          56,
          444,
          214,
          134,
          53,
          30,
          37,
          273,
          43,
          193,
          25,
          454,
          178,
          87,
          85,
          66,
          207,
          411,
          71,
          93,
          89,
          240,
          270,
          198,
          39,
          95,
          127,
          72,
          212,
          228,
          35,
          99,
          415,
          329,
          132,
          106,
          28,
          73,
          45,
          28,
          62,
          116,
          287,
          255,
          102,
          152,
          60,
          64,
          303,
          57,
          43,
          58,
          96,
          115,
          183,
          42,
          378,
          37,
          133,
          73,
          24,
          362,
          203,
          173,
          42,
          93,
          61,
          59,
          26,
          48,
          100,
          122,
          95,
          72,
          103,
          429,
          46,
          118,
          223,
          63,
          166,
          94,
          32,
          324,
          60,
          84,
          344,
          391,
          44,
          54,
          149,
          230,
          176,
          103,
          36,
          118,
          63,
          59,
          77,
          120,
          172,
          274,
          151,
          168,
          61,
          118,
          47,
          315,
          41,
          30,
          26,
          35,
          63,
          51,
          126,
          42,
          198,
          86,
          170,
          279,
          137,
          87,
          189,
          94,
          124,
          1088,
          340,
          26,
          61,
          35,
          173,
          80,
          184,
          90,
          385,
          27,
          27,
          50,
          170,
          204,
          70,
          91,
          150,
          138,
          230,
          32,
          485,
          60,
          488,
          108,
          40,
          242,
          63,
          117,
          318,
          138,
          352,
          28,
          55,
          23,
          73,
          55,
          42,
          60,
          49,
          408,
          86,
          118,
          31,
          28,
          71,
          43,
          102,
          236,
          26,
          80,
          154,
          96,
          188,
          19,
          84,
          37,
          55,
          22,
          34,
          83,
          64,
          51,
          180,
          29,
          133,
          27,
          253,
          47,
          283,
          188,
          21,
          49,
          476,
          140,
          100,
          201,
          10,
          237,
          26,
          396,
          40,
          36,
          326,
          269,
          225,
          258,
          115,
          30,
          67,
          48,
          204,
          35,
          38,
          224,
          239,
          144,
          26,
          53,
          96,
          104,
          72,
          23,
          42,
          99,
          106,
          32,
          87,
          31,
          23,
          184,
          43,
          82,
          77,
          158,
          98,
          46,
          30,
          130,
          59,
          56,
          33,
          99,
          222,
          1087,
          26,
          40,
          49,
          89,
          47,
          71,
          416,
          293,
          48,
          322,
          96,
          31,
          151,
          63,
          80,
          93,
          53,
          317,
          122,
          151,
          188,
          20,
          26,
          211,
          82,
          191,
          43,
          181,
          52,
          73,
          98,
          39,
          87,
          78,
          100,
          63,
          86,
          94,
          275,
          321,
          146,
          183,
          22,
          81,
          211,
          10,
          54,
          74,
          136,
          77,
          277,
          115,
          285,
          40,
          71,
          88,
          14,
          80,
          84,
          160,
          436,
          56,
          43,
          196,
          63,
          655,
          24,
          20,
          53,
          61,
          103,
          78,
          51,
          169,
          259,
          30,
          266,
          49,
          68,
          29,
          209,
          224,
          121,
          159,
          27,
          50,
          92,
          96,
          53,
          404,
          776,
          26,
          94,
          78,
          152,
          338,
          152,
          204,
          26,
          161,
          25,
          40,
          26,
          169,
          31,
          125,
          150,
          281,
          127,
          105,
          68,
          45,
          248,
          119,
          18,
          80,
          71,
          29,
          178,
          100,
          312,
          18,
          65,
          97,
          40,
          150,
          58,
          110,
          146,
          75,
          49,
          326,
          244,
          79,
          118,
          152,
          552,
          459,
          38,
          154,
          77,
          45,
          57,
          145,
          59,
          37,
          51,
          173,
          73,
          69,
          75,
          54,
          59,
          125,
          43,
          221,
          81,
          118,
          286,
          161,
          94,
          224,
          74,
          84,
          103,
          892,
          121,
          112,
          144,
          133,
          146,
          25,
          38,
          90,
          78,
          139,
          93,
          611,
          43,
          124,
          476,
          132,
          347,
          71,
          31,
          49,
          182,
          81,
          23,
          170,
          305,
          244,
          228,
          86,
          56,
          20,
          38,
          101,
          95,
          36,
          192,
          286,
          130,
          36,
          142,
          271,
          99,
          89,
          19,
          51,
          31,
          123,
          31,
          44,
          167,
          186,
          146,
          262,
          99,
          85,
          65,
          34,
          33,
          270,
          92,
          250,
          22,
          178,
          175,
          77,
          56,
          131,
          135,
          544,
          47,
          99,
          261,
          90,
          52,
          95,
          18,
          78,
          186,
          91,
          108,
          60,
          189,
          237,
          38,
          102,
          77,
          84,
          226,
          149,
          247,
          77,
          344,
          98,
          244,
          53,
          30,
          448,
          261,
          35,
          65,
          26,
          80,
          116,
          277,
          554,
          50,
          136,
          91,
          261,
          58,
          235,
          47,
          175,
          16,
          115,
          224,
          106,
          196,
          182,
          33,
          93,
          15,
          137,
          150,
          24,
          249,
          85,
          51,
          378,
          531,
          230,
          21,
          165,
          60,
          155,
          120,
          97,
          102,
          47,
          78,
          34,
          32,
          143,
          51,
          57,
          62,
          155,
          25,
          84,
          74,
          130,
          286,
          50,
          120,
          53,
          39,
          73,
          53,
          90,
          55,
          108,
          51,
          66,
          35,
          659,
          26,
          135,
          10,
          298,
          65,
          77,
          198,
          126,
          172,
          171,
          106,
          184,
          52,
          60,
          33,
          499,
          146,
          478,
          20,
          118,
          239,
          406,
          43,
          274,
          53,
          58,
          58,
          32,
          22,
          70,
          25,
          112,
          133,
          43,
          64,
          26,
          74,
          62,
          22,
          27,
          110,
          219,
          392,
          22,
          36,
          260,
          162,
          51,
          48,
          298,
          125,
          67,
          288,
          120,
          169,
          154,
          68,
          89,
          26,
          66,
          50,
          60,
          66,
          91,
          114,
          22,
          570,
          141,
          124,
          115,
          488,
          343,
          152,
          26,
          40,
          52,
          71,
          140,
          24,
          17,
          53,
          58,
          78,
          28,
          220,
          49,
          134,
          218,
          84,
          57,
          508,
          29,
          44,
          73,
          47,
          14,
          32,
          43,
          73,
          91,
          31,
          40,
          199,
          121,
          89,
          44,
          38,
          112,
          45,
          203,
          151,
          105,
          65,
          61,
          107,
          50,
          175,
          142,
          58,
          184,
          50,
          62,
          42,
          455,
          39,
          67,
          33,
          36,
          104,
          172,
          324,
          226,
          114,
          59,
          141,
          150,
          360,
          42,
          49,
          73,
          64,
          35,
          162,
          55,
          101,
          112,
          158,
          41,
          45,
          225,
          243,
          559,
          150,
          69,
          102,
          233,
          12,
          38,
          189,
          71,
          189,
          44,
          147,
          177,
          35,
          76,
          29,
          75,
          47,
          168,
          49,
          191,
          129,
          552,
          162,
          46,
          138,
          65,
          43,
          308,
          70,
          455,
          25,
          70,
          273,
          21,
          673,
          73,
          41,
          341,
          101,
          30,
          58,
          177,
          144,
          161,
          99,
          35,
          250,
          130,
          49,
          61,
          98,
          37,
          594,
          54,
          294,
          82,
          141,
          318,
          80,
          49,
          108,
          42,
          54,
          105,
          35,
          184,
          52,
          64,
          190,
          86,
          63,
          306,
          162,
          126,
          53,
          50,
          22,
          97,
          18,
          105,
          86
         ],
         "xbins": {
          "end": 1088,
          "size": 5,
          "start": 10
         }
        }
       ],
       "layout": {
        "autosize": true,
        "title": "Review Length Distribution",
        "xaxis": {
         "autorange": true,
         "range": [
          10,
          1090
         ],
         "title": "review length",
         "type": "linear"
        },
        "yaxis": {
         "autorange": true,
         "range": [
          0,
          49.473684210526315
         ],
         "title": "count"
        }
       }
      },
      "text/html": [
       "<div id=\"12874952-c36b-4117-803d-6a7c749dfec7\" style=\"height: 525px; width: 100%;\" class=\"plotly-graph-div\"></div><script type=\"text/javascript\">require([\"plotly\"], function(Plotly) { window.PLOTLYENV=window.PLOTLYENV || {};window.PLOTLYENV.BASE_URL=\"https://plot.ly\";Plotly.newPlot(\"12874952-c36b-4117-803d-6a7c749dfec7\", [{\"type\": \"histogram\", \"x\": [77, 131, 60, 53, 247, 85, 77, 45, 30, 117, 202, 108, 152, 32, 44, 151, 51, 458, 90, 19, 29, 54, 117, 104, 210, 307, 71, 59, 183, 89, 95, 24, 86, 28, 18, 20, 306, 91, 157, 174, 326, 454, 67, 188, 61, 245, 93, 31, 48, 218, 30, 659, 113, 49, 146, 155, 157, 88, 50, 88, 31, 324, 47, 483, 281, 179, 391, 53, 313, 66, 255, 155, 344, 42, 44, 101, 215, 82, 131, 48, 39, 244, 91, 258, 42, 56, 50, 146, 45, 57, 91, 81, 206, 112, 98, 112, 160, 387, 413, 26, 48, 48, 155, 111, 31, 118, 23, 94, 627, 68, 59, 122, 438, 69, 32, 111, 180, 64, 124, 304, 130, 87, 82, 79, 100, 245, 117, 245, 52, 90, 36, 118, 82, 349, 83, 88, 52, 31, 72, 240, 210, 189, 25, 48, 116, 32, 30, 78, 158, 116, 102, 97, 211, 229, 311, 19, 212, 186, 24, 145, 127, 27, 146, 219, 185, 26, 93, 273, 258, 51, 70, 295, 48, 37, 408, 40, 66, 166, 125, 47, 412, 67, 186, 110, 216, 138, 98, 56, 444, 214, 134, 53, 30, 37, 273, 43, 193, 25, 454, 178, 87, 85, 66, 207, 411, 71, 93, 89, 240, 270, 198, 39, 95, 127, 72, 212, 228, 35, 99, 415, 329, 132, 106, 28, 73, 45, 28, 62, 116, 287, 255, 102, 152, 60, 64, 303, 57, 43, 58, 96, 115, 183, 42, 378, 37, 133, 73, 24, 362, 203, 173, 42, 93, 61, 59, 26, 48, 100, 122, 95, 72, 103, 429, 46, 118, 223, 63, 166, 94, 32, 324, 60, 84, 344, 391, 44, 54, 149, 230, 176, 103, 36, 118, 63, 59, 77, 120, 172, 274, 151, 168, 61, 118, 47, 315, 41, 30, 26, 35, 63, 51, 126, 42, 198, 86, 170, 279, 137, 87, 189, 94, 124, 1088, 340, 26, 61, 35, 173, 80, 184, 90, 385, 27, 27, 50, 170, 204, 70, 91, 150, 138, 230, 32, 485, 60, 488, 108, 40, 242, 63, 117, 318, 138, 352, 28, 55, 23, 73, 55, 42, 60, 49, 408, 86, 118, 31, 28, 71, 43, 102, 236, 26, 80, 154, 96, 188, 19, 84, 37, 55, 22, 34, 83, 64, 51, 180, 29, 133, 27, 253, 47, 283, 188, 21, 49, 476, 140, 100, 201, 10, 237, 26, 396, 40, 36, 326, 269, 225, 258, 115, 30, 67, 48, 204, 35, 38, 224, 239, 144, 26, 53, 96, 104, 72, 23, 42, 99, 106, 32, 87, 31, 23, 184, 43, 82, 77, 158, 98, 46, 30, 130, 59, 56, 33, 99, 222, 1087, 26, 40, 49, 89, 47, 71, 416, 293, 48, 322, 96, 31, 151, 63, 80, 93, 53, 317, 122, 151, 188, 20, 26, 211, 82, 191, 43, 181, 52, 73, 98, 39, 87, 78, 100, 63, 86, 94, 275, 321, 146, 183, 22, 81, 211, 10, 54, 74, 136, 77, 277, 115, 285, 40, 71, 88, 14, 80, 84, 160, 436, 56, 43, 196, 63, 655, 24, 20, 53, 61, 103, 78, 51, 169, 259, 30, 266, 49, 68, 29, 209, 224, 121, 159, 27, 50, 92, 96, 53, 404, 776, 26, 94, 78, 152, 338, 152, 204, 26, 161, 25, 40, 26, 169, 31, 125, 150, 281, 127, 105, 68, 45, 248, 119, 18, 80, 71, 29, 178, 100, 312, 18, 65, 97, 40, 150, 58, 110, 146, 75, 49, 326, 244, 79, 118, 152, 552, 459, 38, 154, 77, 45, 57, 145, 59, 37, 51, 173, 73, 69, 75, 54, 59, 125, 43, 221, 81, 118, 286, 161, 94, 224, 74, 84, 103, 892, 121, 112, 144, 133, 146, 25, 38, 90, 78, 139, 93, 611, 43, 124, 476, 132, 347, 71, 31, 49, 182, 81, 23, 170, 305, 244, 228, 86, 56, 20, 38, 101, 95, 36, 192, 286, 130, 36, 142, 271, 99, 89, 19, 51, 31, 123, 31, 44, 167, 186, 146, 262, 99, 85, 65, 34, 33, 270, 92, 250, 22, 178, 175, 77, 56, 131, 135, 544, 47, 99, 261, 90, 52, 95, 18, 78, 186, 91, 108, 60, 189, 237, 38, 102, 77, 84, 226, 149, 247, 77, 344, 98, 244, 53, 30, 448, 261, 35, 65, 26, 80, 116, 277, 554, 50, 136, 91, 261, 58, 235, 47, 175, 16, 115, 224, 106, 196, 182, 33, 93, 15, 137, 150, 24, 249, 85, 51, 378, 531, 230, 21, 165, 60, 155, 120, 97, 102, 47, 78, 34, 32, 143, 51, 57, 62, 155, 25, 84, 74, 130, 286, 50, 120, 53, 39, 73, 53, 90, 55, 108, 51, 66, 35, 659, 26, 135, 10, 298, 65, 77, 198, 126, 172, 171, 106, 184, 52, 60, 33, 499, 146, 478, 20, 118, 239, 406, 43, 274, 53, 58, 58, 32, 22, 70, 25, 112, 133, 43, 64, 26, 74, 62, 22, 27, 110, 219, 392, 22, 36, 260, 162, 51, 48, 298, 125, 67, 288, 120, 169, 154, 68, 89, 26, 66, 50, 60, 66, 91, 114, 22, 570, 141, 124, 115, 488, 343, 152, 26, 40, 52, 71, 140, 24, 17, 53, 58, 78, 28, 220, 49, 134, 218, 84, 57, 508, 29, 44, 73, 47, 14, 32, 43, 73, 91, 31, 40, 199, 121, 89, 44, 38, 112, 45, 203, 151, 105, 65, 61, 107, 50, 175, 142, 58, 184, 50, 62, 42, 455, 39, 67, 33, 36, 104, 172, 324, 226, 114, 59, 141, 150, 360, 42, 49, 73, 64, 35, 162, 55, 101, 112, 158, 41, 45, 225, 243, 559, 150, 69, 102, 233, 12, 38, 189, 71, 189, 44, 147, 177, 35, 76, 29, 75, 47, 168, 49, 191, 129, 552, 162, 46, 138, 65, 43, 308, 70, 455, 25, 70, 273, 21, 673, 73, 41, 341, 101, 30, 58, 177, 144, 161, 99, 35, 250, 130, 49, 61, 98, 37, 594, 54, 294, 82, 141, 318, 80, 49, 108, 42, 54, 105, 35, 184, 52, 64, 190, 86, 63, 306, 162, 126, 53, 50, 22, 97, 18, 105, 86], \"xbins\": {\"size\": 5, \"start\": 10, \"end\": 1088}}], {\"title\": \"Review Length Distribution\", \"xaxis\": {\"title\": \"review length\"}, \"yaxis\": {\"title\": \"count\"}}, {\"showLink\": true, \"linkText\": \"Export to plot.ly\"})});</script>"
      ],
      "text/vnd.plotly.v1+html": [
       "<div id=\"12874952-c36b-4117-803d-6a7c749dfec7\" style=\"height: 525px; width: 100%;\" class=\"plotly-graph-div\"></div><script type=\"text/javascript\">require([\"plotly\"], function(Plotly) { window.PLOTLYENV=window.PLOTLYENV || {};window.PLOTLYENV.BASE_URL=\"https://plot.ly\";Plotly.newPlot(\"12874952-c36b-4117-803d-6a7c749dfec7\", [{\"type\": \"histogram\", \"x\": [77, 131, 60, 53, 247, 85, 77, 45, 30, 117, 202, 108, 152, 32, 44, 151, 51, 458, 90, 19, 29, 54, 117, 104, 210, 307, 71, 59, 183, 89, 95, 24, 86, 28, 18, 20, 306, 91, 157, 174, 326, 454, 67, 188, 61, 245, 93, 31, 48, 218, 30, 659, 113, 49, 146, 155, 157, 88, 50, 88, 31, 324, 47, 483, 281, 179, 391, 53, 313, 66, 255, 155, 344, 42, 44, 101, 215, 82, 131, 48, 39, 244, 91, 258, 42, 56, 50, 146, 45, 57, 91, 81, 206, 112, 98, 112, 160, 387, 413, 26, 48, 48, 155, 111, 31, 118, 23, 94, 627, 68, 59, 122, 438, 69, 32, 111, 180, 64, 124, 304, 130, 87, 82, 79, 100, 245, 117, 245, 52, 90, 36, 118, 82, 349, 83, 88, 52, 31, 72, 240, 210, 189, 25, 48, 116, 32, 30, 78, 158, 116, 102, 97, 211, 229, 311, 19, 212, 186, 24, 145, 127, 27, 146, 219, 185, 26, 93, 273, 258, 51, 70, 295, 48, 37, 408, 40, 66, 166, 125, 47, 412, 67, 186, 110, 216, 138, 98, 56, 444, 214, 134, 53, 30, 37, 273, 43, 193, 25, 454, 178, 87, 85, 66, 207, 411, 71, 93, 89, 240, 270, 198, 39, 95, 127, 72, 212, 228, 35, 99, 415, 329, 132, 106, 28, 73, 45, 28, 62, 116, 287, 255, 102, 152, 60, 64, 303, 57, 43, 58, 96, 115, 183, 42, 378, 37, 133, 73, 24, 362, 203, 173, 42, 93, 61, 59, 26, 48, 100, 122, 95, 72, 103, 429, 46, 118, 223, 63, 166, 94, 32, 324, 60, 84, 344, 391, 44, 54, 149, 230, 176, 103, 36, 118, 63, 59, 77, 120, 172, 274, 151, 168, 61, 118, 47, 315, 41, 30, 26, 35, 63, 51, 126, 42, 198, 86, 170, 279, 137, 87, 189, 94, 124, 1088, 340, 26, 61, 35, 173, 80, 184, 90, 385, 27, 27, 50, 170, 204, 70, 91, 150, 138, 230, 32, 485, 60, 488, 108, 40, 242, 63, 117, 318, 138, 352, 28, 55, 23, 73, 55, 42, 60, 49, 408, 86, 118, 31, 28, 71, 43, 102, 236, 26, 80, 154, 96, 188, 19, 84, 37, 55, 22, 34, 83, 64, 51, 180, 29, 133, 27, 253, 47, 283, 188, 21, 49, 476, 140, 100, 201, 10, 237, 26, 396, 40, 36, 326, 269, 225, 258, 115, 30, 67, 48, 204, 35, 38, 224, 239, 144, 26, 53, 96, 104, 72, 23, 42, 99, 106, 32, 87, 31, 23, 184, 43, 82, 77, 158, 98, 46, 30, 130, 59, 56, 33, 99, 222, 1087, 26, 40, 49, 89, 47, 71, 416, 293, 48, 322, 96, 31, 151, 63, 80, 93, 53, 317, 122, 151, 188, 20, 26, 211, 82, 191, 43, 181, 52, 73, 98, 39, 87, 78, 100, 63, 86, 94, 275, 321, 146, 183, 22, 81, 211, 10, 54, 74, 136, 77, 277, 115, 285, 40, 71, 88, 14, 80, 84, 160, 436, 56, 43, 196, 63, 655, 24, 20, 53, 61, 103, 78, 51, 169, 259, 30, 266, 49, 68, 29, 209, 224, 121, 159, 27, 50, 92, 96, 53, 404, 776, 26, 94, 78, 152, 338, 152, 204, 26, 161, 25, 40, 26, 169, 31, 125, 150, 281, 127, 105, 68, 45, 248, 119, 18, 80, 71, 29, 178, 100, 312, 18, 65, 97, 40, 150, 58, 110, 146, 75, 49, 326, 244, 79, 118, 152, 552, 459, 38, 154, 77, 45, 57, 145, 59, 37, 51, 173, 73, 69, 75, 54, 59, 125, 43, 221, 81, 118, 286, 161, 94, 224, 74, 84, 103, 892, 121, 112, 144, 133, 146, 25, 38, 90, 78, 139, 93, 611, 43, 124, 476, 132, 347, 71, 31, 49, 182, 81, 23, 170, 305, 244, 228, 86, 56, 20, 38, 101, 95, 36, 192, 286, 130, 36, 142, 271, 99, 89, 19, 51, 31, 123, 31, 44, 167, 186, 146, 262, 99, 85, 65, 34, 33, 270, 92, 250, 22, 178, 175, 77, 56, 131, 135, 544, 47, 99, 261, 90, 52, 95, 18, 78, 186, 91, 108, 60, 189, 237, 38, 102, 77, 84, 226, 149, 247, 77, 344, 98, 244, 53, 30, 448, 261, 35, 65, 26, 80, 116, 277, 554, 50, 136, 91, 261, 58, 235, 47, 175, 16, 115, 224, 106, 196, 182, 33, 93, 15, 137, 150, 24, 249, 85, 51, 378, 531, 230, 21, 165, 60, 155, 120, 97, 102, 47, 78, 34, 32, 143, 51, 57, 62, 155, 25, 84, 74, 130, 286, 50, 120, 53, 39, 73, 53, 90, 55, 108, 51, 66, 35, 659, 26, 135, 10, 298, 65, 77, 198, 126, 172, 171, 106, 184, 52, 60, 33, 499, 146, 478, 20, 118, 239, 406, 43, 274, 53, 58, 58, 32, 22, 70, 25, 112, 133, 43, 64, 26, 74, 62, 22, 27, 110, 219, 392, 22, 36, 260, 162, 51, 48, 298, 125, 67, 288, 120, 169, 154, 68, 89, 26, 66, 50, 60, 66, 91, 114, 22, 570, 141, 124, 115, 488, 343, 152, 26, 40, 52, 71, 140, 24, 17, 53, 58, 78, 28, 220, 49, 134, 218, 84, 57, 508, 29, 44, 73, 47, 14, 32, 43, 73, 91, 31, 40, 199, 121, 89, 44, 38, 112, 45, 203, 151, 105, 65, 61, 107, 50, 175, 142, 58, 184, 50, 62, 42, 455, 39, 67, 33, 36, 104, 172, 324, 226, 114, 59, 141, 150, 360, 42, 49, 73, 64, 35, 162, 55, 101, 112, 158, 41, 45, 225, 243, 559, 150, 69, 102, 233, 12, 38, 189, 71, 189, 44, 147, 177, 35, 76, 29, 75, 47, 168, 49, 191, 129, 552, 162, 46, 138, 65, 43, 308, 70, 455, 25, 70, 273, 21, 673, 73, 41, 341, 101, 30, 58, 177, 144, 161, 99, 35, 250, 130, 49, 61, 98, 37, 594, 54, 294, 82, 141, 318, 80, 49, 108, 42, 54, 105, 35, 184, 52, 64, 190, 86, 63, 306, 162, 126, 53, 50, 22, 97, 18, 105, 86], \"xbins\": {\"size\": 5, \"start\": 10, \"end\": 1088}}], {\"title\": \"Review Length Distribution\", \"xaxis\": {\"title\": \"review length\"}, \"yaxis\": {\"title\": \"count\"}}, {\"showLink\": true, \"linkText\": \"Export to plot.ly\"})});</script>"
      ]
     },
     "metadata": {},
     "output_type": "display_data"
    }
   ],
   "source": [
    "doc_lens = list(map(lambda d: len(d.get('doc')), doc_metrics))\n",
    "data = [Histogram(x=doc_lens, xbins={'size': 5, 'start': min(doc_lens), 'end': max(doc_lens)})]\n",
    "layout = Layout(title='Review Length Distribution', xaxis={'title': 'review length'}, yaxis={'title': 'count'})\n",
    "fig = Figure(data=data, layout=layout)\n",
    "iplot(fig)"
   ]
  },
  {
   "cell_type": "markdown",
   "metadata": {},
   "source": [
    "###Most Frequent Words"
   ]
  },
  {
   "cell_type": "code",
   "execution_count": 42,
   "metadata": {},
   "outputs": [],
   "source": [
    "all_text = chain.from_iterable([d.get('text') for d in doc_metrics])\n",
    "all_text = [token.lower().strip() for token in all_text]"
   ]
  },
  {
   "cell_type": "code",
   "execution_count": 43,
   "metadata": {},
   "outputs": [
    {
     "data": {
      "text/plain": [
       "9051"
      ]
     },
     "execution_count": 43,
     "metadata": {},
     "output_type": "execute_result"
    }
   ],
   "source": [
    "len(Counter(all_text))"
   ]
  },
  {
   "cell_type": "code",
   "execution_count": 44,
   "metadata": {},
   "outputs": [
    {
     "data": {
      "application/vnd.plotly.v1+json": {
       "data": [
        {
         "marker": {
          "color": "rgba(55, 128, 191, 0.6)",
          "line": {
           "color": "rgba(55, 128, 191, 1.0)",
           "width": 1
          }
         },
         "name": "Count",
         "orientation": "v",
         "text": "",
         "type": "bar",
         "uid": "19c2ea",
         "x": [
          "place",
          "good",
          "food",
          "great",
          "like",
          "time",
          "service",
          "got",
          "nice",
          "staff",
          "best",
          "friendly",
          "came",
          "love",
          "come",
          "ordered",
          "experience",
          "went",
          "little",
          "order",
          "restaurant",
          "people",
          "try",
          "chicken",
          "definitely"
         ],
         "y": [
          535,
          473,
          462,
          450,
          366,
          351,
          350,
          233,
          200,
          174,
          172,
          172,
          167,
          156,
          154,
          149,
          147,
          145,
          144,
          139,
          137,
          135,
          135,
          134,
          132
         ]
        }
       ],
       "layout": {
        "autosize": true,
        "legend": {
         "bgcolor": "#FFFFFF",
         "font": {
          "color": "#4D5663"
         }
        },
        "paper_bgcolor": "#FFFFFF",
        "plot_bgcolor": "#FFFFFF",
        "showlegend": false,
        "title": "Top 25 Words by Count",
        "titlefont": {
         "color": "#4D5663"
        },
        "xaxis": {
         "autorange": true,
         "gridcolor": "#E1E5ED",
         "range": [
          -0.5,
          24.5
         ],
         "showgrid": true,
         "tickfont": {
          "color": "#4D5663"
         },
         "title": "word",
         "titlefont": {
          "color": "#4D5663"
         },
         "type": "category",
         "zerolinecolor": "#E1E5ED"
        },
        "yaxis": {
         "autorange": true,
         "gridcolor": "#E1E5ED",
         "range": [
          0,
          563.1578947368421
         ],
         "showgrid": true,
         "tickfont": {
          "color": "#4D5663"
         },
         "title": "count",
         "titlefont": {
          "color": "#4D5663"
         },
         "type": "linear",
         "zerolinecolor": "#E1E5ED"
        }
       }
      },
      "text/html": [
       "<div id=\"279c4fd6-46e4-4bbe-a1ac-123cb1ffe632\" style=\"height: 525px; width: 100%;\" class=\"plotly-graph-div\"></div><script type=\"text/javascript\">require([\"plotly\"], function(Plotly) { window.PLOTLYENV=window.PLOTLYENV || {};window.PLOTLYENV.BASE_URL=\"https://plot.ly\";Plotly.newPlot(\"279c4fd6-46e4-4bbe-a1ac-123cb1ffe632\", [{\"type\": \"bar\", \"x\": [\"place\", \"good\", \"food\", \"great\", \"like\", \"time\", \"service\", \"got\", \"nice\", \"staff\", \"best\", \"friendly\", \"came\", \"love\", \"come\", \"ordered\", \"experience\", \"went\", \"little\", \"order\", \"restaurant\", \"people\", \"try\", \"chicken\", \"definitely\"], \"y\": [535, 473, 462, 450, 366, 351, 350, 233, 200, 174, 172, 172, 167, 156, 154, 149, 147, 145, 144, 139, 137, 135, 135, 134, 132], \"name\": \"Count\", \"text\": \"\", \"marker\": {\"color\": \"rgba(55, 128, 191, 0.6)\", \"line\": {\"color\": \"rgba(55, 128, 191, 1.0)\", \"width\": 1}}, \"orientation\": \"v\"}], {\"legend\": {\"bgcolor\": \"#FFFFFF\", \"font\": {\"color\": \"#4D5663\"}}, \"paper_bgcolor\": \"#FFFFFF\", \"plot_bgcolor\": \"#FFFFFF\", \"yaxis1\": {\"tickfont\": {\"color\": \"#4D5663\"}, \"gridcolor\": \"#E1E5ED\", \"titlefont\": {\"color\": \"#4D5663\"}, \"zerolinecolor\": \"#E1E5ED\", \"showgrid\": true, \"title\": \"count\"}, \"xaxis1\": {\"tickfont\": {\"color\": \"#4D5663\"}, \"gridcolor\": \"#E1E5ED\", \"titlefont\": {\"color\": \"#4D5663\"}, \"zerolinecolor\": \"#E1E5ED\", \"showgrid\": true, \"title\": \"word\"}, \"titlefont\": {\"color\": \"#4D5663\"}, \"title\": \"Top 25 Words by Count\", \"showlegend\": false}, {\"showLink\": true, \"linkText\": \"Export to plot.ly\"})});</script>"
      ],
      "text/vnd.plotly.v1+html": [
       "<div id=\"279c4fd6-46e4-4bbe-a1ac-123cb1ffe632\" style=\"height: 525px; width: 100%;\" class=\"plotly-graph-div\"></div><script type=\"text/javascript\">require([\"plotly\"], function(Plotly) { window.PLOTLYENV=window.PLOTLYENV || {};window.PLOTLYENV.BASE_URL=\"https://plot.ly\";Plotly.newPlot(\"279c4fd6-46e4-4bbe-a1ac-123cb1ffe632\", [{\"type\": \"bar\", \"x\": [\"place\", \"good\", \"food\", \"great\", \"like\", \"time\", \"service\", \"got\", \"nice\", \"staff\", \"best\", \"friendly\", \"came\", \"love\", \"come\", \"ordered\", \"experience\", \"went\", \"little\", \"order\", \"restaurant\", \"people\", \"try\", \"chicken\", \"definitely\"], \"y\": [535, 473, 462, 450, 366, 351, 350, 233, 200, 174, 172, 172, 167, 156, 154, 149, 147, 145, 144, 139, 137, 135, 135, 134, 132], \"name\": \"Count\", \"text\": \"\", \"marker\": {\"color\": \"rgba(55, 128, 191, 0.6)\", \"line\": {\"color\": \"rgba(55, 128, 191, 1.0)\", \"width\": 1}}, \"orientation\": \"v\"}], {\"legend\": {\"bgcolor\": \"#FFFFFF\", \"font\": {\"color\": \"#4D5663\"}}, \"paper_bgcolor\": \"#FFFFFF\", \"plot_bgcolor\": \"#FFFFFF\", \"yaxis1\": {\"tickfont\": {\"color\": \"#4D5663\"}, \"gridcolor\": \"#E1E5ED\", \"titlefont\": {\"color\": \"#4D5663\"}, \"zerolinecolor\": \"#E1E5ED\", \"showgrid\": true, \"title\": \"count\"}, \"xaxis1\": {\"tickfont\": {\"color\": \"#4D5663\"}, \"gridcolor\": \"#E1E5ED\", \"titlefont\": {\"color\": \"#4D5663\"}, \"zerolinecolor\": \"#E1E5ED\", \"showgrid\": true, \"title\": \"word\"}, \"titlefont\": {\"color\": \"#4D5663\"}, \"title\": \"Top 25 Words by Count\", \"showlegend\": false}, {\"showLink\": true, \"linkText\": \"Export to plot.ly\"})});</script>"
      ]
     },
     "metadata": {},
     "output_type": "display_data"
    }
   ],
   "source": [
    "#top 25 words by count\n",
    "word_count_df = pd.DataFrame(Counter(all_text).most_common(25), columns=['Word', 'Count']).set_index('Word')\n",
    "word_count_plot = word_count_df.iplot(kind='bar', \n",
    "                                      asFigure=True, \n",
    "                                      xTitle='word', \n",
    "                                      yTitle='count', \n",
    "                                      title='Top 25 Words by Count',\n",
    "                                      color='blue')\n",
    "\n",
    "cf.iplot(word_count_plot, legend=False)"
   ]
  },
  {
   "cell_type": "code",
   "execution_count": 45,
   "metadata": {},
   "outputs": [],
   "source": [
    "all_lemmas = chain.from_iterable([d.get('lemmas') for d in doc_metrics])\n",
    "all_lemmas = [token.lower().strip() for token in all_text]"
   ]
  },
  {
   "cell_type": "code",
   "execution_count": 46,
   "metadata": {},
   "outputs": [
    {
     "data": {
      "application/vnd.plotly.v1+json": {
       "data": [
        {
         "marker": {
          "color": "rgba(55, 128, 191, 0.6)",
          "line": {
           "color": "rgba(55, 128, 191, 1.0)",
           "width": 1
          }
         },
         "name": "Count",
         "orientation": "v",
         "text": "",
         "type": "bar",
         "uid": "b50ba2",
         "x": [
          "place",
          "good",
          "food",
          "great",
          "like",
          "time",
          "service",
          "got",
          "nice",
          "staff",
          "best",
          "friendly",
          "came",
          "love",
          "come",
          "ordered",
          "experience",
          "went",
          "little",
          "order",
          "restaurant",
          "people",
          "try",
          "chicken",
          "definitely"
         ],
         "y": [
          535,
          473,
          462,
          450,
          366,
          351,
          350,
          233,
          200,
          174,
          172,
          172,
          167,
          156,
          154,
          149,
          147,
          145,
          144,
          139,
          137,
          135,
          135,
          134,
          132
         ]
        }
       ],
       "layout": {
        "autosize": true,
        "legend": {
         "bgcolor": "#FFFFFF",
         "font": {
          "color": "#4D5663"
         }
        },
        "paper_bgcolor": "#FFFFFF",
        "plot_bgcolor": "#FFFFFF",
        "showlegend": false,
        "title": "Top 25 Lemmas by Count",
        "titlefont": {
         "color": "#4D5663"
        },
        "xaxis": {
         "autorange": true,
         "gridcolor": "#E1E5ED",
         "range": [
          -0.5,
          24.5
         ],
         "showgrid": true,
         "tickfont": {
          "color": "#4D5663"
         },
         "title": "lemma",
         "titlefont": {
          "color": "#4D5663"
         },
         "type": "category",
         "zerolinecolor": "#E1E5ED"
        },
        "yaxis": {
         "autorange": true,
         "gridcolor": "#E1E5ED",
         "range": [
          0,
          563.1578947368421
         ],
         "showgrid": true,
         "tickfont": {
          "color": "#4D5663"
         },
         "title": "count",
         "titlefont": {
          "color": "#4D5663"
         },
         "type": "linear",
         "zerolinecolor": "#E1E5ED"
        }
       }
      },
      "text/html": [
       "<div id=\"f77aea30-a91e-4b46-bbbc-6280d1426de5\" style=\"height: 525px; width: 100%;\" class=\"plotly-graph-div\"></div><script type=\"text/javascript\">require([\"plotly\"], function(Plotly) { window.PLOTLYENV=window.PLOTLYENV || {};window.PLOTLYENV.BASE_URL=\"https://plot.ly\";Plotly.newPlot(\"f77aea30-a91e-4b46-bbbc-6280d1426de5\", [{\"type\": \"bar\", \"x\": [\"place\", \"good\", \"food\", \"great\", \"like\", \"time\", \"service\", \"got\", \"nice\", \"staff\", \"best\", \"friendly\", \"came\", \"love\", \"come\", \"ordered\", \"experience\", \"went\", \"little\", \"order\", \"restaurant\", \"people\", \"try\", \"chicken\", \"definitely\"], \"y\": [535, 473, 462, 450, 366, 351, 350, 233, 200, 174, 172, 172, 167, 156, 154, 149, 147, 145, 144, 139, 137, 135, 135, 134, 132], \"name\": \"Count\", \"text\": \"\", \"marker\": {\"color\": \"rgba(55, 128, 191, 0.6)\", \"line\": {\"color\": \"rgba(55, 128, 191, 1.0)\", \"width\": 1}}, \"orientation\": \"v\"}], {\"legend\": {\"bgcolor\": \"#FFFFFF\", \"font\": {\"color\": \"#4D5663\"}}, \"paper_bgcolor\": \"#FFFFFF\", \"plot_bgcolor\": \"#FFFFFF\", \"yaxis1\": {\"tickfont\": {\"color\": \"#4D5663\"}, \"gridcolor\": \"#E1E5ED\", \"titlefont\": {\"color\": \"#4D5663\"}, \"zerolinecolor\": \"#E1E5ED\", \"showgrid\": true, \"title\": \"count\"}, \"xaxis1\": {\"tickfont\": {\"color\": \"#4D5663\"}, \"gridcolor\": \"#E1E5ED\", \"titlefont\": {\"color\": \"#4D5663\"}, \"zerolinecolor\": \"#E1E5ED\", \"showgrid\": true, \"title\": \"lemma\"}, \"titlefont\": {\"color\": \"#4D5663\"}, \"title\": \"Top 25 Lemmas by Count\", \"showlegend\": false}, {\"showLink\": true, \"linkText\": \"Export to plot.ly\"})});</script>"
      ],
      "text/vnd.plotly.v1+html": [
       "<div id=\"f77aea30-a91e-4b46-bbbc-6280d1426de5\" style=\"height: 525px; width: 100%;\" class=\"plotly-graph-div\"></div><script type=\"text/javascript\">require([\"plotly\"], function(Plotly) { window.PLOTLYENV=window.PLOTLYENV || {};window.PLOTLYENV.BASE_URL=\"https://plot.ly\";Plotly.newPlot(\"f77aea30-a91e-4b46-bbbc-6280d1426de5\", [{\"type\": \"bar\", \"x\": [\"place\", \"good\", \"food\", \"great\", \"like\", \"time\", \"service\", \"got\", \"nice\", \"staff\", \"best\", \"friendly\", \"came\", \"love\", \"come\", \"ordered\", \"experience\", \"went\", \"little\", \"order\", \"restaurant\", \"people\", \"try\", \"chicken\", \"definitely\"], \"y\": [535, 473, 462, 450, 366, 351, 350, 233, 200, 174, 172, 172, 167, 156, 154, 149, 147, 145, 144, 139, 137, 135, 135, 134, 132], \"name\": \"Count\", \"text\": \"\", \"marker\": {\"color\": \"rgba(55, 128, 191, 0.6)\", \"line\": {\"color\": \"rgba(55, 128, 191, 1.0)\", \"width\": 1}}, \"orientation\": \"v\"}], {\"legend\": {\"bgcolor\": \"#FFFFFF\", \"font\": {\"color\": \"#4D5663\"}}, \"paper_bgcolor\": \"#FFFFFF\", \"plot_bgcolor\": \"#FFFFFF\", \"yaxis1\": {\"tickfont\": {\"color\": \"#4D5663\"}, \"gridcolor\": \"#E1E5ED\", \"titlefont\": {\"color\": \"#4D5663\"}, \"zerolinecolor\": \"#E1E5ED\", \"showgrid\": true, \"title\": \"count\"}, \"xaxis1\": {\"tickfont\": {\"color\": \"#4D5663\"}, \"gridcolor\": \"#E1E5ED\", \"titlefont\": {\"color\": \"#4D5663\"}, \"zerolinecolor\": \"#E1E5ED\", \"showgrid\": true, \"title\": \"lemma\"}, \"titlefont\": {\"color\": \"#4D5663\"}, \"title\": \"Top 25 Lemmas by Count\", \"showlegend\": false}, {\"showLink\": true, \"linkText\": \"Export to plot.ly\"})});</script>"
      ]
     },
     "metadata": {},
     "output_type": "display_data"
    }
   ],
   "source": [
    "lemma_df = pd.DataFrame(Counter(all_lemmas).most_common(25), columns=['Word', 'Count']).set_index('Word')\n",
    "lemma_plot = lemma_df.iplot(kind='bar', \n",
    "                            asFigure=True, \n",
    "                            xTitle='lemma', \n",
    "                            yTitle='count', \n",
    "                            title='Top 25 Lemmas by Count',\n",
    "                            color='blue')\n",
    "cf.iplot(lemma_plot, legend=False)"
   ]
  },
  {
   "cell_type": "code",
   "execution_count": 97,
   "metadata": {},
   "outputs": [],
   "source": [
    "all_entities = list(chain.from_iterable([d.get('entities') for d in doc_metrics]))\n",
    "entity_names = list(map(lambda x: x[0], all_entities))\n",
    "entity_types = list(map(lambda x: x[1], all_entities))"
   ]
  },
  {
   "cell_type": "code",
   "execution_count": 65,
   "metadata": {},
   "outputs": [
    {
     "data": {
      "application/vnd.plotly.v1+json": {
       "data": [
        {
         "marker": {
          "color": "rgba(55, 128, 191, 0.6)",
          "line": {
           "color": "rgba(55, 128, 191, 1.0)",
           "width": 1
          }
         },
         "name": "Count",
         "orientation": "v",
         "text": "",
         "type": "bar",
         "uid": "d1dd51",
         "x": [
          "one",
          "first",
          "two",
          "night",
          "vegas",
          "",
          "three",
          "half",
          "las vegas",
          "second",
          "today",
          "phoenix",
          "mexican",
          "yelp",
          "friday",
          "italian",
          "saturday",
          "french",
          "chinese"
         ],
         "y": [
          224,
          167,
          96,
          63,
          37,
          34,
          30,
          30,
          28,
          26,
          26,
          22,
          21,
          20,
          20,
          17,
          16,
          16,
          16
         ]
        }
       ],
       "layout": {
        "autosize": true,
        "legend": {
         "bgcolor": "#FFFFFF",
         "font": {
          "color": "#4D5663"
         }
        },
        "paper_bgcolor": "#FFFFFF",
        "plot_bgcolor": "#FFFFFF",
        "showlegend": false,
        "title": "Top 25 Entities by Count",
        "titlefont": {
         "color": "#4D5663"
        },
        "xaxis": {
         "autorange": true,
         "gridcolor": "#E1E5ED",
         "range": [
          -0.5,
          18.5
         ],
         "showgrid": true,
         "tickfont": {
          "color": "#4D5663"
         },
         "title": "entity",
         "titlefont": {
          "color": "#4D5663"
         },
         "type": "category",
         "zerolinecolor": "#E1E5ED"
        },
        "yaxis": {
         "autorange": true,
         "gridcolor": "#E1E5ED",
         "range": [
          0,
          235.78947368421052
         ],
         "showgrid": true,
         "tickfont": {
          "color": "#4D5663"
         },
         "title": "count",
         "titlefont": {
          "color": "#4D5663"
         },
         "type": "linear",
         "zerolinecolor": "#E1E5ED"
        }
       }
      },
      "text/html": [
       "<div id=\"b9694923-09c9-437e-9381-1883916d673a\" style=\"height: 525px; width: 100%;\" class=\"plotly-graph-div\"></div><script type=\"text/javascript\">require([\"plotly\"], function(Plotly) { window.PLOTLYENV=window.PLOTLYENV || {};window.PLOTLYENV.BASE_URL=\"https://plot.ly\";Plotly.newPlot(\"b9694923-09c9-437e-9381-1883916d673a\", [{\"type\": \"bar\", \"x\": [\"one\", \"first\", \"two\", \"night\", \"vegas\", \"\", \"three\", \"half\", \"las vegas\", \"second\", \"today\", \"phoenix\", \"mexican\", \"yelp\", \"friday\", \"italian\", \"saturday\", \"french\", \"chinese\"], \"y\": [224, 167, 96, 63, 37, 34, 30, 30, 28, 26, 26, 22, 21, 20, 20, 17, 16, 16, 16], \"name\": \"Count\", \"text\": \"\", \"marker\": {\"color\": \"rgba(55, 128, 191, 0.6)\", \"line\": {\"color\": \"rgba(55, 128, 191, 1.0)\", \"width\": 1}}, \"orientation\": \"v\"}], {\"legend\": {\"bgcolor\": \"#FFFFFF\", \"font\": {\"color\": \"#4D5663\"}}, \"paper_bgcolor\": \"#FFFFFF\", \"plot_bgcolor\": \"#FFFFFF\", \"yaxis1\": {\"tickfont\": {\"color\": \"#4D5663\"}, \"gridcolor\": \"#E1E5ED\", \"titlefont\": {\"color\": \"#4D5663\"}, \"zerolinecolor\": \"#E1E5ED\", \"showgrid\": true, \"title\": \"count\"}, \"xaxis1\": {\"tickfont\": {\"color\": \"#4D5663\"}, \"gridcolor\": \"#E1E5ED\", \"titlefont\": {\"color\": \"#4D5663\"}, \"zerolinecolor\": \"#E1E5ED\", \"showgrid\": true, \"title\": \"entity\"}, \"titlefont\": {\"color\": \"#4D5663\"}, \"title\": \"Top 25 Entities by Count\", \"showlegend\": false}, {\"showLink\": true, \"linkText\": \"Export to plot.ly\"})});</script>"
      ],
      "text/vnd.plotly.v1+html": [
       "<div id=\"b9694923-09c9-437e-9381-1883916d673a\" style=\"height: 525px; width: 100%;\" class=\"plotly-graph-div\"></div><script type=\"text/javascript\">require([\"plotly\"], function(Plotly) { window.PLOTLYENV=window.PLOTLYENV || {};window.PLOTLYENV.BASE_URL=\"https://plot.ly\";Plotly.newPlot(\"b9694923-09c9-437e-9381-1883916d673a\", [{\"type\": \"bar\", \"x\": [\"one\", \"first\", \"two\", \"night\", \"vegas\", \"\", \"three\", \"half\", \"las vegas\", \"second\", \"today\", \"phoenix\", \"mexican\", \"yelp\", \"friday\", \"italian\", \"saturday\", \"french\", \"chinese\"], \"y\": [224, 167, 96, 63, 37, 34, 30, 30, 28, 26, 26, 22, 21, 20, 20, 17, 16, 16, 16], \"name\": \"Count\", \"text\": \"\", \"marker\": {\"color\": \"rgba(55, 128, 191, 0.6)\", \"line\": {\"color\": \"rgba(55, 128, 191, 1.0)\", \"width\": 1}}, \"orientation\": \"v\"}], {\"legend\": {\"bgcolor\": \"#FFFFFF\", \"font\": {\"color\": \"#4D5663\"}}, \"paper_bgcolor\": \"#FFFFFF\", \"plot_bgcolor\": \"#FFFFFF\", \"yaxis1\": {\"tickfont\": {\"color\": \"#4D5663\"}, \"gridcolor\": \"#E1E5ED\", \"titlefont\": {\"color\": \"#4D5663\"}, \"zerolinecolor\": \"#E1E5ED\", \"showgrid\": true, \"title\": \"count\"}, \"xaxis1\": {\"tickfont\": {\"color\": \"#4D5663\"}, \"gridcolor\": \"#E1E5ED\", \"titlefont\": {\"color\": \"#4D5663\"}, \"zerolinecolor\": \"#E1E5ED\", \"showgrid\": true, \"title\": \"entity\"}, \"titlefont\": {\"color\": \"#4D5663\"}, \"title\": \"Top 25 Entities by Count\", \"showlegend\": false}, {\"showLink\": true, \"linkText\": \"Export to plot.ly\"})});</script>"
      ]
     },
     "metadata": {},
     "output_type": "display_data"
    }
   ],
   "source": [
    "entity_name_df = pd.DataFrame(Counter(entity_names).most_common(25), columns=['Entity', 'Count'])\n",
    "entity_name_df = entity_name_df[~entity_name_df.Entity.astype(str).str.isnumeric()].set_index('Entity')\n",
    "entity_name_plot = entity_name_df.iplot(kind='bar', \n",
    "                            asFigure=True, \n",
    "                            xTitle='entity', \n",
    "                            yTitle='count', \n",
    "                            title='Top 25 Entities by Count',\n",
    "                            color='blue')\n",
    "cf.iplot(entity_name_plot, legend=False)"
   ]
  },
  {
   "cell_type": "code",
   "execution_count": 100,
   "metadata": {},
   "outputs": [
    {
     "data": {
      "application/vnd.plotly.v1+json": {
       "data": [
        {
         "marker": {
          "color": "rgba(55, 128, 191, 0.6)",
          "line": {
           "color": "rgba(55, 128, 191, 1.0)",
           "width": 1
          }
         },
         "name": "Count",
         "orientation": "v",
         "text": "",
         "type": "bar",
         "uid": "61b603",
         "x": [
          "CARDINAL",
          "PERSON",
          "ORG",
          "DATE",
          "GPE",
          "TIME",
          "MONEY",
          "ORDINAL",
          "NORP",
          "LOC",
          "WORK_OF_ART",
          "FAC",
          "PERCENT",
          "QUANTITY",
          "PRODUCT",
          "EVENT",
          "LAW",
          "LANGUAGE"
         ],
         "y": [
          945,
          853,
          776,
          566,
          524,
          378,
          240,
          229,
          187,
          64,
          57,
          50,
          32,
          24,
          21,
          19,
          8,
          5
         ]
        }
       ],
       "layout": {
        "autosize": true,
        "legend": {
         "bgcolor": "#FFFFFF",
         "font": {
          "color": "#4D5663"
         }
        },
        "paper_bgcolor": "#FFFFFF",
        "plot_bgcolor": "#FFFFFF",
        "showlegend": false,
        "title": "Top 25 Entity Types by Count",
        "titlefont": {
         "color": "#4D5663"
        },
        "xaxis": {
         "autorange": true,
         "gridcolor": "#E1E5ED",
         "range": [
          -0.5,
          17.5
         ],
         "showgrid": true,
         "tickfont": {
          "color": "#4D5663"
         },
         "title": "type",
         "titlefont": {
          "color": "#4D5663"
         },
         "type": "category",
         "zerolinecolor": "#E1E5ED"
        },
        "yaxis": {
         "autorange": true,
         "gridcolor": "#E1E5ED",
         "range": [
          0,
          994.7368421052631
         ],
         "showgrid": true,
         "tickfont": {
          "color": "#4D5663"
         },
         "title": "count",
         "titlefont": {
          "color": "#4D5663"
         },
         "type": "linear",
         "zerolinecolor": "#E1E5ED"
        }
       }
      },
      "text/html": [
       "<div id=\"2e96c48b-8944-46d5-9689-3fb9a3e64aba\" style=\"height: 525px; width: 100%;\" class=\"plotly-graph-div\"></div><script type=\"text/javascript\">require([\"plotly\"], function(Plotly) { window.PLOTLYENV=window.PLOTLYENV || {};window.PLOTLYENV.BASE_URL=\"https://plot.ly\";Plotly.newPlot(\"2e96c48b-8944-46d5-9689-3fb9a3e64aba\", [{\"type\": \"bar\", \"x\": [\"CARDINAL\", \"PERSON\", \"ORG\", \"DATE\", \"GPE\", \"TIME\", \"MONEY\", \"ORDINAL\", \"NORP\", \"LOC\", \"WORK_OF_ART\", \"FAC\", \"PERCENT\", \"QUANTITY\", \"PRODUCT\", \"EVENT\", \"LAW\", \"LANGUAGE\"], \"y\": [945, 853, 776, 566, 524, 378, 240, 229, 187, 64, 57, 50, 32, 24, 21, 19, 8, 5], \"name\": \"Count\", \"text\": \"\", \"marker\": {\"color\": \"rgba(55, 128, 191, 0.6)\", \"line\": {\"color\": \"rgba(55, 128, 191, 1.0)\", \"width\": 1}}, \"orientation\": \"v\"}], {\"legend\": {\"bgcolor\": \"#FFFFFF\", \"font\": {\"color\": \"#4D5663\"}}, \"paper_bgcolor\": \"#FFFFFF\", \"plot_bgcolor\": \"#FFFFFF\", \"yaxis1\": {\"tickfont\": {\"color\": \"#4D5663\"}, \"gridcolor\": \"#E1E5ED\", \"titlefont\": {\"color\": \"#4D5663\"}, \"zerolinecolor\": \"#E1E5ED\", \"showgrid\": true, \"title\": \"count\"}, \"xaxis1\": {\"tickfont\": {\"color\": \"#4D5663\"}, \"gridcolor\": \"#E1E5ED\", \"titlefont\": {\"color\": \"#4D5663\"}, \"zerolinecolor\": \"#E1E5ED\", \"showgrid\": true, \"title\": \"type\"}, \"titlefont\": {\"color\": \"#4D5663\"}, \"title\": \"Top 25 Entity Types by Count\", \"showlegend\": false}, {\"showLink\": true, \"linkText\": \"Export to plot.ly\"})});</script>"
      ],
      "text/vnd.plotly.v1+html": [
       "<div id=\"2e96c48b-8944-46d5-9689-3fb9a3e64aba\" style=\"height: 525px; width: 100%;\" class=\"plotly-graph-div\"></div><script type=\"text/javascript\">require([\"plotly\"], function(Plotly) { window.PLOTLYENV=window.PLOTLYENV || {};window.PLOTLYENV.BASE_URL=\"https://plot.ly\";Plotly.newPlot(\"2e96c48b-8944-46d5-9689-3fb9a3e64aba\", [{\"type\": \"bar\", \"x\": [\"CARDINAL\", \"PERSON\", \"ORG\", \"DATE\", \"GPE\", \"TIME\", \"MONEY\", \"ORDINAL\", \"NORP\", \"LOC\", \"WORK_OF_ART\", \"FAC\", \"PERCENT\", \"QUANTITY\", \"PRODUCT\", \"EVENT\", \"LAW\", \"LANGUAGE\"], \"y\": [945, 853, 776, 566, 524, 378, 240, 229, 187, 64, 57, 50, 32, 24, 21, 19, 8, 5], \"name\": \"Count\", \"text\": \"\", \"marker\": {\"color\": \"rgba(55, 128, 191, 0.6)\", \"line\": {\"color\": \"rgba(55, 128, 191, 1.0)\", \"width\": 1}}, \"orientation\": \"v\"}], {\"legend\": {\"bgcolor\": \"#FFFFFF\", \"font\": {\"color\": \"#4D5663\"}}, \"paper_bgcolor\": \"#FFFFFF\", \"plot_bgcolor\": \"#FFFFFF\", \"yaxis1\": {\"tickfont\": {\"color\": \"#4D5663\"}, \"gridcolor\": \"#E1E5ED\", \"titlefont\": {\"color\": \"#4D5663\"}, \"zerolinecolor\": \"#E1E5ED\", \"showgrid\": true, \"title\": \"count\"}, \"xaxis1\": {\"tickfont\": {\"color\": \"#4D5663\"}, \"gridcolor\": \"#E1E5ED\", \"titlefont\": {\"color\": \"#4D5663\"}, \"zerolinecolor\": \"#E1E5ED\", \"showgrid\": true, \"title\": \"type\"}, \"titlefont\": {\"color\": \"#4D5663\"}, \"title\": \"Top 25 Entity Types by Count\", \"showlegend\": false}, {\"showLink\": true, \"linkText\": \"Export to plot.ly\"})});</script>"
      ]
     },
     "metadata": {},
     "output_type": "display_data"
    }
   ],
   "source": [
    "entity_type_df = pd.DataFrame(Counter(entity_types).most_common(25), columns=['Type', 'Count']).set_index('Type')\n",
    "entity_type_plot = entity_type_df.iplot(kind='bar', \n",
    "                            asFigure=True, \n",
    "                            xTitle='type', \n",
    "                            yTitle='count', \n",
    "                            title='Top 25 Entity Types by Count',\n",
    "                            color='blue')\n",
    "cf.iplot(entity_type_plot, legend=False)"
   ]
  },
  {
   "cell_type": "code",
   "execution_count": 48,
   "metadata": {},
   "outputs": [],
   "source": [
    "def make_ngram_list(doc_metrics, key='bigrams'):\n",
    "    return list(chain.from_iterable([list(d.get(key)) for d in doc_metrics]))"
   ]
  },
  {
   "cell_type": "code",
   "execution_count": 49,
   "metadata": {},
   "outputs": [],
   "source": [
    "#most common bigrams\n",
    "all_bigrams = make_ngram_list(doc_metrics)\n",
    "all_trigrams = make_ngram_list(doc_metrics, key='trigrams')"
   ]
  },
  {
   "cell_type": "code",
   "execution_count": 50,
   "metadata": {},
   "outputs": [],
   "source": [
    "def make_count_df(_ngrams):\n",
    "    top25_ngrams = Counter(_ngrams).most_common(25)\n",
    "    ngram_df = pd.DataFrame(top25_ngrams, columns=['Word', 'Count']).set_index('Word')\n",
    "    return ngram_df"
   ]
  },
  {
   "cell_type": "code",
   "execution_count": 51,
   "metadata": {},
   "outputs": [
    {
     "data": {
      "application/vnd.plotly.v1+json": {
       "data": [
        {
         "marker": {
          "color": "rgba(55, 128, 191, 0.6)",
          "line": {
           "color": "rgba(55, 128, 191, 1.0)",
           "width": 1
          }
         },
         "name": "Count",
         "orientation": "v",
         "text": "",
         "type": "bar",
         "uid": "4b98d8",
         "x": [
          "highly recommend",
          "customer service",
          "las vegas",
          "feel like",
          "love place",
          "great place",
          "pretty good",
          "great service",
          "food good",
          "food great",
          "service great",
          "ice cream",
          "great food",
          "super friendly",
          "staff friendly",
          "friendly staff",
          "good food",
          "happy hour",
          "recommend place",
          "minutes later",
          "good service",
          "definitely recommend",
          "try place",
          "place great",
          "great experience"
         ],
         "y": [
          40,
          37,
          36,
          30,
          28,
          27,
          26,
          24,
          24,
          22,
          22,
          22,
          21,
          19,
          19,
          17,
          16,
          16,
          15,
          15,
          15,
          14,
          14,
          13,
          13
         ]
        }
       ],
       "layout": {
        "autosize": true,
        "legend": {
         "bgcolor": "#FFFFFF",
         "font": {
          "color": "#4D5663"
         }
        },
        "paper_bgcolor": "#FFFFFF",
        "plot_bgcolor": "#FFFFFF",
        "showlegend": false,
        "title": "Top 25 Bigrams by Count",
        "titlefont": {
         "color": "#4D5663"
        },
        "xaxis": {
         "autorange": true,
         "gridcolor": "#E1E5ED",
         "range": [
          -0.5,
          24.5
         ],
         "showgrid": true,
         "tickfont": {
          "color": "#4D5663"
         },
         "title": "bigram",
         "titlefont": {
          "color": "#4D5663"
         },
         "type": "category",
         "zerolinecolor": "#E1E5ED"
        },
        "yaxis": {
         "autorange": true,
         "gridcolor": "#E1E5ED",
         "range": [
          0,
          42.10526315789474
         ],
         "showgrid": true,
         "tickfont": {
          "color": "#4D5663"
         },
         "title": "count",
         "titlefont": {
          "color": "#4D5663"
         },
         "type": "linear",
         "zerolinecolor": "#E1E5ED"
        }
       }
      },
      "text/html": [
       "<div id=\"c36aa1fa-a8f2-47ff-9014-70029e1a1569\" style=\"height: 525px; width: 100%;\" class=\"plotly-graph-div\"></div><script type=\"text/javascript\">require([\"plotly\"], function(Plotly) { window.PLOTLYENV=window.PLOTLYENV || {};window.PLOTLYENV.BASE_URL=\"https://plot.ly\";Plotly.newPlot(\"c36aa1fa-a8f2-47ff-9014-70029e1a1569\", [{\"type\": \"bar\", \"x\": [\"highly recommend\", \"customer service\", \"las vegas\", \"feel like\", \"love place\", \"great place\", \"pretty good\", \"great service\", \"food good\", \"food great\", \"service great\", \"ice cream\", \"great food\", \"super friendly\", \"staff friendly\", \"friendly staff\", \"good food\", \"happy hour\", \"recommend place\", \"minutes later\", \"good service\", \"definitely recommend\", \"try place\", \"place great\", \"great experience\"], \"y\": [40, 37, 36, 30, 28, 27, 26, 24, 24, 22, 22, 22, 21, 19, 19, 17, 16, 16, 15, 15, 15, 14, 14, 13, 13], \"name\": \"Count\", \"text\": \"\", \"marker\": {\"color\": \"rgba(55, 128, 191, 0.6)\", \"line\": {\"color\": \"rgba(55, 128, 191, 1.0)\", \"width\": 1}}, \"orientation\": \"v\"}], {\"legend\": {\"bgcolor\": \"#FFFFFF\", \"font\": {\"color\": \"#4D5663\"}}, \"paper_bgcolor\": \"#FFFFFF\", \"plot_bgcolor\": \"#FFFFFF\", \"yaxis1\": {\"tickfont\": {\"color\": \"#4D5663\"}, \"gridcolor\": \"#E1E5ED\", \"titlefont\": {\"color\": \"#4D5663\"}, \"zerolinecolor\": \"#E1E5ED\", \"showgrid\": true, \"title\": \"count\"}, \"xaxis1\": {\"tickfont\": {\"color\": \"#4D5663\"}, \"gridcolor\": \"#E1E5ED\", \"titlefont\": {\"color\": \"#4D5663\"}, \"zerolinecolor\": \"#E1E5ED\", \"showgrid\": true, \"title\": \"bigram\"}, \"titlefont\": {\"color\": \"#4D5663\"}, \"title\": \"Top 25 Bigrams by Count\", \"showlegend\": false}, {\"showLink\": true, \"linkText\": \"Export to plot.ly\"})});</script>"
      ],
      "text/vnd.plotly.v1+html": [
       "<div id=\"c36aa1fa-a8f2-47ff-9014-70029e1a1569\" style=\"height: 525px; width: 100%;\" class=\"plotly-graph-div\"></div><script type=\"text/javascript\">require([\"plotly\"], function(Plotly) { window.PLOTLYENV=window.PLOTLYENV || {};window.PLOTLYENV.BASE_URL=\"https://plot.ly\";Plotly.newPlot(\"c36aa1fa-a8f2-47ff-9014-70029e1a1569\", [{\"type\": \"bar\", \"x\": [\"highly recommend\", \"customer service\", \"las vegas\", \"feel like\", \"love place\", \"great place\", \"pretty good\", \"great service\", \"food good\", \"food great\", \"service great\", \"ice cream\", \"great food\", \"super friendly\", \"staff friendly\", \"friendly staff\", \"good food\", \"happy hour\", \"recommend place\", \"minutes later\", \"good service\", \"definitely recommend\", \"try place\", \"place great\", \"great experience\"], \"y\": [40, 37, 36, 30, 28, 27, 26, 24, 24, 22, 22, 22, 21, 19, 19, 17, 16, 16, 15, 15, 15, 14, 14, 13, 13], \"name\": \"Count\", \"text\": \"\", \"marker\": {\"color\": \"rgba(55, 128, 191, 0.6)\", \"line\": {\"color\": \"rgba(55, 128, 191, 1.0)\", \"width\": 1}}, \"orientation\": \"v\"}], {\"legend\": {\"bgcolor\": \"#FFFFFF\", \"font\": {\"color\": \"#4D5663\"}}, \"paper_bgcolor\": \"#FFFFFF\", \"plot_bgcolor\": \"#FFFFFF\", \"yaxis1\": {\"tickfont\": {\"color\": \"#4D5663\"}, \"gridcolor\": \"#E1E5ED\", \"titlefont\": {\"color\": \"#4D5663\"}, \"zerolinecolor\": \"#E1E5ED\", \"showgrid\": true, \"title\": \"count\"}, \"xaxis1\": {\"tickfont\": {\"color\": \"#4D5663\"}, \"gridcolor\": \"#E1E5ED\", \"titlefont\": {\"color\": \"#4D5663\"}, \"zerolinecolor\": \"#E1E5ED\", \"showgrid\": true, \"title\": \"bigram\"}, \"titlefont\": {\"color\": \"#4D5663\"}, \"title\": \"Top 25 Bigrams by Count\", \"showlegend\": false}, {\"showLink\": true, \"linkText\": \"Export to plot.ly\"})});</script>"
      ]
     },
     "metadata": {},
     "output_type": "display_data"
    }
   ],
   "source": [
    "bigram_df = make_count_df(all_bigrams)\n",
    "bigram_plot = bigram_df.iplot(kind='bar', \n",
    "                              asFigure=True, \n",
    "                              xTitle='bigram', \n",
    "                              yTitle='count', \n",
    "                              title='Top 25 Bigrams by Count',\n",
    "                              color='blue')\n",
    "cf.iplot(bigram_plot, legend=False)"
   ]
  },
  {
   "cell_type": "code",
   "execution_count": 52,
   "metadata": {},
   "outputs": [
    {
     "data": {
      "application/vnd.plotly.v1+json": {
       "data": [
        {
         "marker": {
          "color": "rgba(55, 128, 191, 0.6)",
          "line": {
           "color": "rgba(55, 128, 191, 1.0)",
           "width": 1
          }
         },
         "name": "Count",
         "orientation": "v",
         "text": "",
         "type": "bar",
         "uid": "a5b9d7",
         "x": [
          "staff super friendly",
          "love love love",
          "mac n cheese",
          "poor customer service",
          "food took forever",
          "food came quickly",
          "great customer service",
          "definitely recommend place",
          "sweet potato fries",
          "service great food",
          "great service great",
          "overall great experience",
          "great food great",
          "finally got chance",
          "love love place",
          "staff friendly attentive",
          "swiss chalet st",
          "chalet st hubert",
          "husband love place",
          "feel like family",
          "happy hour great",
          "vanilla ice cream",
          "service excellent food",
          "visiting las vegas",
          "food good service"
         ],
         "y": [
          8,
          5,
          5,
          5,
          4,
          4,
          4,
          4,
          4,
          4,
          3,
          3,
          3,
          3,
          3,
          3,
          3,
          3,
          3,
          3,
          3,
          3,
          3,
          3,
          3
         ]
        }
       ],
       "layout": {
        "autosize": true,
        "legend": {
         "bgcolor": "#FFFFFF",
         "font": {
          "color": "#4D5663"
         }
        },
        "paper_bgcolor": "#FFFFFF",
        "plot_bgcolor": "#FFFFFF",
        "showlegend": false,
        "title": "Top 25 Trigrams by Count",
        "titlefont": {
         "color": "#4D5663"
        },
        "xaxis": {
         "autorange": true,
         "gridcolor": "#E1E5ED",
         "range": [
          -0.5,
          24.5
         ],
         "showgrid": true,
         "tickfont": {
          "color": "#4D5663"
         },
         "title": "trigram",
         "titlefont": {
          "color": "#4D5663"
         },
         "type": "category",
         "zerolinecolor": "#E1E5ED"
        },
        "yaxis": {
         "autorange": true,
         "gridcolor": "#E1E5ED",
         "range": [
          0,
          8.421052631578947
         ],
         "showgrid": true,
         "tickfont": {
          "color": "#4D5663"
         },
         "title": "count",
         "titlefont": {
          "color": "#4D5663"
         },
         "type": "linear",
         "zerolinecolor": "#E1E5ED"
        }
       }
      },
      "text/html": [
       "<div id=\"69829f09-1d07-474d-a182-494fa25d9654\" style=\"height: 525px; width: 100%;\" class=\"plotly-graph-div\"></div><script type=\"text/javascript\">require([\"plotly\"], function(Plotly) { window.PLOTLYENV=window.PLOTLYENV || {};window.PLOTLYENV.BASE_URL=\"https://plot.ly\";Plotly.newPlot(\"69829f09-1d07-474d-a182-494fa25d9654\", [{\"type\": \"bar\", \"x\": [\"staff super friendly\", \"love love love\", \"mac n cheese\", \"poor customer service\", \"food took forever\", \"food came quickly\", \"great customer service\", \"definitely recommend place\", \"sweet potato fries\", \"service great food\", \"great service great\", \"overall great experience\", \"great food great\", \"finally got chance\", \"love love place\", \"staff friendly attentive\", \"swiss chalet st\", \"chalet st hubert\", \"husband love place\", \"feel like family\", \"happy hour great\", \"vanilla ice cream\", \"service excellent food\", \"visiting las vegas\", \"food good service\"], \"y\": [8, 5, 5, 5, 4, 4, 4, 4, 4, 4, 3, 3, 3, 3, 3, 3, 3, 3, 3, 3, 3, 3, 3, 3, 3], \"name\": \"Count\", \"text\": \"\", \"marker\": {\"color\": \"rgba(55, 128, 191, 0.6)\", \"line\": {\"color\": \"rgba(55, 128, 191, 1.0)\", \"width\": 1}}, \"orientation\": \"v\"}], {\"legend\": {\"bgcolor\": \"#FFFFFF\", \"font\": {\"color\": \"#4D5663\"}}, \"paper_bgcolor\": \"#FFFFFF\", \"plot_bgcolor\": \"#FFFFFF\", \"yaxis1\": {\"tickfont\": {\"color\": \"#4D5663\"}, \"gridcolor\": \"#E1E5ED\", \"titlefont\": {\"color\": \"#4D5663\"}, \"zerolinecolor\": \"#E1E5ED\", \"showgrid\": true, \"title\": \"count\"}, \"xaxis1\": {\"tickfont\": {\"color\": \"#4D5663\"}, \"gridcolor\": \"#E1E5ED\", \"titlefont\": {\"color\": \"#4D5663\"}, \"zerolinecolor\": \"#E1E5ED\", \"showgrid\": true, \"title\": \"trigram\"}, \"titlefont\": {\"color\": \"#4D5663\"}, \"title\": \"Top 25 Trigrams by Count\", \"showlegend\": false}, {\"showLink\": true, \"linkText\": \"Export to plot.ly\"})});</script>"
      ],
      "text/vnd.plotly.v1+html": [
       "<div id=\"69829f09-1d07-474d-a182-494fa25d9654\" style=\"height: 525px; width: 100%;\" class=\"plotly-graph-div\"></div><script type=\"text/javascript\">require([\"plotly\"], function(Plotly) { window.PLOTLYENV=window.PLOTLYENV || {};window.PLOTLYENV.BASE_URL=\"https://plot.ly\";Plotly.newPlot(\"69829f09-1d07-474d-a182-494fa25d9654\", [{\"type\": \"bar\", \"x\": [\"staff super friendly\", \"love love love\", \"mac n cheese\", \"poor customer service\", \"food took forever\", \"food came quickly\", \"great customer service\", \"definitely recommend place\", \"sweet potato fries\", \"service great food\", \"great service great\", \"overall great experience\", \"great food great\", \"finally got chance\", \"love love place\", \"staff friendly attentive\", \"swiss chalet st\", \"chalet st hubert\", \"husband love place\", \"feel like family\", \"happy hour great\", \"vanilla ice cream\", \"service excellent food\", \"visiting las vegas\", \"food good service\"], \"y\": [8, 5, 5, 5, 4, 4, 4, 4, 4, 4, 3, 3, 3, 3, 3, 3, 3, 3, 3, 3, 3, 3, 3, 3, 3], \"name\": \"Count\", \"text\": \"\", \"marker\": {\"color\": \"rgba(55, 128, 191, 0.6)\", \"line\": {\"color\": \"rgba(55, 128, 191, 1.0)\", \"width\": 1}}, \"orientation\": \"v\"}], {\"legend\": {\"bgcolor\": \"#FFFFFF\", \"font\": {\"color\": \"#4D5663\"}}, \"paper_bgcolor\": \"#FFFFFF\", \"plot_bgcolor\": \"#FFFFFF\", \"yaxis1\": {\"tickfont\": {\"color\": \"#4D5663\"}, \"gridcolor\": \"#E1E5ED\", \"titlefont\": {\"color\": \"#4D5663\"}, \"zerolinecolor\": \"#E1E5ED\", \"showgrid\": true, \"title\": \"count\"}, \"xaxis1\": {\"tickfont\": {\"color\": \"#4D5663\"}, \"gridcolor\": \"#E1E5ED\", \"titlefont\": {\"color\": \"#4D5663\"}, \"zerolinecolor\": \"#E1E5ED\", \"showgrid\": true, \"title\": \"trigram\"}, \"titlefont\": {\"color\": \"#4D5663\"}, \"title\": \"Top 25 Trigrams by Count\", \"showlegend\": false}, {\"showLink\": true, \"linkText\": \"Export to plot.ly\"})});</script>"
      ]
     },
     "metadata": {},
     "output_type": "display_data"
    }
   ],
   "source": [
    "trigram_df = make_count_df(all_trigrams)\n",
    "trigram_plot = trigram_df.iplot(kind='bar', \n",
    "                                asFigure=True, \n",
    "                                xTitle='trigram', \n",
    "                                yTitle='count', \n",
    "                                title='Top 25 Trigrams by Count',\n",
    "                                color='blue')\n",
    "cf.iplot(trigram_plot, legend=False)"
   ]
  }
 ],
 "metadata": {
  "kernelspec": {
   "display_name": "Python 3",
   "language": "python",
   "name": "python3"
  },
  "language_info": {
   "codemirror_mode": {
    "name": "ipython",
    "version": 3
   },
   "file_extension": ".py",
   "mimetype": "text/x-python",
   "name": "python",
   "nbconvert_exporter": "python",
   "pygments_lexer": "ipython3",
   "version": "3.6.1"
  }
 },
 "nbformat": 4,
 "nbformat_minor": 2
}
